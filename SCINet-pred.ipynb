{
 "cells": [
  {
   "cell_type": "markdown",
   "id": "9c2a3f77",
   "metadata": {},
   "source": [
    "# SCINet\n",
    "\n",
    "코인의 변화량은 계절, 날짜, 시간대 등에서 큰 영향력을 가지고 있지 않다.  \n",
    "미래에 대한 알고있는 정보들 중에 쓰일만한 정보는 없다고 본다.  \n",
    "  \n",
    "다변량 시계열 데이터의 SOTA인 TFT 보다 단변량 시계열에서 우수한 SCINet을 적용한다. "
   ]
  },
  {
   "cell_type": "markdown",
   "id": "dde26509",
   "metadata": {},
   "source": [
    "![SCINet_ARC](SCINet_arc.png)"
   ]
  },
  {
   "cell_type": "markdown",
   "id": "21145a16",
   "metadata": {},
   "source": [
    "⊙ : hadamard product (아다마르 곱 : 두 행렬의 각 원소의 곱).mul  \n",
    "ψ,ϕ,η,ρ : 각각의 1d cnn  "
   ]
  },
  {
   "cell_type": "code",
   "execution_count": 1,
   "id": "eca34ef5",
   "metadata": {},
   "outputs": [],
   "source": [
    "import numpy as np\n",
    "import pandas as pd\n",
    "import time\n",
    "\n",
    "import warnings\n",
    "warnings.filterwarnings('ignore')"
   ]
  },
  {
   "cell_type": "code",
   "execution_count": 2,
   "id": "337c8a69",
   "metadata": {},
   "outputs": [
    {
     "data": {
      "text/html": [
       "<div>\n",
       "<style scoped>\n",
       "    .dataframe tbody tr th:only-of-type {\n",
       "        vertical-align: middle;\n",
       "    }\n",
       "\n",
       "    .dataframe tbody tr th {\n",
       "        vertical-align: top;\n",
       "    }\n",
       "\n",
       "    .dataframe thead th {\n",
       "        text-align: right;\n",
       "    }\n",
       "</style>\n",
       "<table border=\"1\" class=\"dataframe\">\n",
       "  <thead>\n",
       "    <tr style=\"text-align: right;\">\n",
       "      <th></th>\n",
       "      <th>open</th>\n",
       "      <th>high</th>\n",
       "      <th>low</th>\n",
       "      <th>close</th>\n",
       "      <th>volume</th>\n",
       "    </tr>\n",
       "  </thead>\n",
       "  <tbody>\n",
       "    <tr>\n",
       "      <th>2018-09-19 23:50:00</th>\n",
       "      <td>7180000.0</td>\n",
       "      <td>7187000.0</td>\n",
       "      <td>7180000.0</td>\n",
       "      <td>7187000.0</td>\n",
       "      <td>0.504830</td>\n",
       "    </tr>\n",
       "    <tr>\n",
       "      <th>2018-09-19 23:51:00</th>\n",
       "      <td>7186000.0</td>\n",
       "      <td>7188000.0</td>\n",
       "      <td>7181000.0</td>\n",
       "      <td>7181000.0</td>\n",
       "      <td>0.882076</td>\n",
       "    </tr>\n",
       "    <tr>\n",
       "      <th>2018-09-19 23:52:00</th>\n",
       "      <td>7184000.0</td>\n",
       "      <td>7188000.0</td>\n",
       "      <td>7183000.0</td>\n",
       "      <td>7188000.0</td>\n",
       "      <td>0.486359</td>\n",
       "    </tr>\n",
       "  </tbody>\n",
       "</table>\n",
       "</div>"
      ],
      "text/plain": [
       "                          open       high        low      close    volume\n",
       "2018-09-19 23:50:00  7180000.0  7187000.0  7180000.0  7187000.0  0.504830\n",
       "2018-09-19 23:51:00  7186000.0  7188000.0  7181000.0  7181000.0  0.882076\n",
       "2018-09-19 23:52:00  7184000.0  7188000.0  7183000.0  7188000.0  0.486359"
      ]
     },
     "execution_count": 2,
     "metadata": {},
     "output_type": "execute_result"
    }
   ],
   "source": [
    "df = pd.read_csv('./data/BTC-M.csv',parse_dates=[0], index_col=[0])\n",
    "df.drop('value',axis=1, inplace=True)\n",
    "df.head(3)"
   ]
  },
  {
   "cell_type": "code",
   "execution_count": 3,
   "id": "abba2586",
   "metadata": {},
   "outputs": [],
   "source": [
    "from pymodule.dllMod import pred_per\n",
    "pred = pred_per(df, 0.01)"
   ]
  },
  {
   "cell_type": "code",
   "execution_count": 4,
   "id": "5e152a11",
   "metadata": {},
   "outputs": [],
   "source": [
    "y = np.array(pred, dtype=np.float32)\n",
    "y = np.reciprocal(y)\n",
    "y[y == np.inf] = 0\n",
    "y = y / abs(y).max()\n",
    "y = np.tanh(y)"
   ]
  },
  {
   "cell_type": "code",
   "execution_count": 5,
   "id": "2181c3a6",
   "metadata": {},
   "outputs": [
    {
     "data": {
      "text/plain": [
       "1887907"
      ]
     },
     "execution_count": 5,
     "metadata": {},
     "output_type": "execute_result"
    }
   ],
   "source": [
    "from pymodule.dataMod import S2PDataset\n",
    "\n",
    "input_length = 64\n",
    "dataset = S2PDataset(df, input_length, y.flatten())\n",
    "len(dataset)"
   ]
  },
  {
   "cell_type": "code",
   "execution_count": 6,
   "id": "b2b32fe5",
   "metadata": {},
   "outputs": [
    {
     "name": "stdout",
     "output_type": "stream",
     "text": [
      "train dataset length : 1625763\n",
      "test dataset length : 262144\n"
     ]
    }
   ],
   "source": [
    "from torchvision import transforms\n",
    "from torch.utils.data import Subset, DataLoader\n",
    "\n",
    "test_size = 262144\n",
    "train_set= Subset(dataset, range(len(dataset)-test_size))\n",
    "test_set = Subset(dataset, range(len(dataset)-test_size, len(dataset)))\n",
    "print(f'train dataset length : {len(train_set)}')\n",
    "print(f'test dataset length : {len(test_set)}')\n",
    "\n",
    "\n",
    "train_dloader = DataLoader(train_set, batch_size=512, shuffle=False, drop_last=True)\n",
    "test_dloader = DataLoader(test_set, batch_size=128, shuffle=False)"
   ]
  },
  {
   "cell_type": "code",
   "execution_count": 7,
   "id": "8c6657dc",
   "metadata": {},
   "outputs": [
    {
     "data": {
      "text/plain": [
       "torch.Size([512, 1, 64])"
      ]
     },
     "execution_count": 7,
     "metadata": {},
     "output_type": "execute_result"
    }
   ],
   "source": [
    "train_features, train_labels = next(iter(train_dloader))\n",
    "train_features.size()"
   ]
  },
  {
   "cell_type": "code",
   "execution_count": 8,
   "id": "9eff30fb",
   "metadata": {},
   "outputs": [
    {
     "name": "stdout",
     "output_type": "stream",
     "text": [
      "cuda:0 is available\n"
     ]
    }
   ],
   "source": [
    "import torch\n",
    "device = torch.device('cuda:0' if torch.cuda.is_available() else 'cpu')\n",
    "print(f'{device} is available')"
   ]
  },
  {
   "cell_type": "code",
   "execution_count": 9,
   "id": "d9a629d6",
   "metadata": {},
   "outputs": [
    {
     "name": "stdout",
     "output_type": "stream",
     "text": [
      "torch.Size([512, 1, 1]) torch.Size([512])\n"
     ]
    }
   ],
   "source": [
    "import torch\n",
    "import torch.nn as nn\n",
    "import torch.optim as optim\n",
    "\n",
    "class SCI_Block(nn.Module):\n",
    "    def __init__(self, dropout=0.5):\n",
    "        super(SCI_Block,self).__init__()\n",
    "        self.dropout = dropout\n",
    "        self.pad = nn.ReplicationPad1d((1,0))\n",
    "        self.phi = nn.Sequential(\n",
    "            nn.ReplicationPad1d(3),\n",
    "            nn.Conv1d(1, 2, kernel_size=3,dilation=2, stride=1),\n",
    "            nn.BatchNorm1d(2),\n",
    "            nn.LeakyReLU(negative_slope=0.01, inplace=True),\n",
    "            nn.Dropout(self.dropout),\n",
    "            nn.Conv1d(2, 1, kernel_size=3),\n",
    "            nn.Tanh()\n",
    "        )\n",
    "        self.psi = nn.Sequential(\n",
    "            nn.ReplicationPad1d(3),\n",
    "            nn.Conv1d(1, 2, kernel_size=3,dilation=2, stride=1),\n",
    "            nn.BatchNorm1d(2),\n",
    "            nn.LeakyReLU(negative_slope=0.01, inplace=True),\n",
    "            nn.Dropout(self.dropout),\n",
    "            nn.Conv1d(2, 1, kernel_size=3),\n",
    "            nn.Tanh()\n",
    "        )\n",
    "        self.U   = nn.Sequential(\n",
    "            nn.ReplicationPad1d(3),\n",
    "            nn.Conv1d(1, 2, kernel_size=3,dilation=2, stride=1),\n",
    "            nn.BatchNorm1d(2),\n",
    "            nn.LeakyReLU(negative_slope=0.01, inplace=True),\n",
    "            nn.Dropout(self.dropout),\n",
    "            nn.Conv1d(2, 1, kernel_size=3),\n",
    "            nn.Tanh()\n",
    "        )\n",
    "        self.P   = nn.Sequential(\n",
    "            nn.ReplicationPad1d(3),\n",
    "            nn.Conv1d(1, 2, kernel_size=3,dilation=2, stride=1),\n",
    "            nn.BatchNorm1d(2),\n",
    "            nn.LeakyReLU(negative_slope=0.01, inplace=True),\n",
    "            nn.Dropout(self.dropout),\n",
    "            nn.Conv1d(2, 1, kernel_size=3),\n",
    "            nn.Tanh()\n",
    "        )\n",
    "    \n",
    "    def forward(self, F):\n",
    "        if F.size()[2] %2 == 1:\n",
    "            F = self.pad(F)\n",
    "        Fe = F[:, :,  ::2]\n",
    "        Fo = F[:, :, 1::2]\n",
    "        d = Fo.mul(torch.exp(self.phi(Fe)))\n",
    "        c = Fe.mul(torch.exp(self.psi(Fo)))\n",
    "        \n",
    "        Fe = c + self.U(d)\n",
    "        Fo = d - self.P(c)\n",
    "        \n",
    "        return Fo, Fe\n",
    "    \n",
    "\n",
    "class SCINet(nn.Module):\n",
    "    def __init__(self, L):\n",
    "        super(SCINet, self).__init__()\n",
    "        self.num_layer = 2**L-1\n",
    "        self.L = L\n",
    "        self.layers = nn.ModuleList(\n",
    "            [SCI_Block() for i in range(self.num_layer)])\n",
    "        self.fc = nn.Linear(64,1)\n",
    "        \n",
    "        \n",
    "    def forward(self, x):\n",
    "        results = [x]\n",
    "        mod_index = 0\n",
    "        for i in range(self.num_layer):\n",
    "            seq = results.pop(0)\n",
    "            Fo, Fe = self.layers[i](seq)\n",
    "            results.append(Fo)\n",
    "            results.append(Fe)\n",
    "        \n",
    "        interval = 2**(self.L-1)\n",
    "        while True:\n",
    "            res = []\n",
    "            for i in range(interval):\n",
    "                res.append(torch.cat((results[i], results[i+interval]),2))\n",
    "            \n",
    "            results = res\n",
    "            if interval == 1:\n",
    "                break\n",
    "            else:\n",
    "                interval = interval//2\n",
    "        x = x + results[0]\n",
    "        x = self.fc(x)\n",
    "        return x\n",
    "\n",
    "\n",
    "model = SCINet(4).to(device)\n",
    "l = model(train_features)\n",
    "print(l.size(), train_labels.size())\n",
    "optimizer = optim.AdamW(model.parameters(), lr = 1e-3)\n",
    "criterion = nn.MSELoss()"
   ]
  },
  {
   "cell_type": "code",
   "execution_count": 10,
   "id": "db1f0a03",
   "metadata": {},
   "outputs": [],
   "source": [
    "import pickle\n",
    "\n",
    "losses =[]\n",
    "val_losses=[]\n",
    "path = \"./SCINp.pt\"\n",
    "# with open(\"scin_train.pkl\", \"rb\") as fp:\n",
    "#     losses = pickle.load(fp)\n",
    "# with open(\"scin_test.pkl\", \"rb\") as fp:\n",
    "#     val_losses = pickle.load(fp)\n",
    "# model = torch.load(path).to(device)"
   ]
  },
  {
   "cell_type": "code",
   "execution_count": 11,
   "id": "240a3601",
   "metadata": {
    "scrolled": true
   },
   "outputs": [
    {
     "name": "stdout",
     "output_type": "stream",
     "text": [
      "epoch:0, trainloss is 5.362334530653971e-05\n",
      "epoch:0, validloss is 3.38953106561804e-06\n",
      "7.04분\n",
      "epoch:1, trainloss is 1.9418200785566256e-06\n",
      "epoch:1, validloss is 4.8076012089739995e-06\n",
      "13.90분\n",
      "epoch:2, trainloss is 1.7885063009649671e-06\n",
      "epoch:2, validloss is 3.173108740662286e-06\n",
      "20.81분\n",
      "epoch:3, trainloss is 1.6834911520986308e-06\n",
      "epoch:3, validloss is 3.1307212761265315e-06\n",
      "27.80분\n",
      "epoch:4, trainloss is 1.6657970798463825e-06\n",
      "epoch:4, validloss is 3.1417092293031305e-06\n",
      "34.92분\n",
      "epoch:5, trainloss is 1.666000703625162e-06\n",
      "epoch:5, validloss is 3.14105863856288e-06\n",
      "42.44분\n",
      "epoch:6, trainloss is 1.6642275989361764e-06\n",
      "epoch:6, validloss is 3.147214263935874e-06\n",
      "49.90분\n",
      "epoch:7, trainloss is 1.6636158288692734e-06\n",
      "epoch:7, validloss is 3.148853671768977e-06\n",
      "57.38분\n",
      "epoch:8, trainloss is 1.6630642251388615e-06\n",
      "epoch:8, validloss is 3.1425488031985285e-06\n",
      "64.88분\n",
      "epoch:9, trainloss is 1.662565244893709e-06\n",
      "epoch:9, validloss is 3.159513894635018e-06\n",
      "72.42분\n",
      "epoch:10, trainloss is 1.662336851254232e-06\n",
      "epoch:10, validloss is 3.1584420344902685e-06\n",
      "79.88분\n",
      "epoch:11, trainloss is 1.6628345450121764e-06\n",
      "epoch:11, validloss is 3.143920443835478e-06\n",
      "87.23분\n",
      "epoch:12, trainloss is 1.662880720190259e-06\n",
      "epoch:12, validloss is 3.1302908612105158e-06\n",
      "94.50분\n",
      "epoch:13, trainloss is 1.6618457382787137e-06\n",
      "epoch:13, validloss is 3.148472890867284e-06\n",
      "101.73분\n",
      "epoch:14, trainloss is 1.6613799362534686e-06\n",
      "epoch:14, validloss is 3.1608302682896162e-06\n",
      "109.21분\n",
      "epoch:15, trainloss is 1.6607790973726303e-06\n",
      "epoch:15, validloss is 3.1620136692162796e-06\n",
      "116.71분\n",
      "epoch:16, trainloss is 1.6605347133855966e-06\n",
      "epoch:16, validloss is 3.1344866784707517e-06\n",
      "124.25분\n",
      "epoch:17, trainloss is 1.6598215438968909e-06\n",
      "epoch:17, validloss is 3.137184203884602e-06\n",
      "131.82분\n",
      "epoch:18, trainloss is 1.6586504772288394e-06\n",
      "epoch:18, validloss is 3.1418807234262524e-06\n",
      "139.42분\n",
      "epoch:19, trainloss is 1.657335693415843e-06\n",
      "epoch:19, validloss is 3.157433293961607e-06\n",
      "146.91분\n",
      "epoch:20, trainloss is 1.656847073208444e-06\n",
      "epoch:20, validloss is 3.1487321693010085e-06\n",
      "154.40분\n",
      "epoch:21, trainloss is 1.6561500752531163e-06\n",
      "epoch:21, validloss is 3.15318265463953e-06\n",
      "161.98분\n",
      "epoch:22, trainloss is 1.6558178730939383e-06\n",
      "epoch:22, validloss is 3.138728008254249e-06\n",
      "169.54분\n",
      "epoch:23, trainloss is 1.6562160739144766e-06\n",
      "epoch:23, validloss is 3.146160855579809e-06\n",
      "177.10분\n",
      "epoch:24, trainloss is 1.6558359215154376e-06\n",
      "epoch:24, validloss is 3.1377381820290196e-06\n",
      "184.68분\n",
      "epoch:25, trainloss is 1.6556644478503236e-06\n",
      "epoch:25, validloss is 3.1320804247150476e-06\n",
      "192.31분\n",
      "epoch:26, trainloss is 1.6545903717209156e-06\n",
      "epoch:26, validloss is 3.13910550743326e-06\n",
      "199.82분\n",
      "epoch:27, trainloss is 1.6550814438587414e-06\n",
      "epoch:27, validloss is 3.1460421518825433e-06\n",
      "207.37분\n",
      "epoch:28, trainloss is 1.6549220041785857e-06\n",
      "epoch:28, validloss is 3.1260743426015974e-06\n",
      "214.81분\n",
      "epoch:29, trainloss is 1.6543838005688585e-06\n",
      "epoch:29, validloss is 3.134183364219642e-06\n",
      "222.27분\n",
      "epoch:30, trainloss is 1.654224329363261e-06\n",
      "epoch:30, validloss is 3.137922972088142e-06\n",
      "229.69분\n",
      "epoch:31, trainloss is 1.6552044507529129e-06\n",
      "epoch:31, validloss is 3.131086664961958e-06\n",
      "237.22분\n",
      "epoch:32, trainloss is 1.6545288422176724e-06\n",
      "epoch:32, validloss is 3.1435852842304983e-06\n",
      "244.75분\n",
      "epoch:33, trainloss is 1.6541199011280403e-06\n",
      "epoch:33, validloss is 3.1469853100242175e-06\n",
      "252.20분\n",
      "epoch:34, trainloss is 1.65433933333999e-06\n",
      "epoch:34, validloss is 3.145747590301755e-06\n",
      "259.74분\n",
      "epoch:35, trainloss is 1.6535160104143679e-06\n",
      "epoch:35, validloss is 3.1294118156463592e-06\n",
      "267.08분\n",
      "epoch:36, trainloss is 1.6542990717223017e-06\n",
      "epoch:36, validloss is 3.1308199727048125e-06\n",
      "274.30분\n",
      "epoch:37, trainloss is 1.6531487324514949e-06\n",
      "epoch:37, validloss is 3.1311470858925593e-06\n",
      "281.53분\n",
      "epoch:38, trainloss is 1.6542651353372341e-06\n",
      "epoch:38, validloss is 3.132069216524842e-06\n",
      "289.20분\n",
      "epoch:39, trainloss is 1.654061977058459e-06\n",
      "epoch:39, validloss is 3.133550477937727e-06\n",
      "296.66분\n",
      "epoch:40, trainloss is 1.6541168773381096e-06\n",
      "epoch:40, validloss is 3.134656288838935e-06\n",
      "304.47분\n",
      "epoch:41, trainloss is 1.6536410977506493e-06\n",
      "epoch:41, validloss is 3.1356348332752795e-06\n",
      "312.21분\n",
      "epoch:42, trainloss is 1.6538347954477177e-06\n",
      "epoch:42, validloss is 3.143118381616569e-06\n",
      "319.79분\n",
      "epoch:43, trainloss is 1.653194430114043e-06\n",
      "epoch:43, validloss is 3.126081790953293e-06\n",
      "327.36분\n",
      "epoch:44, trainloss is 1.654381933981396e-06\n",
      "epoch:44, validloss is 3.130666554033057e-06\n",
      "334.93분\n",
      "epoch:45, trainloss is 1.6538980273384783e-06\n",
      "epoch:45, validloss is 3.1492060652173594e-06\n",
      "342.74분\n",
      "epoch:46, trainloss is 1.6540809354758144e-06\n",
      "epoch:46, validloss is 3.1432337542637958e-06\n",
      "350.38분\n",
      "epoch:47, trainloss is 1.653678345163094e-06\n",
      "epoch:47, validloss is 3.131264543048865e-06\n",
      "357.95분\n"
     ]
    },
    {
     "ename": "KeyboardInterrupt",
     "evalue": "",
     "output_type": "error",
     "traceback": [
      "\u001b[1;31m---------------------------------------------------------------------------\u001b[0m",
      "\u001b[1;31mKeyboardInterrupt\u001b[0m                         Traceback (most recent call last)",
      "\u001b[1;32m~\\AppData\\Local\\Temp/ipykernel_5556/716651980.py\u001b[0m in \u001b[0;36m<module>\u001b[1;34m\u001b[0m\n\u001b[0;32m      3\u001b[0m \u001b[0mstart\u001b[0m \u001b[1;33m=\u001b[0m \u001b[0mtime\u001b[0m\u001b[1;33m.\u001b[0m\u001b[0mtime\u001b[0m\u001b[1;33m(\u001b[0m\u001b[1;33m)\u001b[0m\u001b[1;33m\u001b[0m\u001b[1;33m\u001b[0m\u001b[0m\n\u001b[0;32m      4\u001b[0m \u001b[1;32mfor\u001b[0m \u001b[0mepoch\u001b[0m \u001b[1;32min\u001b[0m \u001b[0mrange\u001b[0m\u001b[1;33m(\u001b[0m\u001b[1;36m50\u001b[0m\u001b[1;33m)\u001b[0m\u001b[1;33m:\u001b[0m\u001b[1;33m\u001b[0m\u001b[1;33m\u001b[0m\u001b[0m\n\u001b[1;32m----> 5\u001b[1;33m     \u001b[0mepoch_loss\u001b[0m \u001b[1;33m=\u001b[0m \u001b[0mfit\u001b[0m\u001b[1;33m(\u001b[0m\u001b[0mepoch\u001b[0m\u001b[1;33m,\u001b[0m\u001b[0mmodel\u001b[0m\u001b[1;33m,\u001b[0m\u001b[0mtrain_dloader\u001b[0m\u001b[1;33m,\u001b[0m \u001b[0mcriterion\u001b[0m\u001b[1;33m,\u001b[0m \u001b[0moptimizer\u001b[0m\u001b[1;33m,\u001b[0m \u001b[0mphase\u001b[0m \u001b[1;33m=\u001b[0m \u001b[1;34m'train'\u001b[0m\u001b[1;33m)\u001b[0m\u001b[1;33m\u001b[0m\u001b[1;33m\u001b[0m\u001b[0m\n\u001b[0m\u001b[0;32m      6\u001b[0m     \u001b[0mlosses\u001b[0m\u001b[1;33m.\u001b[0m\u001b[0mappend\u001b[0m\u001b[1;33m(\u001b[0m\u001b[0mepoch_loss\u001b[0m\u001b[1;33m)\u001b[0m\u001b[1;33m\u001b[0m\u001b[1;33m\u001b[0m\u001b[0m\n\u001b[0;32m      7\u001b[0m     \u001b[0mval_epoch_loss\u001b[0m \u001b[1;33m=\u001b[0m \u001b[0mfit\u001b[0m\u001b[1;33m(\u001b[0m\u001b[0mepoch\u001b[0m\u001b[1;33m,\u001b[0m \u001b[0mmodel\u001b[0m\u001b[1;33m,\u001b[0m \u001b[0mtest_dloader\u001b[0m\u001b[1;33m,\u001b[0m \u001b[0mcriterion\u001b[0m\u001b[1;33m,\u001b[0m \u001b[0moptimizer\u001b[0m\u001b[1;33m,\u001b[0m \u001b[0mphase\u001b[0m \u001b[1;33m=\u001b[0m\u001b[1;34m'valid'\u001b[0m\u001b[1;33m)\u001b[0m\u001b[1;33m\u001b[0m\u001b[1;33m\u001b[0m\u001b[0m\n",
      "\u001b[1;32mD:\\repos\\coins\\new\\pymodule\\models.py\u001b[0m in \u001b[0;36mfit\u001b[1;34m(epoch, model, data_loader, criterion, optimizer, phase, print_loss)\u001b[0m\n\u001b[0;32m    126\u001b[0m         \u001b[1;32mif\u001b[0m \u001b[0mphase\u001b[0m \u001b[1;33m==\u001b[0m \u001b[1;34m'train'\u001b[0m\u001b[1;33m:\u001b[0m\u001b[1;33m\u001b[0m\u001b[1;33m\u001b[0m\u001b[0m\n\u001b[0;32m    127\u001b[0m             \u001b[0mloss\u001b[0m\u001b[1;33m.\u001b[0m\u001b[0mbackward\u001b[0m\u001b[1;33m(\u001b[0m\u001b[1;33m)\u001b[0m\u001b[1;33m\u001b[0m\u001b[1;33m\u001b[0m\u001b[0m\n\u001b[1;32m--> 128\u001b[1;33m             \u001b[0moptimizer\u001b[0m\u001b[1;33m.\u001b[0m\u001b[0mstep\u001b[0m\u001b[1;33m(\u001b[0m\u001b[1;33m)\u001b[0m\u001b[1;33m\u001b[0m\u001b[1;33m\u001b[0m\u001b[0m\n\u001b[0m\u001b[0;32m    129\u001b[0m \u001b[1;33m\u001b[0m\u001b[0m\n\u001b[0;32m    130\u001b[0m     \u001b[0mloss\u001b[0m \u001b[1;33m=\u001b[0m \u001b[0mrunning_loss\u001b[0m \u001b[1;33m/\u001b[0m \u001b[0mlen\u001b[0m\u001b[1;33m(\u001b[0m\u001b[0mdata_loader\u001b[0m\u001b[1;33m.\u001b[0m\u001b[0mdataset\u001b[0m\u001b[1;33m)\u001b[0m\u001b[1;33m\u001b[0m\u001b[1;33m\u001b[0m\u001b[0m\n",
      "\u001b[1;32mD:\\Anaconda\\envs\\gaza\\lib\\site-packages\\torch\\optim\\optimizer.py\u001b[0m in \u001b[0;36mwrapper\u001b[1;34m(*args, **kwargs)\u001b[0m\n\u001b[0;32m     86\u001b[0m                 \u001b[0mprofile_name\u001b[0m \u001b[1;33m=\u001b[0m \u001b[1;34m\"Optimizer.step#{}.step\"\u001b[0m\u001b[1;33m.\u001b[0m\u001b[0mformat\u001b[0m\u001b[1;33m(\u001b[0m\u001b[0mobj\u001b[0m\u001b[1;33m.\u001b[0m\u001b[0m__class__\u001b[0m\u001b[1;33m.\u001b[0m\u001b[0m__name__\u001b[0m\u001b[1;33m)\u001b[0m\u001b[1;33m\u001b[0m\u001b[1;33m\u001b[0m\u001b[0m\n\u001b[0;32m     87\u001b[0m                 \u001b[1;32mwith\u001b[0m \u001b[0mtorch\u001b[0m\u001b[1;33m.\u001b[0m\u001b[0mautograd\u001b[0m\u001b[1;33m.\u001b[0m\u001b[0mprofiler\u001b[0m\u001b[1;33m.\u001b[0m\u001b[0mrecord_function\u001b[0m\u001b[1;33m(\u001b[0m\u001b[0mprofile_name\u001b[0m\u001b[1;33m)\u001b[0m\u001b[1;33m:\u001b[0m\u001b[1;33m\u001b[0m\u001b[1;33m\u001b[0m\u001b[0m\n\u001b[1;32m---> 88\u001b[1;33m                     \u001b[1;32mreturn\u001b[0m \u001b[0mfunc\u001b[0m\u001b[1;33m(\u001b[0m\u001b[1;33m*\u001b[0m\u001b[0margs\u001b[0m\u001b[1;33m,\u001b[0m \u001b[1;33m**\u001b[0m\u001b[0mkwargs\u001b[0m\u001b[1;33m)\u001b[0m\u001b[1;33m\u001b[0m\u001b[1;33m\u001b[0m\u001b[0m\n\u001b[0m\u001b[0;32m     89\u001b[0m             \u001b[1;32mreturn\u001b[0m \u001b[0mwrapper\u001b[0m\u001b[1;33m\u001b[0m\u001b[1;33m\u001b[0m\u001b[0m\n\u001b[0;32m     90\u001b[0m \u001b[1;33m\u001b[0m\u001b[0m\n",
      "\u001b[1;32mD:\\Anaconda\\envs\\gaza\\lib\\site-packages\\torch\\autograd\\grad_mode.py\u001b[0m in \u001b[0;36mdecorate_context\u001b[1;34m(*args, **kwargs)\u001b[0m\n\u001b[0;32m     26\u001b[0m         \u001b[1;32mdef\u001b[0m \u001b[0mdecorate_context\u001b[0m\u001b[1;33m(\u001b[0m\u001b[1;33m*\u001b[0m\u001b[0margs\u001b[0m\u001b[1;33m,\u001b[0m \u001b[1;33m**\u001b[0m\u001b[0mkwargs\u001b[0m\u001b[1;33m)\u001b[0m\u001b[1;33m:\u001b[0m\u001b[1;33m\u001b[0m\u001b[1;33m\u001b[0m\u001b[0m\n\u001b[0;32m     27\u001b[0m             \u001b[1;32mwith\u001b[0m \u001b[0mself\u001b[0m\u001b[1;33m.\u001b[0m\u001b[0m__class__\u001b[0m\u001b[1;33m(\u001b[0m\u001b[1;33m)\u001b[0m\u001b[1;33m:\u001b[0m\u001b[1;33m\u001b[0m\u001b[1;33m\u001b[0m\u001b[0m\n\u001b[1;32m---> 28\u001b[1;33m                 \u001b[1;32mreturn\u001b[0m \u001b[0mfunc\u001b[0m\u001b[1;33m(\u001b[0m\u001b[1;33m*\u001b[0m\u001b[0margs\u001b[0m\u001b[1;33m,\u001b[0m \u001b[1;33m**\u001b[0m\u001b[0mkwargs\u001b[0m\u001b[1;33m)\u001b[0m\u001b[1;33m\u001b[0m\u001b[1;33m\u001b[0m\u001b[0m\n\u001b[0m\u001b[0;32m     29\u001b[0m         \u001b[1;32mreturn\u001b[0m \u001b[0mcast\u001b[0m\u001b[1;33m(\u001b[0m\u001b[0mF\u001b[0m\u001b[1;33m,\u001b[0m \u001b[0mdecorate_context\u001b[0m\u001b[1;33m)\u001b[0m\u001b[1;33m\u001b[0m\u001b[1;33m\u001b[0m\u001b[0m\n\u001b[0;32m     30\u001b[0m \u001b[1;33m\u001b[0m\u001b[0m\n",
      "\u001b[1;32mD:\\Anaconda\\envs\\gaza\\lib\\site-packages\\torch\\optim\\adamw.py\u001b[0m in \u001b[0;36mstep\u001b[1;34m(self, closure)\u001b[0m\n\u001b[0;32m    135\u001b[0m                 \u001b[0mstate_steps\u001b[0m\u001b[1;33m.\u001b[0m\u001b[0mappend\u001b[0m\u001b[1;33m(\u001b[0m\u001b[0mstate\u001b[0m\u001b[1;33m[\u001b[0m\u001b[1;34m'step'\u001b[0m\u001b[1;33m]\u001b[0m\u001b[1;33m)\u001b[0m\u001b[1;33m\u001b[0m\u001b[1;33m\u001b[0m\u001b[0m\n\u001b[0;32m    136\u001b[0m \u001b[1;33m\u001b[0m\u001b[0m\n\u001b[1;32m--> 137\u001b[1;33m             F.adamw(params_with_grad,\n\u001b[0m\u001b[0;32m    138\u001b[0m                     \u001b[0mgrads\u001b[0m\u001b[1;33m,\u001b[0m\u001b[1;33m\u001b[0m\u001b[1;33m\u001b[0m\u001b[0m\n\u001b[0;32m    139\u001b[0m                     \u001b[0mexp_avgs\u001b[0m\u001b[1;33m,\u001b[0m\u001b[1;33m\u001b[0m\u001b[1;33m\u001b[0m\u001b[0m\n",
      "\u001b[1;32mD:\\Anaconda\\envs\\gaza\\lib\\site-packages\\torch\\optim\\_functional.py\u001b[0m in \u001b[0;36madamw\u001b[1;34m(params, grads, exp_avgs, exp_avg_sqs, max_exp_avg_sqs, state_steps, amsgrad, beta1, beta2, lr, weight_decay, eps)\u001b[0m\n\u001b[0;32m    130\u001b[0m         \u001b[1;31m# Decay the first and second moment running average coefficient\u001b[0m\u001b[1;33m\u001b[0m\u001b[1;33m\u001b[0m\u001b[0m\n\u001b[0;32m    131\u001b[0m         \u001b[0mexp_avg\u001b[0m\u001b[1;33m.\u001b[0m\u001b[0mmul_\u001b[0m\u001b[1;33m(\u001b[0m\u001b[0mbeta1\u001b[0m\u001b[1;33m)\u001b[0m\u001b[1;33m.\u001b[0m\u001b[0madd_\u001b[0m\u001b[1;33m(\u001b[0m\u001b[0mgrad\u001b[0m\u001b[1;33m,\u001b[0m \u001b[0malpha\u001b[0m\u001b[1;33m=\u001b[0m\u001b[1;36m1\u001b[0m \u001b[1;33m-\u001b[0m \u001b[0mbeta1\u001b[0m\u001b[1;33m)\u001b[0m\u001b[1;33m\u001b[0m\u001b[1;33m\u001b[0m\u001b[0m\n\u001b[1;32m--> 132\u001b[1;33m         \u001b[0mexp_avg_sq\u001b[0m\u001b[1;33m.\u001b[0m\u001b[0mmul_\u001b[0m\u001b[1;33m(\u001b[0m\u001b[0mbeta2\u001b[0m\u001b[1;33m)\u001b[0m\u001b[1;33m.\u001b[0m\u001b[0maddcmul_\u001b[0m\u001b[1;33m(\u001b[0m\u001b[0mgrad\u001b[0m\u001b[1;33m,\u001b[0m \u001b[0mgrad\u001b[0m\u001b[1;33m,\u001b[0m \u001b[0mvalue\u001b[0m\u001b[1;33m=\u001b[0m\u001b[1;36m1\u001b[0m \u001b[1;33m-\u001b[0m \u001b[0mbeta2\u001b[0m\u001b[1;33m)\u001b[0m\u001b[1;33m\u001b[0m\u001b[1;33m\u001b[0m\u001b[0m\n\u001b[0m\u001b[0;32m    133\u001b[0m         \u001b[1;32mif\u001b[0m \u001b[0mamsgrad\u001b[0m\u001b[1;33m:\u001b[0m\u001b[1;33m\u001b[0m\u001b[1;33m\u001b[0m\u001b[0m\n\u001b[0;32m    134\u001b[0m             \u001b[1;31m# Maintains the maximum of all 2nd moment running avg. till now\u001b[0m\u001b[1;33m\u001b[0m\u001b[1;33m\u001b[0m\u001b[0m\n",
      "\u001b[1;31mKeyboardInterrupt\u001b[0m: "
     ]
    }
   ],
   "source": [
    "from pymodule.models import fit\n",
    "\n",
    "start = time.time()\n",
    "for epoch in range(50):\n",
    "    epoch_loss = fit(epoch,model,train_dloader, criterion, optimizer, phase = 'train')\n",
    "    losses.append(epoch_loss)\n",
    "    val_epoch_loss = fit(epoch, model, test_dloader, criterion, optimizer, phase ='valid')\n",
    "    val_losses.append(val_epoch_loss)\n",
    "    print(\"{:0,.2f}분\".format((time.time()-start)/60))\n",
    "torch.save(model, path)"
   ]
  },
  {
   "cell_type": "code",
   "execution_count": 12,
   "id": "5894b06e",
   "metadata": {},
   "outputs": [],
   "source": [
    "torch.save(model, path)"
   ]
  },
  {
   "cell_type": "code",
   "execution_count": 18,
   "id": "2737709f",
   "metadata": {},
   "outputs": [
    {
     "data": {
      "image/png": "[encoded data removed]",
      "text/plain": [
       "<Figure size 1080x360 with 2 Axes>"
      ]
     },
     "metadata": {
      "needs_background": "light"
     },
     "output_type": "display_data"
    }
   ],
   "source": [
    "import matplotlib.pyplot as plt\n",
    "f,ax = plt.subplots(1,2, figsize=(15,5))\n",
    "ax[0].plot(losses[2:])\n",
    "ax[0].set_title('train losses')\n",
    "\n",
    "ax[1].plot(val_losses[2:])\n",
    "ax[1].set_title('test losses')\n",
    "plt.show()"
   ]
  },
  {
   "cell_type": "code",
   "execution_count": 14,
   "id": "3024882f",
   "metadata": {},
   "outputs": [],
   "source": [
    "with open(\"scinp_train.pkl\", \"wb\") as fp:\n",
    "    pickle.dump(losses,fp)\n",
    "with open(\"scinp_test.pkl\", \"wb\") as fp:\n",
    "    pickle.dump(val_losses, fp)"
   ]
  },
  {
   "cell_type": "code",
   "execution_count": null,
   "id": "270ed538",
   "metadata": {},
   "outputs": [],
   "source": [
    "import torch.onnx\n",
    "model.eval()\n",
    "dummy_input = torch.randn(1,1,64).to(device)\n",
    "torch_out = model(dummy_input)\n",
    "\n",
    "torch.onnx.export(model, dummy_input, \"SCInp.onnx\", export_params=True,\n",
    "                 do_constant_folding=True, input_names=['input'], output_names=['output'],\n",
    "                 opset_version=9)"
   ]
  }
 ],
 "metadata": {
  "kernelspec": {
   "display_name": "Python 3 (ipykernel)",
   "language": "python",
   "name": "python3"
  },
  "language_info": {
   "codemirror_mode": {
    "name": "ipython",
    "version": 3
   },
   "file_extension": ".py",
   "mimetype": "text/x-python",
   "name": "python",
   "nbconvert_exporter": "python",
   "pygments_lexer": "ipython3",
   "version": "3.9.7"
  }
 },
 "nbformat": 4,
 "nbformat_minor": 5
}
