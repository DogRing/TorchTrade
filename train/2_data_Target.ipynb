{
 "cells": [
  {
   "cell_type": "markdown",
   "metadata": {},
   "source": [
    "# Target 값 추출"
   ]
  },
  {
   "cell_type": "markdown",
   "metadata": {},
   "source": [
    "Target 값\n",
    " - Period : n일 후 목표 변동률에 도달한다. \n",
    " - pred10EMA : 10분후의 EMA 값을 목표로 한다. "
   ]
  },
  {
   "cell_type": "code",
   "execution_count": 1,
   "metadata": {},
   "outputs": [],
   "source": [
    "import numpy as np\n",
    "import pandas as pd\n",
    "import ctypes\n",
    "\n",
    "from modules.local_values import datas\n",
    "import modules.indicators as idc \n",
    "pd.set_option('float_format', '{:.2f}'.format)"
   ]
  },
  {
   "cell_type": "code",
   "execution_count": 31,
   "metadata": {},
   "outputs": [
    {
     "name": "stderr",
     "output_type": "stream",
     "text": [
      "/home/changh/anaconda3/envs/TTrade/lib/python3.11/site-packages/pandas/core/base.py:662: RuntimeWarning: invalid value encountered in cast\n",
      "  result = np.asarray(values, dtype=dtype)\n"
     ]
    }
   ],
   "source": [
    "### Period\n",
    "from modules.c_dll import pred_close\n",
    "\n",
    "df = pd.read_csv('./raw_data/KRW-BTC.csv', parse_dates=[0], index_col=[0])\n",
    "c_y = pred_close(0.005, df['close'])\n",
    "y = pd.DataFrame(list(c_y),columns=['period'])\n",
    "y.index = df.index"
   ]
  },
  {
   "cell_type": "code",
   "execution_count": 32,
   "metadata": {},
   "outputs": [],
   "source": [
    "df['pred20EMA10'] = idc.EMA(df,10).shift(-20)-df.close\n",
    "y['pred20EMA10'] = df['pred20EMA10'] / df['pred20EMA10'].abs().max()"
   ]
  },
  {
   "cell_type": "markdown",
   "metadata": {},
   "source": [
    "## 정규화 및 값 저장"
   ]
  },
  {
   "cell_type": "code",
   "execution_count": 34,
   "metadata": {},
   "outputs": [],
   "source": [
    "from modules.local_values import raw_datas, target_datas\n",
    "\n",
    "for file,raw_file in zip(target_datas,raw_datas):\n",
    "    df=pd.read_csv(raw_file,parse_dates=[0],index_col=[0])\n",
    "    c_y = pred_close(0.005, df['close'])\n",
    "    y = pd.DataFrame(list(c_y),columns=['period'])\n",
    "    y.index = df.index\n",
    "\n",
    "    df['pred20EMA10'] = idc.EMA(df,10).shift(-20)-df.close\n",
    "    y['pred20EMA10'] = df['pred20EMA10'] / df['pred20EMA10'].abs().max()\n",
    "\n",
    "    y = (y - y.mean())/y.std()\n",
    "\n",
    "    y.to_csv(file)"
   ]
  }
 ],
 "metadata": {
  "kernelspec": {
   "display_name": "Python 3 (ipykernel)",
   "language": "python",
   "name": "python3"
  },
  "language_info": {
   "codemirror_mode": {
    "name": "ipython",
    "version": 3
   },
   "file_extension": ".py",
   "mimetype": "text/x-python",
   "name": "python",
   "nbconvert_exporter": "python",
   "pygments_lexer": "ipython3",
   "version": "3.11.5"
  }
 },
 "nbformat": 4,
 "nbformat_minor": 2
}
