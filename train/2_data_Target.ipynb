{
 "cells": [
  {
   "cell_type": "markdown",
   "metadata": {},
   "source": [
    "# Target 값 추출"
   ]
  },
  {
   "cell_type": "markdown",
   "metadata": {},
   "source": [
    "Target 값\n",
    " - Period : n일 후 목표 변동률에 도달한다. \n",
    " - pred10EMA : 10분후의 EMA 값을 목표로 한다. "
   ]
  },
  {
   "cell_type": "code",
   "execution_count": 1,
   "metadata": {},
   "outputs": [],
   "source": [
    "import numpy as np\n",
    "import pandas as pd\n",
    "import ctypes\n",
    "\n",
    "from modules.local_values import raw_datas,datas\n",
    "import modules.indicators as idc \n",
    "pd.set_option('float_format', '{:.2f}'.format)"
   ]
  },
  {
   "cell_type": "code",
   "execution_count": 2,
   "metadata": {},
   "outputs": [],
   "source": [
    "### Period\n",
    "from modules.c_dll import pred_close\n",
    "\n",
    "df = pd.read_csv(raw_datas[0], parse_dates=[0], index_col=[0])\n",
    "df=df.resample(rule='T').first()\n",
    "df[['volume','value']]=df[['volume','value']].fillna(0)\n",
    "df=df.interpolate()\n",
    "c_y = pred_close(0.005, df['close'])\n",
    "y = pd.DataFrame(list(c_y),columns=['period'])\n",
    "y.index = df.index"
   ]
  },
  {
   "cell_type": "code",
   "execution_count": 3,
   "metadata": {},
   "outputs": [],
   "source": [
    "df['pred20EMA10'] = idc.EMA(df,10).shift(-20)-df.close\n",
    "y['pred20EMA10'] = df['pred20EMA10'] / df['pred20EMA10'].abs().max()"
   ]
  },
  {
   "cell_type": "code",
   "execution_count": 4,
   "metadata": {},
   "outputs": [
    {
     "data": {
      "text/plain": [
       "3445152"
      ]
     },
     "execution_count": 4,
     "metadata": {},
     "output_type": "execute_result"
    }
   ],
   "source": [
    "len(df)"
   ]
  },
  {
   "cell_type": "markdown",
   "metadata": {},
   "source": [
    "## 정규화 및 값 저장"
   ]
  },
  {
   "cell_type": "code",
   "execution_count": 5,
   "metadata": {},
   "outputs": [],
   "source": [
    "from modules.local_values import raw_datas, target_datas\n",
    "\n",
    "for file,raw_file in zip(target_datas,raw_datas):\n",
    "    df=pd.read_csv(raw_file,parse_dates=[0],index_col=[0])\n",
    "    df=df.resample(rule='T').first()\n",
    "    df[['volume','value']]=df[['volume','value']].fillna(0)\n",
    "    df=df.interpolate()s\n",
    "    \n",
    "    c_y = pred_close(0.005, df['close'])\n",
    "    y = pd.DataFrame(list(c_y),columns=['period'])\n",
    "    y.index = df.index\n",
    "\n",
    "    df['pred20EMA10'] = idc.EMA(df,10).shift(-20)-df.close\n",
    "    y['pred20EMA10'] = df['pred20EMA10'] / df['pred20EMA10'].abs().max()\n",
    "\n",
    "    y = (y - y.mean())/y.std()\n",
    "\n",
    "    y.to_csv(file)"
   ]
  }
 ],
 "metadata": {
  "kernelspec": {
   "display_name": "Python 3 (ipykernel)",
   "language": "python",
   "name": "python3"
  },
  "language_info": {
   "codemirror_mode": {
    "name": "ipython",
    "version": 3
   },
   "file_extension": ".py",
   "mimetype": "text/x-python",
   "name": "python",
   "nbconvert_exporter": "python",
   "pygments_lexer": "ipython3",
   "version": "3.11.5"
  }
 },
 "nbformat": 4,
 "nbformat_minor": 4
}
