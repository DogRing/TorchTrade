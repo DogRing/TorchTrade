{
 "cells": [
  {
   "cell_type": "markdown",
   "metadata": {},
   "source": [
    "# Upbit API를 이용한 데이터 수집\n",
    "3초마다 200개의 자료를 수집하여 저장"
   ]
  },
  {
   "cell_type": "code",
   "execution_count": null,
   "metadata": {},
   "outputs": [],
   "source": [
    "from datetime import datetime\n",
    "import pandas as pd\n",
    "import json\n",
    "\n",
    "# json to DataFrame\n",
    "def resToDF(json_text):\n",
    "    contents = json.loads(json_text)\n",
    "    contents = pd.DataFrame(contents,columns=[\n",
    "                                'candle_date_time_kst','opening_price','high_price','low_price',\n",
    "                                'trade_price','candle_acc_trade_volume','candle_acc_trade_price'])\n",
    "    contents = contents.set_index('candle_date_time_kst')\n",
    "    contents.index=pd.to_datetime(contents.index)\n",
    "    return contents\n",
    "\n",
    "def get_line_time(file_name, line_number):\n",
    "    try: \n",
    "        with open(file_name, \"r\") as f:\n",
    "            line = f.readlines()[line_number].strip().split(\",\")\n",
    "            return datetime.strptime(line[0], '%Y-%m-%d %H:%M:%S')\n",
    "    except ValueError:\n",
    "        print(\"empty file:\", file_name)\n",
    "        return datetime.now()"
   ]
  },
  {
   "cell_type": "code",
   "execution_count": null,
   "metadata": {},
   "outputs": [],
   "source": [
    "from modules.local_values import tickers, raw_folder\n",
    "import os\n",
    "if os.path.exists(raw_folder)==False:\n",
    "    os.makedirs(raw_folder)\n",
    "\n",
    "for tick in tickers:\n",
    "    file_name=raw_folder+tick+'.csv'\n",
    "    if os.path.exists(file_name)==False:\n",
    "        with open(file_name,'w') as file:\n",
    "            file.write(\",open,high,low,close,volume,value\\n\")"
   ]
  },
  {
   "cell_type": "code",
   "execution_count": null,
   "metadata": {},
   "outputs": [],
   "source": [
    "from datetime import timedelta\n",
    "import requests\n",
    "import time\n",
    "\n",
    "count=200\n",
    "headers = {\"accept\": \"application/json\"}\n",
    "for tick in tickers:\n",
    "    file_name=raw_folder+tick+'.csv'\n",
    "    url=f'https://api.upbit.com/v1/candles/minutes/1?market={tick}&count={count}&to='\n",
    "    tick_len=0\n",
    "    to_time = get_line_time(file_name,-1)\n",
    "\n",
    "    while True:\n",
    "        to_time=(to_time-timedelta(hours=9)).strftime('%Y-%m-%dT%H:%M:%S')\n",
    "        response=requests.get(url+to_time, headers=headers)\n",
    "        contents=resToDF(response.text)\n",
    "        time.sleep(3)\n",
    "        if contents.shape[0] != 200:\n",
    "            print(f'{tick} updates ~ {to_time} = {tick_len} length')\n",
    "            break\n",
    "        to_time=contents.index[-1]\n",
    "        contents.to_csv(file_name,mode='a',header=False)\n",
    "        tick_len += contents.shape[0]"
   ]
  },
  {
   "cell_type": "markdown",
   "metadata": {},
   "source": [
    "### Data 파악\n",
    "|index|open|high|low|close|volume|value|\n",
    "|-----|----|----|---|-----|------|-----|\n",
    "|UTC 기준|시가|고가|저가|종가|누적 거래량|누적 거래금액|"
   ]
  },
  {
   "cell_type": "code",
   "execution_count": null,
   "metadata": {},
   "outputs": [],
   "source": [
    "from modules.local_values import tickers, raw_datas\n",
    "import matplotlib.pyplot as plt\n",
    "%matplotlib inline"
   ]
  },
  {
   "cell_type": "code",
   "execution_count": null,
   "metadata": {},
   "outputs": [],
   "source": [
    "df = pd.read_csv(raw_datas[0],parse_dates=[0],index_col=[0])\n",
    "df.describe()"
   ]
  },
  {
   "cell_type": "code",
   "execution_count": null,
   "metadata": {},
   "outputs": [],
   "source": [
    "for file_name,tick in zip(raw_datas,tickers):\n",
    "    df=pd.read_csv(file_name,parse_dates=[0],index_col=[0])\n",
    "    df=df.resample(rule='W').first()\n",
    "    df_min_max=df['close']-df['close'].min()\n",
    "    df_min_max=df_min_max/df_min_max.max()\n",
    "    plt.plot(df_min_max,label=tick)\n",
    "\n",
    "plt.yticks([],[])\n",
    "plt.legend()\n",
    "plt.show()"
   ]
  },
  {
   "cell_type": "markdown",
   "metadata": {},
   "source": [
    "### 결측 데이터 확인\n",
    "NaN 값 확인"
   ]
  },
  {
   "cell_type": "code",
   "execution_count": null,
   "metadata": {},
   "outputs": [],
   "source": [
    "for file_name,tick in zip(raw_datas,tickers):\n",
    "    df=pd.read_csv(file_name,parse_dates=[0],index_col=[0])\n",
    "    df=df.resample(rule='T').first()\n",
    "    msg='Data{:>9}\\tTotal:{:>8}\\t NaN:{:7}' \\\n",
    "        .format(tick,len(df),df['open'].isnull().sum())\n",
    "    print(msg)"
   ]
  },
  {
   "cell_type": "code",
   "execution_count": null,
   "metadata": {},
   "outputs": [],
   "source": []
  }
 ],
 "metadata": {
  "kernelspec": {
   "display_name": "ttrade",
   "language": "python",
   "name": "python3"
  },
  "language_info": {
   "codemirror_mode": {
    "name": "ipython",
    "version": 3
   },
   "file_extension": ".py",
   "mimetype": "text/x-python",
   "name": "python",
   "nbconvert_exporter": "python",
   "pygments_lexer": "ipython3",
   "version": "3.11.5"
  }
 },
 "nbformat": 4,
 "nbformat_minor": 2
}
