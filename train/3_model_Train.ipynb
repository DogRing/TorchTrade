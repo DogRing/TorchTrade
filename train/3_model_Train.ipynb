{
 "cells": [
  {
   "cell_type": "code",
   "execution_count": 1,
   "metadata": {},
   "outputs": [],
   "source": [
    "import numpy as np\n",
    "import pandas as pd\n",
    "import time\n",
    "import matplotlib.pyplot as plt\n",
    "%matplotlib inline\n",
    "\n",
    "import warnings\n",
    "warnings.filterwarnings('ignore')"
   ]
  },
  {
   "cell_type": "code",
   "execution_count": 2,
   "metadata": {},
   "outputs": [
    {
     "name": "stdout",
     "output_type": "stream",
     "text": [
      "cuda:0\n"
     ]
    }
   ],
   "source": [
    "import torch\n",
    "from torch.utils.data import Dataset, DataLoader, Subset\n",
    "device = torch.device('cuda:0' if torch.cuda.is_available() else 'cpu')\n",
    "print(device)"
   ]
  },
  {
   "cell_type": "code",
   "execution_count": 3,
   "metadata": {},
   "outputs": [
    {
     "data": {
      "text/plain": [
       "3255670"
      ]
     },
     "execution_count": 3,
     "metadata": {},
     "output_type": "execute_result"
    }
   ],
   "source": [
    "from modules.local_values import datas, target_datas\n",
    "\n",
    "class CDataset(Dataset):\n",
    "    def __init__(self, x, y, seq_length):\n",
    "        super(CDataset, self).__init__()\n",
    "        self.s_len = seq_length\n",
    "    \n",
    "    ### x data\n",
    "        self.x = pd.read_csv(x,parse_dates=[0],index_col=[0])\n",
    "        self.x = torch.FloatTensor(self.x[60:-80].T.values).to(device)\n",
    "        self.len = len(self.x[0])-self.s_len\n",
    "\n",
    "    ### y data\n",
    "        self.y = pd.read_csv(y,parse_dates=[0],index_col=[0])\n",
    "        self.y = torch.FloatTensor(self.y[60:-80].T.values).to(device)\n",
    "\n",
    "    def __getitem__(self, index):\n",
    "        self.x_data = self.x[:,index:index+self.s_len]\n",
    "        self.y_data = self.y[:,index:index+self.s_len]\n",
    "        return self.x_data, self.y_data\n",
    "    \n",
    "    def __len__(self):\n",
    "        return self.len\n",
    "\n",
    "dataset = CDataset(datas[0], target_datas[0], 64)\n",
    "len(dataset)"
   ]
  },
  {
   "cell_type": "code",
   "execution_count": 4,
   "metadata": {},
   "outputs": [],
   "source": [
    "test_size = 262144\n",
    "train_set = Subset(dataset, range(len(dataset)-test_size))\n",
    "test_set = Subset(dataset, range(len(dataset)-test_size,len(dataset)))\n",
    "\n",
    "train_dloader = DataLoader(train_set, batch_size=256, shuffle=False, drop_last=True)\n",
    "test_dloader = DataLoader(test_set, batch_size=128, shuffle=False, drop_last=True)"
   ]
  },
  {
   "cell_type": "code",
   "execution_count": 7,
   "metadata": {},
   "outputs": [
    {
     "name": "stdout",
     "output_type": "stream",
     "text": [
      "torch.Size([256, 11, 64]) torch.Size([256, 6, 64])\n"
     ]
    }
   ],
   "source": [
    "train_features, train_labels = next(iter(train_dloader))\n",
    "print(train_features.shape, train_labels.shape)"
   ]
  },
  {
   "cell_type": "code",
   "execution_count": null,
   "metadata": {},
   "outputs": [],
   "source": []
  }
 ],
 "metadata": {
  "kernelspec": {
   "display_name": "TTrade",
   "language": "python",
   "name": "python3"
  },
  "language_info": {
   "codemirror_mode": {
    "name": "ipython",
    "version": 3
   },
   "file_extension": ".py",
   "mimetype": "text/x-python",
   "name": "python",
   "nbconvert_exporter": "python",
   "pygments_lexer": "ipython3",
   "version": "3.11.5"
  }
 },
 "nbformat": 4,
 "nbformat_minor": 2
}
