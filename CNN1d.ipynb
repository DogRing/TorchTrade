{
 "cells": [
  {
   "cell_type": "code",
   "execution_count": 1,
   "id": "652d673d",
   "metadata": {},
   "outputs": [],
   "source": [
    "import numpy as np\n",
    "import pandas as pd\n",
    "from IPython.display import clear_output\n",
    "import time\n",
    "\n",
    "from numpy.ctypeslib import ndpointer\n",
    "import ctypes\n",
    "\n",
    "import warnings\n",
    "warnings.filterwarnings('ignore')"
   ]
  },
  {
   "cell_type": "code",
   "execution_count": 2,
   "id": "34886eb3",
   "metadata": {
    "scrolled": true
   },
   "outputs": [
    {
     "data": {
      "text/html": [
       "<div>\n",
       "<style scoped>\n",
       "    .dataframe tbody tr th:only-of-type {\n",
       "        vertical-align: middle;\n",
       "    }\n",
       "\n",
       "    .dataframe tbody tr th {\n",
       "        vertical-align: top;\n",
       "    }\n",
       "\n",
       "    .dataframe thead th {\n",
       "        text-align: right;\n",
       "    }\n",
       "</style>\n",
       "<table border=\"1\" class=\"dataframe\">\n",
       "  <thead>\n",
       "    <tr style=\"text-align: right;\">\n",
       "      <th></th>\n",
       "      <th>open</th>\n",
       "      <th>high</th>\n",
       "      <th>low</th>\n",
       "      <th>close</th>\n",
       "      <th>volume</th>\n",
       "    </tr>\n",
       "  </thead>\n",
       "  <tbody>\n",
       "    <tr>\n",
       "      <th>2018-09-19 23:50:00</th>\n",
       "      <td>7180000.0</td>\n",
       "      <td>7187000.0</td>\n",
       "      <td>7180000.0</td>\n",
       "      <td>7187000.0</td>\n",
       "      <td>0.504830</td>\n",
       "    </tr>\n",
       "    <tr>\n",
       "      <th>2018-09-19 23:51:00</th>\n",
       "      <td>7186000.0</td>\n",
       "      <td>7188000.0</td>\n",
       "      <td>7181000.0</td>\n",
       "      <td>7181000.0</td>\n",
       "      <td>0.882076</td>\n",
       "    </tr>\n",
       "    <tr>\n",
       "      <th>2018-09-19 23:52:00</th>\n",
       "      <td>7184000.0</td>\n",
       "      <td>7188000.0</td>\n",
       "      <td>7183000.0</td>\n",
       "      <td>7188000.0</td>\n",
       "      <td>0.486359</td>\n",
       "    </tr>\n",
       "  </tbody>\n",
       "</table>\n",
       "</div>"
      ],
      "text/plain": [
       "                          open       high        low      close    volume\n",
       "2018-09-19 23:50:00  7180000.0  7187000.0  7180000.0  7187000.0  0.504830\n",
       "2018-09-19 23:51:00  7186000.0  7188000.0  7181000.0  7181000.0  0.882076\n",
       "2018-09-19 23:52:00  7184000.0  7188000.0  7183000.0  7188000.0  0.486359"
      ]
     },
     "execution_count": 2,
     "metadata": {},
     "output_type": "execute_result"
    }
   ],
   "source": [
    "tickers = ['BTC', 'ETH', 'XRP', 'DOGE','ETC']\n",
    "path = './data/'+tickers[0]+'-M.csv'\n",
    "df = pd.read_csv(path,parse_dates=[0], index_col=[0])\n",
    "df.drop('value',axis=1, inplace=True)\n",
    "df.head(3)"
   ]
  },
  {
   "cell_type": "code",
   "execution_count": 3,
   "id": "0b4ea86c",
   "metadata": {},
   "outputs": [],
   "source": [
    "from pymodule.dllMod import pred_per\n",
    "pred = pred_per(df, 0.05)"
   ]
  },
  {
   "cell_type": "code",
   "execution_count": 4,
   "id": "d29153e5",
   "metadata": {},
   "outputs": [],
   "source": [
    "from pymodule.dataMod import OHLCDataset\n",
    "\n",
    "seq_length = 70\n",
    "\n",
    "dataset = OHLCDataset(df[10:-4], pred[10:-4], 50)"
   ]
  },
  {
   "cell_type": "code",
   "execution_count": 5,
   "id": "63c09875",
   "metadata": {
    "scrolled": true
   },
   "outputs": [
    {
     "name": "stdout",
     "output_type": "stream",
     "text": [
      "train dataset length : 1553814\n",
      "test dataset length : 262144\n"
     ]
    }
   ],
   "source": [
    "from torch.utils.data import DataLoader, random_split\n",
    "\n",
    "test_size = 262144\n",
    "train_set, test_set = random_split(dataset, [len(dataset) - test_size, test_size])\n",
    "print(f'train dataset length : {len(train_set)}')\n",
    "print(f'test dataset length : {len(test_set)}')\n",
    "\n",
    "train_dloader = DataLoader(train_set, batch_size=512, shuffle=True, drop_last=True)\n",
    "test_dloader = DataLoader(test_set, batch_size=128, shuffle=True, drop_last=True)"
   ]
  },
  {
   "cell_type": "code",
   "execution_count": 6,
   "id": "e166c121",
   "metadata": {
    "scrolled": true
   },
   "outputs": [
    {
     "name": "stdout",
     "output_type": "stream",
     "text": [
      "Feature batch shape: torch.Size([512, 4, 50, 5])\n",
      "Labels batch shape: torch.Size([512, 1])\n"
     ]
    }
   ],
   "source": [
    "train_features, train_labels = next(iter(train_dloader))\n",
    "print(f\"Feature batch shape: {train_features.size()}\")\n",
    "print(f\"Labels batch shape: {train_labels.size()}\")"
   ]
  },
  {
   "cell_type": "code",
   "execution_count": 7,
   "id": "3351f637",
   "metadata": {
    "scrolled": true
   },
   "outputs": [
    {
     "name": "stdout",
     "output_type": "stream",
     "text": [
      "cuda:0 is available\n"
     ]
    }
   ],
   "source": [
    "import torch\n",
    "device = torch.device('cuda:0' if torch.cuda.is_available() else 'cpu')\n",
    "print(f'{device} is available')"
   ]
  },
  {
   "cell_type": "code",
   "execution_count": 8,
   "id": "a34953d8",
   "metadata": {},
   "outputs": [],
   "source": [
    "import torch.nn as nn\n",
    "import torch.nn.functional as F\n",
    "\n",
    "class OLNN(nn.Module):\n",
    "    def __init__(self):\n",
    "        super(OLNN, self).__init__()\n",
    "        self.conv1 = nn.Conv1d(in_channels=5, out_channels=8, kernel_size=10)\n",
    "        self.conv2 = nn.Conv1d(in_channels=5, out_channels=8, kernel_size=10)\n",
    "        self.conv3 = nn.Conv1d(in_channels=5, out_channels=8, kernel_size=10)\n",
    "        self.conv4 = nn.Conv1d(in_channels=5, out_channels=8, kernel_size=10)\n",
    "        \n",
    "        self.conv5 = nn.Conv1d(in_channels=32, out_channels=16, kernel_size=5)\n",
    "        self.conv6 = nn.Conv1d(in_channels=16, out_channels=4,kernel_size=4)\n",
    "        self.conv7 = nn.Conv1d(in_channels=4, out_channels=2,kernel_size=2)\n",
    "        \n",
    "        self.fc1 = nn.Linear(66,64)\n",
    "        self.fc2 = nn.Linear(64,8)\n",
    "        self.fc3 = nn.Linear(8,1)\n",
    "        \n",
    "    def forward(self, x):\n",
    "        x = x.permute((1,0,3,2))\n",
    "        \n",
    "        x1 = self.conv1(x[0])\n",
    "        x2 = self.conv2(x[1])\n",
    "        x3 = self.conv3(x[2])\n",
    "        x4 = self.conv4(x[3])\n",
    "        \n",
    "        x = torch.cat((x1,x2,x3,x4),1)\n",
    "        x = self.conv5(x)\n",
    "        x = self.conv6(x)\n",
    "        x = self.conv7(x)\n",
    "        \n",
    "        x = self.fc1(x.flatten(1))\n",
    "        x = self.fc2(x)\n",
    "        x = self.fc3(x)\n",
    "        return x\n",
    "    \n",
    "model = OLNN().to(device)"
   ]
  },
  {
   "cell_type": "code",
   "execution_count": 9,
   "id": "cf6ae549",
   "metadata": {},
   "outputs": [],
   "source": [
    "import torch.optim as optim\n",
    "\n",
    "optimizer = optim.SGD(model.parameters(), lr = 0.0001)\n",
    "criterion = nn.MSELoss()\n",
    "\n",
    "def fit(epoch, model, data_loader, phase):\n",
    "    if phase == 'train':\n",
    "        model.train()\n",
    "    if phase == 'valid':\n",
    "        model.eval()\n",
    "    \n",
    "    running_loss = 0.0\n",
    "    for batch_idx, (data, target) in enumerate(data_loader):\n",
    "        data, target = data.to(device), target.to(device)\n",
    "        \n",
    "        if phase == 'train':\n",
    "            optimizer.zero_grad()\n",
    "        output = model(data)\n",
    "        loss = criterion(output.permute(1,0), target.permute(1,0))\n",
    "        running_loss += loss.item()\n",
    "        \n",
    "        if phase == 'train':\n",
    "            loss.backward()\n",
    "            optimizer.step()\n",
    "        \n",
    "    loss = running_loss / len(data_loader.dataset)\n",
    "    \n",
    "    print (f'epoch:{epoch}, {phase}loss is {loss}')\n",
    "    return loss"
   ]
  },
  {
   "cell_type": "code",
   "execution_count": 10,
   "id": "5ec60650",
   "metadata": {},
   "outputs": [],
   "source": [
    "path = \"./OLNN.pt\"\n",
    "losses = []\n",
    "val_losses = []\n",
    "# model = torch.load(path).to(device)"
   ]
  },
  {
   "cell_type": "code",
   "execution_count": null,
   "id": "668899db",
   "metadata": {
    "scrolled": true
   },
   "outputs": [
    {
     "name": "stdout",
     "output_type": "stream",
     "text": [
      "epoch:0, trainloss is 6.324797024114543e-05\n",
      "epoch:0, validloss is 5.034918398116872e-05\n",
      "1.45분\n",
      "epoch:1, trainloss is 4.077950177004044e-06\n",
      "epoch:1, validloss is 2.5744660709925427e-06\n",
      "2.90분\n",
      "epoch:2, trainloss is 2.0833459518826332e-07\n",
      "epoch:2, validloss is 1.713538204661802e-07\n",
      "4.37분\n",
      "epoch:3, trainloss is 2.4103861609488755e-08\n",
      "epoch:3, validloss is 6.698719092748315e-08\n",
      "5.86분\n",
      "epoch:4, trainloss is 1.6207353654749474e-08\n",
      "epoch:4, validloss is 6.230939598398516e-08\n",
      "7.36분\n",
      "epoch:5, trainloss is 1.5828699823890746e-08\n",
      "epoch:5, validloss is 6.20129982920048e-08\n",
      "8.84분\n",
      "epoch:6, trainloss is 1.5798950783677297e-08\n",
      "epoch:6, validloss is 6.198294132445624e-08\n",
      "10.24분\n",
      "epoch:7, trainloss is 1.5798722933506255e-08\n",
      "epoch:7, validloss is 6.197897592797718e-08\n",
      "11.71분\n",
      "epoch:8, trainloss is 1.5799436749958834e-08\n",
      "epoch:8, validloss is 6.19784543628727e-08\n",
      "13.18분\n",
      "epoch:9, trainloss is 1.579911437121925e-08\n",
      "epoch:9, validloss is 6.197841738897654e-08\n",
      "14.65분\n",
      "epoch:10, trainloss is 1.5800262255223524e-08\n",
      "epoch:10, validloss is 6.197842923128319e-08\n",
      "16.02분\n",
      "epoch:11, trainloss is 1.579928148182881e-08\n",
      "epoch:11, validloss is 6.197841880234249e-08\n",
      "17.39분\n",
      "epoch:12, trainloss is 1.5798161220448105e-08\n",
      "epoch:12, validloss is 6.197841651576011e-08\n",
      "18.80분\n",
      "epoch:13, trainloss is 1.5799757542233304e-08\n",
      "epoch:13, validloss is 6.197840163432635e-08\n",
      "20.15분\n",
      "epoch:14, trainloss is 1.5797397797310115e-08\n",
      "epoch:14, validloss is 6.197840409145373e-08\n",
      "21.60분\n"
     ]
    }
   ],
   "source": [
    "start = time.time()\n",
    "for epoch in range(60):\n",
    "    epoch_loss = fit(epoch,model,train_dloader, phase = 'train')\n",
    "    losses.append(epoch_loss)\n",
    "    val_epoch_loss = fit(epoch, model, test_dloader, phase ='valid')\n",
    "    val_losses.append(val_epoch_loss)\n",
    "    print(\"{:0,.2f}분\".format((time.time()-start)/60))\n",
    "torch.save(model, path)"
   ]
  },
  {
   "cell_type": "code",
   "execution_count": null,
   "id": "3daae36f",
   "metadata": {},
   "outputs": [],
   "source": [
    "import matplotlib.pyplot as plt\n",
    "f,ax = plt.subplots(1,2, figsize=(15,5))\n",
    "ax[0].plot(losses)\n",
    "ax[0].set_title('train losses')\n",
    "\n",
    "ax[1].plot(val_losses)\n",
    "ax[1].set_title('test losses')\n",
    "plt.show()"
   ]
  },
  {
   "cell_type": "code",
   "execution_count": null,
   "id": "3c53a851",
   "metadata": {},
   "outputs": [],
   "source": [
    "f, l = dataset.__getitem__(500000)\n",
    "\n",
    "print(model(f))\n",
    "print(l)"
   ]
  }
 ],
 "metadata": {
  "kernelspec": {
   "display_name": "Python 3 (ipykernel)",
   "language": "python",
   "name": "python3"
  },
  "language_info": {
   "codemirror_mode": {
    "name": "ipython",
    "version": 3
   },
   "file_extension": ".py",
   "mimetype": "text/x-python",
   "name": "python",
   "nbconvert_exporter": "python",
   "pygments_lexer": "ipython3",
   "version": "3.9.7"
  }
 },
 "nbformat": 4,
 "nbformat_minor": 5
}
