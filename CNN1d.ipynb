{
 "cells": [
  {
   "cell_type": "code",
   "execution_count": 1,
   "id": "652d673d",
   "metadata": {},
   "outputs": [],
   "source": [
    "import numpy as np\n",
    "import pandas as pd\n",
    "from IPython.display import clear_output\n",
    "import time\n",
    "\n",
    "from numpy.ctypeslib import ndpointer\n",
    "import ctypes\n",
    "\n",
    "import warnings\n",
    "warnings.filterwarnings('ignore')"
   ]
  },
  {
   "cell_type": "code",
   "execution_count": 2,
   "id": "34886eb3",
   "metadata": {
    "scrolled": true
   },
   "outputs": [
    {
     "data": {
      "text/html": [
       "<div>\n",
       "<style scoped>\n",
       "    .dataframe tbody tr th:only-of-type {\n",
       "        vertical-align: middle;\n",
       "    }\n",
       "\n",
       "    .dataframe tbody tr th {\n",
       "        vertical-align: top;\n",
       "    }\n",
       "\n",
       "    .dataframe thead th {\n",
       "        text-align: right;\n",
       "    }\n",
       "</style>\n",
       "<table border=\"1\" class=\"dataframe\">\n",
       "  <thead>\n",
       "    <tr style=\"text-align: right;\">\n",
       "      <th></th>\n",
       "      <th>open</th>\n",
       "      <th>high</th>\n",
       "      <th>low</th>\n",
       "      <th>close</th>\n",
       "      <th>volume</th>\n",
       "    </tr>\n",
       "  </thead>\n",
       "  <tbody>\n",
       "    <tr>\n",
       "      <th>2018-09-19 23:50:00</th>\n",
       "      <td>7180000.0</td>\n",
       "      <td>7187000.0</td>\n",
       "      <td>7180000.0</td>\n",
       "      <td>7187000.0</td>\n",
       "      <td>0.504830</td>\n",
       "    </tr>\n",
       "    <tr>\n",
       "      <th>2018-09-19 23:51:00</th>\n",
       "      <td>7186000.0</td>\n",
       "      <td>7188000.0</td>\n",
       "      <td>7181000.0</td>\n",
       "      <td>7181000.0</td>\n",
       "      <td>0.882076</td>\n",
       "    </tr>\n",
       "    <tr>\n",
       "      <th>2018-09-19 23:52:00</th>\n",
       "      <td>7184000.0</td>\n",
       "      <td>7188000.0</td>\n",
       "      <td>7183000.0</td>\n",
       "      <td>7188000.0</td>\n",
       "      <td>0.486359</td>\n",
       "    </tr>\n",
       "  </tbody>\n",
       "</table>\n",
       "</div>"
      ],
      "text/plain": [
       "                          open       high        low      close    volume\n",
       "2018-09-19 23:50:00  7180000.0  7187000.0  7180000.0  7187000.0  0.504830\n",
       "2018-09-19 23:51:00  7186000.0  7188000.0  7181000.0  7181000.0  0.882076\n",
       "2018-09-19 23:52:00  7184000.0  7188000.0  7183000.0  7188000.0  0.486359"
      ]
     },
     "execution_count": 2,
     "metadata": {},
     "output_type": "execute_result"
    }
   ],
   "source": [
    "tickers = ['BTC', 'ETH', 'XRP', 'DOGE','ETC']\n",
    "path = './data/'+tickers[0]+'-M.csv'\n",
    "df = pd.read_csv(path,parse_dates=[0], index_col=[0])\n",
    "df.drop('value',axis=1, inplace=True)\n",
    "df.head(3)"
   ]
  },
  {
   "cell_type": "code",
   "execution_count": 3,
   "id": "0b4ea86c",
   "metadata": {},
   "outputs": [],
   "source": [
    "from pymodule.dllMod import pred_per\n",
    "pred = pred_per(df, 0.04)"
   ]
  },
  {
   "cell_type": "code",
   "execution_count": 4,
   "id": "d29153e5",
   "metadata": {},
   "outputs": [],
   "source": [
    "from pymodule.dataMod import OHLCDataset\n",
    "\n",
    "seq_length = 70\n",
    "dataset = OHLCDataset(df[10:-4], pred[10:-4], seq_length)"
   ]
  },
  {
   "cell_type": "code",
   "execution_count": 5,
   "id": "63c09875",
   "metadata": {
    "scrolled": true
   },
   "outputs": [
    {
     "name": "stdout",
     "output_type": "stream",
     "text": [
      "train dataset length : 1523574\n",
      "test dataset length : 262144\n"
     ]
    }
   ],
   "source": [
    "from torch.utils.data import DataLoader, random_split\n",
    "\n",
    "test_size = 262144\n",
    "train_set, test_set = random_split(dataset, [len(dataset) - test_size, test_size])\n",
    "print(f'train dataset length : {len(train_set)}')\n",
    "print(f'test dataset length : {len(test_set)}')\n",
    "\n",
    "train_dloader = DataLoader(train_set, batch_size=512, shuffle=True, drop_last=True)\n",
    "test_dloader = DataLoader(test_set, batch_size=128, shuffle=True, drop_last=True)"
   ]
  },
  {
   "cell_type": "code",
   "execution_count": 6,
   "id": "e166c121",
   "metadata": {
    "scrolled": true
   },
   "outputs": [
    {
     "name": "stdout",
     "output_type": "stream",
     "text": [
      "Feature batch shape: torch.Size([512, 4, 70, 5])\n",
      "Labels batch shape: torch.Size([512, 1])\n"
     ]
    }
   ],
   "source": [
    "train_features, train_labels = next(iter(train_dloader))\n",
    "print(f\"Feature batch shape: {train_features.size()}\")\n",
    "print(f\"Labels batch shape: {train_labels.size()}\")"
   ]
  },
  {
   "cell_type": "code",
   "execution_count": 7,
   "id": "3351f637",
   "metadata": {
    "scrolled": true
   },
   "outputs": [
    {
     "name": "stdout",
     "output_type": "stream",
     "text": [
      "cuda:0 is available\n"
     ]
    }
   ],
   "source": [
    "import torch\n",
    "device = torch.device('cuda:0' if torch.cuda.is_available() else 'cpu')\n",
    "print(f'{device} is available')"
   ]
  },
  {
   "cell_type": "code",
   "execution_count": 8,
   "id": "a34953d8",
   "metadata": {},
   "outputs": [],
   "source": [
    "from pymodule.models import OLNN\n",
    "\n",
    "model = OLNN(seq_length).to(device)\n",
    "\n",
    "optimizer = optim.SGD(model.parameters(), lr = 0.0001)\n",
    "criterion = nn.CrossEntropyLoss()"
   ]
  },
  {
   "cell_type": "code",
   "execution_count": 10,
   "id": "5ec60650",
   "metadata": {},
   "outputs": [],
   "source": [
    "path = \"./OLNN.pt\"\n",
    "losses = []\n",
    "val_losses = []\n",
    "model = torch.load(path).to(device)"
   ]
  },
  {
   "cell_type": "code",
   "execution_count": 14,
   "id": "c010572d",
   "metadata": {
    "scrolled": true
   },
   "outputs": [
    {
     "name": "stdout",
     "output_type": "stream",
     "text": [
      "epoch:0, trainloss is 0.0001669484667565639\n",
      "epoch:0, validloss is 0.00016197141836116202\n",
      "1.32분\n",
      "epoch:1, trainloss is 0.00016728758825379172\n",
      "epoch:1, validloss is 0.0001619715899696672\n",
      "2.63분\n",
      "epoch:2, trainloss is 0.0001672266142541695\n",
      "epoch:2, validloss is 0.0001619713275413659\n",
      "3.90분\n",
      "epoch:3, trainloss is 0.00016714391636056192\n",
      "epoch:3, validloss is 0.00016196994628536743\n",
      "5.17분\n",
      "epoch:4, trainloss is 0.0001671812074315525\n",
      "epoch:4, validloss is 0.00016197021221131536\n",
      "6.44분\n",
      "epoch:5, trainloss is 0.00016732983644529616\n",
      "epoch:5, validloss is 0.0001619703948101403\n",
      "7.71분\n",
      "epoch:6, trainloss is 0.00016697705839395825\n",
      "epoch:6, validloss is 0.0001619699612760428\n",
      "8.98분\n",
      "epoch:7, trainloss is 0.00016733435085239444\n",
      "epoch:7, validloss is 0.000161970498973929\n",
      "10.24분\n",
      "epoch:8, trainloss is 0.0001673555340614878\n",
      "epoch:8, validloss is 0.00016196990392280952\n",
      "11.51분\n",
      "epoch:9, trainloss is 0.00016712744816065728\n",
      "epoch:9, validloss is 0.00016196984778460433\n",
      "12.78분\n",
      "epoch:10, trainloss is 0.00016688236145119434\n",
      "epoch:10, validloss is 0.00016196942731738773\n",
      "14.05분\n",
      "epoch:11, trainloss is 0.0001672982868717935\n",
      "epoch:11, validloss is 0.00016196887066044496\n",
      "15.32분\n",
      "epoch:12, trainloss is 0.0001669393409122542\n",
      "epoch:12, validloss is 0.00016196847828631178\n",
      "16.58분\n",
      "epoch:13, trainloss is 0.000167506776890456\n",
      "epoch:13, validloss is 0.00016196907223431367\n",
      "17.85분\n",
      "epoch:14, trainloss is 0.00016694030544661776\n",
      "epoch:14, validloss is 0.00016196753312414103\n",
      "19.12분\n",
      "epoch:15, trainloss is 0.0001672723339370708\n",
      "epoch:15, validloss is 0.00016196907530563465\n",
      "20.39분\n",
      "epoch:16, trainloss is 0.00016723692990721148\n",
      "epoch:16, validloss is 0.00016196725886530317\n",
      "21.66분\n",
      "epoch:17, trainloss is 0.0001671324770106153\n",
      "epoch:17, validloss is 0.00016196715285765606\n",
      "22.92분\n",
      "epoch:18, trainloss is 0.00016750417454519401\n",
      "epoch:18, validloss is 0.00016196717477079403\n",
      "24.20분\n",
      "epoch:19, trainloss is 0.00016696310452306247\n",
      "epoch:19, validloss is 0.00016196619552033553\n",
      "25.46분\n",
      "epoch:20, trainloss is 0.0001680013368585503\n",
      "epoch:20, validloss is 0.0001619667329570973\n",
      "26.72분\n",
      "epoch:21, trainloss is 0.00016727114102306194\n",
      "epoch:21, validloss is 0.00016196552617309123\n",
      "27.99분\n",
      "epoch:22, trainloss is 0.0001672663384524086\n",
      "epoch:22, validloss is 0.0001619650760744662\n",
      "29.26분\n",
      "epoch:23, trainloss is 0.0001673297990682799\n",
      "epoch:23, validloss is 0.00016196515401034617\n",
      "30.52분\n",
      "epoch:24, trainloss is 0.00016715098737366506\n",
      "epoch:24, validloss is 0.00016196472233609427\n",
      "31.79분\n",
      "epoch:25, trainloss is 0.0001672062116822703\n",
      "epoch:25, validloss is 0.00016196529228729162\n",
      "33.06분\n",
      "epoch:26, trainloss is 0.0001685074347642328\n",
      "epoch:26, validloss is 0.0001619649664696965\n",
      "34.35분\n",
      "epoch:27, trainloss is 0.0001672668883761098\n",
      "epoch:27, validloss is 0.00016196396077816644\n",
      "35.66분\n",
      "epoch:28, trainloss is 0.00016693858522852481\n",
      "epoch:28, validloss is 0.0001619638209078289\n",
      "36.97분\n",
      "epoch:29, trainloss is 0.0001672990711803048\n",
      "epoch:29, validloss is 0.00016196349748298644\n",
      "38.29분\n",
      "epoch:30, trainloss is 0.0001668285935918865\n",
      "epoch:30, validloss is 0.00016196279325164653\n",
      "39.59분\n",
      "epoch:31, trainloss is 0.00016686057797624253\n",
      "epoch:31, validloss is 0.00016196294931702937\n",
      "40.87분\n",
      "epoch:32, trainloss is 0.0001663223717917807\n",
      "epoch:32, validloss is 0.00016196204954610494\n",
      "42.16분\n",
      "epoch:33, trainloss is 0.00016695572331116597\n",
      "epoch:33, validloss is 0.00016196129904422207\n",
      "43.44분\n",
      "epoch:34, trainloss is 0.00016745253601316718\n",
      "epoch:34, validloss is 0.00016196150058522818\n",
      "44.72분\n",
      "epoch:35, trainloss is 0.00016704079399307474\n",
      "epoch:35, validloss is 0.00016196035065085823\n",
      "46.01분\n",
      "epoch:36, trainloss is 0.00016726030352217584\n",
      "epoch:36, validloss is 0.00016196165530857343\n",
      "47.31분\n",
      "epoch:37, trainloss is 0.00016717888814692252\n",
      "epoch:37, validloss is 0.0001619612225987055\n",
      "48.63분\n",
      "epoch:38, trainloss is 0.00016718559586956043\n",
      "epoch:38, validloss is 0.00016195908825267225\n",
      "49.97분\n",
      "epoch:39, trainloss is 0.00016676483737568948\n",
      "epoch:39, validloss is 0.00016195841705446412\n",
      "51.26분\n",
      "epoch:40, trainloss is 0.0001673165660885676\n",
      "epoch:40, validloss is 0.0001619605394136414\n",
      "52.56분\n",
      "epoch:41, trainloss is 0.00016691779445792999\n",
      "epoch:41, validloss is 0.00016195898776416584\n",
      "53.88분\n",
      "epoch:42, trainloss is 0.0001675419935242083\n",
      "epoch:42, validloss is 0.00016195793574702577\n",
      "55.21분\n",
      "epoch:43, trainloss is 0.0001674680542331641\n",
      "epoch:43, validloss is 0.00016195929130091713\n",
      "56.54분\n",
      "epoch:44, trainloss is 0.00016718868210249403\n",
      "epoch:44, validloss is 0.00016195891803860718\n",
      "57.84분\n",
      "epoch:45, trainloss is 0.00016675306263264246\n",
      "epoch:45, validloss is 0.00016195907332594572\n",
      "59.14분\n",
      "epoch:46, trainloss is 0.00016735841570926358\n",
      "epoch:46, validloss is 0.00016195820978026632\n",
      "60.44분\n",
      "epoch:47, trainloss is 0.00016737079044798557\n",
      "epoch:47, validloss is 0.00016195790040107738\n",
      "61.74분\n",
      "epoch:48, trainloss is 0.00016698115177934278\n",
      "epoch:48, validloss is 0.0001619568625264023\n",
      "63.04분\n",
      "epoch:49, trainloss is 0.0001669734531360481\n",
      "epoch:49, validloss is 0.0001619575791291794\n",
      "64.31분\n",
      "epoch:50, trainloss is 0.00016718967150352131\n",
      "epoch:50, validloss is 0.00016195691488896102\n",
      "65.61분\n",
      "epoch:51, trainloss is 0.00016720714192900105\n",
      "epoch:51, validloss is 0.00016195605045687955\n",
      "66.94분\n",
      "epoch:52, trainloss is 0.00016690503505368138\n",
      "epoch:52, validloss is 0.00016195674550267825\n",
      "68.26분\n",
      "epoch:53, trainloss is 0.00016702609940001453\n",
      "epoch:53, validloss is 0.00016195588479916978\n",
      "69.58분\n",
      "epoch:54, trainloss is 0.00016719324177327758\n",
      "epoch:54, validloss is 0.00016195658729145634\n",
      "70.94분\n",
      "epoch:55, trainloss is 0.0001670109545711896\n",
      "epoch:55, validloss is 0.00016195415586395256\n",
      "72.28분\n",
      "epoch:56, trainloss is 0.0001672648475620484\n",
      "epoch:56, validloss is 0.00016195440833044472\n",
      "73.67분\n",
      "epoch:57, trainloss is 0.00016729471123626597\n",
      "epoch:57, validloss is 0.00016195594531076551\n",
      "75.01분\n",
      "epoch:58, trainloss is 0.00016715989202569992\n",
      "epoch:58, validloss is 0.000161953623958766\n",
      "76.33분\n",
      "epoch:59, trainloss is 0.00016690992087753368\n",
      "epoch:59, validloss is 0.00016195388407602707\n",
      "77.68분\n"
     ]
    }
   ],
   "source": [
    "from pymodule.models import fit\n",
    "\n",
    "start = time.time()\n",
    "for epoch in range(60):\n",
    "    epoch_loss = fit(epoch,model,train_dloader, criterion, optimizer, phase = 'train')\n",
    "    losses.append(epoch_loss)\n",
    "    val_epoch_loss = fit(epoch, model, test_dloader, criterion, optimizer, phase ='valid')\n",
    "    val_losses.append(val_epoch_loss)\n",
    "    print(\"{:0,.2f}분\".format((time.time()-start)/60))\n",
    "torch.save(model, path)"
   ]
  },
  {
   "cell_type": "code",
   "execution_count": 17,
   "id": "3daae36f",
   "metadata": {},
   "outputs": [
    {
     "data": {
      "image/png": "[encoded data removed]",
      "text/plain": [
       "<Figure size 1080x360 with 2 Axes>"
      ]
     },
     "metadata": {
      "needs_background": "light"
     },
     "output_type": "display_data"
    }
   ],
   "source": [
    "import matplotlib.pyplot as plt\n",
    "f,ax = plt.subplots(1,2, figsize=(15,5))\n",
    "ax[0].plot(losses)\n",
    "ax[0].set_title('train losses')\n",
    "\n",
    "ax[1].plot(val_losses)\n",
    "ax[1].set_title('test losses')\n",
    "plt.show()"
   ]
  }
 ],
 "metadata": {
  "kernelspec": {
   "display_name": "Python 3 (ipykernel)",
   "language": "python",
   "name": "python3"
  },
  "language_info": {
   "codemirror_mode": {
    "name": "ipython",
    "version": 3
   },
   "file_extension": ".py",
   "mimetype": "text/x-python",
   "name": "python",
   "nbconvert_exporter": "python",
   "pygments_lexer": "ipython3",
   "version": "3.9.7"
  }
 },
 "nbformat": 4,
 "nbformat_minor": 5
}
