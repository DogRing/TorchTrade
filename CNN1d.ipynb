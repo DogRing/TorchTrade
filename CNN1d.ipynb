{
 "cells": [
  {
   "cell_type": "code",
   "execution_count": 1,
   "id": "652d673d",
   "metadata": {},
   "outputs": [],
   "source": [
    "import numpy as np\n",
    "import pandas as pd\n",
    "from IPython.display import clear_output\n",
    "import time\n",
    "\n",
    "import warnings\n",
    "warnings.filterwarnings('ignore')"
   ]
  },
  {
   "cell_type": "markdown",
   "id": "982f33e0",
   "metadata": {},
   "source": [
    "# 데이터 준비 \n",
    "사용할 데이터의 길이 (seq_length) 설정"
   ]
  },
  {
   "cell_type": "code",
   "execution_count": 2,
   "id": "34886eb3",
   "metadata": {
    "scrolled": true
   },
   "outputs": [
    {
     "data": {
      "text/html": [
       "<div>\n",
       "<style scoped>\n",
       "    .dataframe tbody tr th:only-of-type {\n",
       "        vertical-align: middle;\n",
       "    }\n",
       "\n",
       "    .dataframe tbody tr th {\n",
       "        vertical-align: top;\n",
       "    }\n",
       "\n",
       "    .dataframe thead th {\n",
       "        text-align: right;\n",
       "    }\n",
       "</style>\n",
       "<table border=\"1\" class=\"dataframe\">\n",
       "  <thead>\n",
       "    <tr style=\"text-align: right;\">\n",
       "      <th></th>\n",
       "      <th>open</th>\n",
       "      <th>high</th>\n",
       "      <th>low</th>\n",
       "      <th>close</th>\n",
       "      <th>volume</th>\n",
       "    </tr>\n",
       "  </thead>\n",
       "  <tbody>\n",
       "    <tr>\n",
       "      <th>2018-09-19 23:50:00</th>\n",
       "      <td>7180000.0</td>\n",
       "      <td>7187000.0</td>\n",
       "      <td>7180000.0</td>\n",
       "      <td>7187000.0</td>\n",
       "      <td>0.504830</td>\n",
       "    </tr>\n",
       "    <tr>\n",
       "      <th>2018-09-19 23:51:00</th>\n",
       "      <td>7186000.0</td>\n",
       "      <td>7188000.0</td>\n",
       "      <td>7181000.0</td>\n",
       "      <td>7181000.0</td>\n",
       "      <td>0.882076</td>\n",
       "    </tr>\n",
       "    <tr>\n",
       "      <th>2018-09-19 23:52:00</th>\n",
       "      <td>7184000.0</td>\n",
       "      <td>7188000.0</td>\n",
       "      <td>7183000.0</td>\n",
       "      <td>7188000.0</td>\n",
       "      <td>0.486359</td>\n",
       "    </tr>\n",
       "  </tbody>\n",
       "</table>\n",
       "</div>"
      ],
      "text/plain": [
       "                          open       high        low      close    volume\n",
       "2018-09-19 23:50:00  7180000.0  7187000.0  7180000.0  7187000.0  0.504830\n",
       "2018-09-19 23:51:00  7186000.0  7188000.0  7181000.0  7181000.0  0.882076\n",
       "2018-09-19 23:52:00  7184000.0  7188000.0  7183000.0  7188000.0  0.486359"
      ]
     },
     "execution_count": 2,
     "metadata": {},
     "output_type": "execute_result"
    }
   ],
   "source": [
    "df = pd.read_csv('./data/BTC-M.csv',parse_dates=[0], index_col=[0])\n",
    "df.drop('value',axis=1, inplace=True)\n",
    "df.head(3)"
   ]
  },
  {
   "cell_type": "code",
   "execution_count": 3,
   "id": "0b4ea86c",
   "metadata": {},
   "outputs": [],
   "source": [
    "from pymodule.dllMod import pred_per\n",
    "pred = pred_per(df, 0.04)"
   ]
  },
  {
   "cell_type": "code",
   "execution_count": 4,
   "id": "d29153e5",
   "metadata": {},
   "outputs": [],
   "source": [
    "from pymodule.dataMod import OHLCDataset\n",
    "\n",
    "seq_length = 70\n",
    "dataset = OHLCDataset(df[10:-4], pred[10:-4], seq_length)"
   ]
  },
  {
   "cell_type": "code",
   "execution_count": 5,
   "id": "63c09875",
   "metadata": {
    "scrolled": true
   },
   "outputs": [
    {
     "name": "stdout",
     "output_type": "stream",
     "text": [
      "train dataset length : 1523574\n",
      "test dataset length : 262144\n"
     ]
    }
   ],
   "source": [
    "from torch.utils.data import DataLoader, random_split\n",
    "\n",
    "test_size = 262144\n",
    "train_set, test_set = random_split(dataset, [len(dataset) - test_size, test_size])\n",
    "print(f'train dataset length : {len(train_set)}')\n",
    "print(f'test dataset length : {len(test_set)}')\n",
    "\n",
    "train_dloader = DataLoader(train_set, batch_size=512, shuffle=True, drop_last=True)\n",
    "test_dloader = DataLoader(test_set, batch_size=128, shuffle=True, drop_last=True)"
   ]
  },
  {
   "cell_type": "markdown",
   "id": "da552752",
   "metadata": {},
   "source": [
    "# 모델, 옵티마이저, 로스함수 설정"
   ]
  },
  {
   "cell_type": "code",
   "execution_count": 7,
   "id": "3351f637",
   "metadata": {
    "scrolled": true
   },
   "outputs": [
    {
     "name": "stdout",
     "output_type": "stream",
     "text": [
      "cuda:0 is available\n"
     ]
    }
   ],
   "source": [
    "import torch\n",
    "device = torch.device('cuda:0' if torch.cuda.is_available() else 'cpu')\n",
    "print(f'{device} is available')"
   ]
  },
  {
   "cell_type": "code",
   "execution_count": 8,
   "id": "a34953d8",
   "metadata": {},
   "outputs": [],
   "source": [
    "from pymodule.models import OLNN\n",
    "import torch.optim as optim\n",
    "import torch.nn as nn\n",
    "\n",
    "model = OLNN(seq_length).to(device)\n",
    "\n",
    "optimizer = optim.Adam(model.parameters(), lr = 0.001)\n",
    "criterion = nn.CrossEntropyLoss()"
   ]
  },
  {
   "cell_type": "markdown",
   "id": "c03c7dc1",
   "metadata": {},
   "source": [
    "# 모델 학습"
   ]
  },
  {
   "cell_type": "code",
   "execution_count": 9,
   "id": "5ec60650",
   "metadata": {},
   "outputs": [],
   "source": [
    "path = \"./OLNN.pt\"\n",
    "losses = []\n",
    "val_losses = []\n",
    "model = torch.load(path).to(device)"
   ]
  },
  {
   "cell_type": "code",
   "execution_count": 11,
   "id": "c010572d",
   "metadata": {
    "scrolled": true
   },
   "outputs": [
    {
     "name": "stdout",
     "output_type": "stream",
     "text": [
      "epoch:0, trainloss is 0.00017677543812760483\n",
      "epoch:0, validloss is 0.0001184570203633939\n",
      "1.33분\n",
      "epoch:1, trainloss is 0.00017739658438423961\n",
      "epoch:1, validloss is 0.00011845794153764189\n",
      "2.70분\n",
      "epoch:2, trainloss is 0.00017620109739085253\n",
      "epoch:2, validloss is 0.00011845827907563944\n",
      "4.05분\n",
      "epoch:3, trainloss is 0.00017688772095467785\n",
      "epoch:3, validloss is 0.00011845808151811354\n",
      "5.37분\n",
      "epoch:4, trainloss is 0.00017672824376107526\n",
      "epoch:4, validloss is 0.00011845855130054872\n",
      "6.68분\n",
      "epoch:5, trainloss is 0.00017667428129628394\n",
      "epoch:5, validloss is 0.00011845793324027909\n",
      "8.04분\n",
      "epoch:6, trainloss is 0.00017728734072437646\n",
      "epoch:6, validloss is 0.00011845782898589619\n",
      "9.41분\n",
      "epoch:7, trainloss is 0.00017684088521703096\n",
      "epoch:7, validloss is 0.00011845732527504538\n",
      "10.74분\n",
      "epoch:8, trainloss is 0.00017739473764568636\n",
      "epoch:8, validloss is 0.00011845850729930163\n",
      "12.09분\n",
      "epoch:9, trainloss is 0.00017671577947669026\n",
      "epoch:9, validloss is 0.00011845820335842916\n",
      "13.46분\n",
      "epoch:10, trainloss is 0.00017675682382031134\n",
      "epoch:10, validloss is 0.000118457712972031\n",
      "14.83분\n",
      "epoch:11, trainloss is 0.00017677574226744114\n",
      "epoch:11, validloss is 0.00011845773413199367\n",
      "16.17분\n",
      "epoch:12, trainloss is 0.00017664380294051148\n",
      "epoch:12, validloss is 0.00011845807569699218\n",
      "17.48분\n",
      "epoch:13, trainloss is 0.00017658574557804146\n",
      "epoch:13, validloss is 0.00011845757057571404\n",
      "18.77분\n",
      "epoch:14, trainloss is 0.000176788922841332\n",
      "epoch:14, validloss is 0.0001184571747963048\n",
      "20.14분\n",
      "epoch:15, trainloss is 0.00017621117866030694\n",
      "epoch:15, validloss is 0.00011845777234142929\n",
      "21.50분\n",
      "epoch:16, trainloss is 0.00017668191497450267\n",
      "epoch:16, validloss is 0.00011845799952414637\n",
      "22.84분\n",
      "epoch:17, trainloss is 0.00017682697008873958\n",
      "epoch:17, validloss is 0.0001184585637883373\n",
      "24.17분\n",
      "epoch:18, trainloss is 0.00017696493793851835\n",
      "epoch:18, validloss is 0.0001184590641578609\n",
      "25.51분\n",
      "epoch:19, trainloss is 0.00017675198478772034\n",
      "epoch:19, validloss is 0.00011845777376962019\n",
      "26.89분\n",
      "epoch:20, trainloss is 0.00017739536579179391\n",
      "epoch:20, validloss is 0.00011845715432023951\n",
      "28.26분\n",
      "epoch:21, trainloss is 0.00017678648938644016\n",
      "epoch:21, validloss is 0.00011845857010861494\n",
      "29.72분\n",
      "epoch:22, trainloss is 0.00017688342421402062\n",
      "epoch:22, validloss is 0.0001184580480142472\n",
      "31.20분\n",
      "epoch:23, trainloss is 0.00017681570519543255\n",
      "epoch:23, validloss is 0.00011845822245604154\n",
      "32.62분\n",
      "epoch:24, trainloss is 0.00017687052027381725\n",
      "epoch:24, validloss is 0.00011845697949652845\n",
      "34.02분\n",
      "epoch:25, trainloss is 0.00017682880286455115\n",
      "epoch:25, validloss is 0.00011845931519616215\n",
      "35.48분\n",
      "epoch:26, trainloss is 0.0001768611529869172\n",
      "epoch:26, validloss is 0.00011845793462050835\n",
      "36.95분\n",
      "epoch:27, trainloss is 0.00017686905214550123\n",
      "epoch:27, validloss is 0.00011845766159268578\n",
      "38.44분\n",
      "epoch:28, trainloss is 0.00017671104711462914\n",
      "epoch:28, validloss is 0.0001184573552279744\n",
      "39.85분\n",
      "epoch:29, trainloss is 0.00017695353833733468\n",
      "epoch:29, validloss is 0.00011845806422883243\n",
      "41.25분\n"
     ]
    }
   ],
   "source": [
    "from pymodule.models import fit\n",
    "\n",
    "start = time.time()\n",
    "for epoch in range(30):\n",
    "    epoch_loss = fit(epoch,model,train_dloader, criterion, optimizer, phase = 'train')\n",
    "    losses.append(epoch_loss)\n",
    "    val_epoch_loss = fit(epoch, model, test_dloader, criterion, optimizer, phase ='valid')\n",
    "    val_losses.append(val_epoch_loss)\n",
    "    print(\"{:0,.2f}분\".format((time.time()-start)/60))\n",
    "# torch.save(model, path)"
   ]
  },
  {
   "cell_type": "code",
   "execution_count": 12,
   "id": "3daae36f",
   "metadata": {},
   "outputs": [
    {
     "data": {
      "image/png": "[encoded data removed]",
      "text/plain": [
       "<Figure size 1080x360 with 2 Axes>"
      ]
     },
     "metadata": {
      "needs_background": "light"
     },
     "output_type": "display_data"
    }
   ],
   "source": [
    "import matplotlib.pyplot as plt\n",
    "f,ax = plt.subplots(1,2, figsize=(15,5))\n",
    "ax[0].plot(losses)\n",
    "ax[0].set_title('train losses')\n",
    "\n",
    "ax[1].plot(val_losses)\n",
    "ax[1].set_title('test losses')\n",
    "plt.show()"
   ]
  }
 ],
 "metadata": {
  "kernelspec": {
   "display_name": "Python 3 (ipykernel)",
   "language": "python",
   "name": "python3"
  },
  "language_info": {
   "codemirror_mode": {
    "name": "ipython",
    "version": 3
   },
   "file_extension": ".py",
   "mimetype": "text/x-python",
   "name": "python",
   "nbconvert_exporter": "python",
   "pygments_lexer": "ipython3",
   "version": "3.9.7"
  }
 },
 "nbformat": 4,
 "nbformat_minor": 5
}
