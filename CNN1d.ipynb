{
 "cells": [
  {
   "cell_type": "code",
   "execution_count": 1,
   "id": "652d673d",
   "metadata": {},
   "outputs": [],
   "source": [
    "import numpy as np\n",
    "import pandas as pd\n",
    "from IPython.display import clear_output\n",
    "import time\n",
    "\n",
    "from numpy.ctypeslib import ndpointer\n",
    "import ctypes\n",
    "\n",
    "import warnings\n",
    "warnings.filterwarnings('ignore')"
   ]
  },
  {
   "cell_type": "code",
   "execution_count": 2,
   "id": "34886eb3",
   "metadata": {
    "scrolled": true
   },
   "outputs": [
    {
     "data": {
      "text/html": [
       "<div>\n",
       "<style scoped>\n",
       "    .dataframe tbody tr th:only-of-type {\n",
       "        vertical-align: middle;\n",
       "    }\n",
       "\n",
       "    .dataframe tbody tr th {\n",
       "        vertical-align: top;\n",
       "    }\n",
       "\n",
       "    .dataframe thead th {\n",
       "        text-align: right;\n",
       "    }\n",
       "</style>\n",
       "<table border=\"1\" class=\"dataframe\">\n",
       "  <thead>\n",
       "    <tr style=\"text-align: right;\">\n",
       "      <th></th>\n",
       "      <th>open</th>\n",
       "      <th>high</th>\n",
       "      <th>low</th>\n",
       "      <th>close</th>\n",
       "      <th>volume</th>\n",
       "    </tr>\n",
       "  </thead>\n",
       "  <tbody>\n",
       "    <tr>\n",
       "      <th>2018-09-19 23:50:00</th>\n",
       "      <td>7180000.0</td>\n",
       "      <td>7187000.0</td>\n",
       "      <td>7180000.0</td>\n",
       "      <td>7187000.0</td>\n",
       "      <td>0.504830</td>\n",
       "    </tr>\n",
       "    <tr>\n",
       "      <th>2018-09-19 23:51:00</th>\n",
       "      <td>7186000.0</td>\n",
       "      <td>7188000.0</td>\n",
       "      <td>7181000.0</td>\n",
       "      <td>7181000.0</td>\n",
       "      <td>0.882076</td>\n",
       "    </tr>\n",
       "    <tr>\n",
       "      <th>2018-09-19 23:52:00</th>\n",
       "      <td>7184000.0</td>\n",
       "      <td>7188000.0</td>\n",
       "      <td>7183000.0</td>\n",
       "      <td>7188000.0</td>\n",
       "      <td>0.486359</td>\n",
       "    </tr>\n",
       "  </tbody>\n",
       "</table>\n",
       "</div>"
      ],
      "text/plain": [
       "                          open       high        low      close    volume\n",
       "2018-09-19 23:50:00  7180000.0  7187000.0  7180000.0  7187000.0  0.504830\n",
       "2018-09-19 23:51:00  7186000.0  7188000.0  7181000.0  7181000.0  0.882076\n",
       "2018-09-19 23:52:00  7184000.0  7188000.0  7183000.0  7188000.0  0.486359"
      ]
     },
     "execution_count": 2,
     "metadata": {},
     "output_type": "execute_result"
    }
   ],
   "source": [
    "tickers = ['BTC', 'ETH', 'XRP', 'DOGE','ETC']\n",
    "path = './data/'+tickers[0]+'-M.csv'\n",
    "df = pd.read_csv(path,parse_dates=[0], index_col=[0])\n",
    "df.drop('value',axis=1, inplace=True)\n",
    "df.head(3)"
   ]
  },
  {
   "cell_type": "code",
   "execution_count": 3,
   "id": "0b4ea86c",
   "metadata": {},
   "outputs": [],
   "source": [
    "from pymodule.dllMod import pred_per\n",
    "pred = pred_per(df, 0.05)"
   ]
  },
  {
   "cell_type": "code",
   "execution_count": 4,
   "id": "d29153e5",
   "metadata": {},
   "outputs": [],
   "source": [
    "from pymodule.dataMod import OHLCDataset\n",
    "\n",
    "seq_length = 70\n",
    "\n",
    "dataset = OHLCDataset(df[10:-4], pred[10:-4], 50)"
   ]
  },
  {
   "cell_type": "code",
   "execution_count": 5,
   "id": "63c09875",
   "metadata": {
    "scrolled": true
   },
   "outputs": [
    {
     "name": "stdout",
     "output_type": "stream",
     "text": [
      "train dataset length : 1553814\n",
      "test dataset length : 262144\n"
     ]
    }
   ],
   "source": [
    "from torch.utils.data import DataLoader, random_split\n",
    "\n",
    "test_size = 262144\n",
    "train_set, test_set = random_split(dataset, [len(dataset) - test_size, test_size])\n",
    "print(f'train dataset length : {len(train_set)}')\n",
    "print(f'test dataset length : {len(test_set)}')\n",
    "\n",
    "train_dloader = DataLoader(train_set, batch_size=512, shuffle=True, drop_last=True)\n",
    "test_dloader = DataLoader(test_set, batch_size=128, shuffle=True, drop_last=True)"
   ]
  },
  {
   "cell_type": "code",
   "execution_count": 6,
   "id": "e166c121",
   "metadata": {
    "scrolled": true
   },
   "outputs": [
    {
     "name": "stdout",
     "output_type": "stream",
     "text": [
      "Feature batch shape: torch.Size([512, 4, 50, 5])\n",
      "Labels batch shape: torch.Size([512, 1])\n"
     ]
    }
   ],
   "source": [
    "train_features, train_labels = next(iter(train_dloader))\n",
    "print(f\"Feature batch shape: {train_features.size()}\")\n",
    "print(f\"Labels batch shape: {train_labels.size()}\")"
   ]
  },
  {
   "cell_type": "code",
   "execution_count": 7,
   "id": "3351f637",
   "metadata": {
    "scrolled": true
   },
   "outputs": [
    {
     "name": "stdout",
     "output_type": "stream",
     "text": [
      "cuda:0 is available\n"
     ]
    }
   ],
   "source": [
    "import torch\n",
    "device = torch.device('cuda:0' if torch.cuda.is_available() else 'cpu')\n",
    "print(f'{device} is available')"
   ]
  },
  {
   "cell_type": "code",
   "execution_count": 8,
   "id": "a34953d8",
   "metadata": {},
   "outputs": [],
   "source": [
    "import torch.nn as nn\n",
    "import torch.nn.functional as F\n",
    "\n",
    "class OLNN(nn.Module):\n",
    "    def __init__(self):\n",
    "        super(OLNN, self).__init__()\n",
    "        self.conv1 = nn.Conv1d(in_channels=5, out_channels=8, kernel_size=10)\n",
    "        self.conv2 = nn.Conv1d(in_channels=5, out_channels=8, kernel_size=10)\n",
    "        self.conv3 = nn.Conv1d(in_channels=5, out_channels=8, kernel_size=10)\n",
    "        self.conv4 = nn.Conv1d(in_channels=5, out_channels=8, kernel_size=10)\n",
    "        \n",
    "        self.conv5 = nn.Conv1d(in_channels=32, out_channels=16, kernel_size=5)\n",
    "        self.conv6 = nn.Conv1d(in_channels=16, out_channels=4,kernel_size=4)\n",
    "        self.conv7 = nn.Conv1d(in_channels=4, out_channels=2,kernel_size=2)\n",
    "        \n",
    "        self.fc1 = nn.Linear(66,64)\n",
    "        self.fc2 = nn.Linear(64,8)\n",
    "        self.fc3 = nn.Linear(8,1)\n",
    "        \n",
    "    def forward(self, x):\n",
    "        x = x.permute((1,0,3,2))\n",
    "        \n",
    "        x1 = self.conv1(x[0])\n",
    "        x2 = self.conv2(x[1])\n",
    "        x3 = self.conv3(x[2])\n",
    "        x4 = self.conv4(x[3])\n",
    "        \n",
    "        x = torch.cat((x1,x2,x3,x4),1)\n",
    "        x = self.conv5(x)\n",
    "        x = self.conv6(x)\n",
    "        x = self.conv7(x)\n",
    "        \n",
    "        x = self.fc1(x.flatten(1))\n",
    "        x = self.fc2(x)\n",
    "        x = self.fc3(x)\n",
    "        return x\n",
    "    \n",
    "model = OLNN().to(device)"
   ]
  },
  {
   "cell_type": "code",
   "execution_count": 9,
   "id": "cf6ae549",
   "metadata": {},
   "outputs": [],
   "source": [
    "import torch.optim as optim\n",
    "\n",
    "optimizer = optim.SGD(model.parameters(), lr = 0.0001)\n",
    "criterion = nn.MSELoss()\n",
    "\n",
    "def fit(epoch, model, data_loader, phase):\n",
    "    if phase == 'train':\n",
    "        model.train()\n",
    "    if phase == 'valid':\n",
    "        model.eval()\n",
    "    \n",
    "    running_loss = 0.0\n",
    "    for batch_idx, (data, target) in enumerate(data_loader):\n",
    "        data, target = data.to(device), target.to(device)\n",
    "        \n",
    "        if phase == 'train':\n",
    "            optimizer.zero_grad()\n",
    "        output = model(data)\n",
    "        loss = criterion(output.permute(1,0), target.permute(1,0))\n",
    "        running_loss += loss.item()\n",
    "        \n",
    "        if phase == 'train':\n",
    "            loss.backward()\n",
    "            optimizer.step()\n",
    "        \n",
    "    loss = running_loss / len(data_loader.dataset)\n",
    "    \n",
    "    print (f'epoch:{epoch}, {phase}loss is {loss}')\n",
    "    return loss"
   ]
  },
  {
   "cell_type": "code",
   "execution_count": 10,
   "id": "5ec60650",
   "metadata": {},
   "outputs": [],
   "source": [
    "path = \"./OLNN.pt\"\n",
    "losses = []\n",
    "val_losses = []\n",
    "# model = torch.load(path).to(device)"
   ]
  },
  {
   "cell_type": "code",
   "execution_count": 11,
   "id": "668899db",
   "metadata": {
    "scrolled": true
   },
   "outputs": [
    {
     "name": "stdout",
     "output_type": "stream",
     "text": [
      "epoch:0, trainloss is 4.63664240813722e-06\n",
      "epoch:0, validloss is 1.4381367894888974e-06\n",
      "1.42분\n",
      "epoch:1, trainloss is 9.969710863920386e-08\n",
      "epoch:1, validloss is 8.281516606072764e-08\n",
      "2.78분\n",
      "epoch:2, trainloss is 1.773405758903989e-08\n",
      "epoch:2, validloss is 5.966232869357956e-08\n",
      "4.02분\n",
      "epoch:3, trainloss is 1.634578927279166e-08\n",
      "epoch:3, validloss is 5.91615241603196e-08\n",
      "5.23분\n",
      "epoch:4, trainloss is 1.631049521752932e-08\n",
      "epoch:4, validloss is 5.913153202806096e-08\n",
      "6.45분\n",
      "epoch:5, trainloss is 1.630338217231496e-08\n",
      "epoch:5, validloss is 5.912882422944889e-08\n",
      "7.69분\n",
      "epoch:6, trainloss is 1.6309110070764232e-08\n",
      "epoch:6, validloss is 5.91281534090618e-08\n",
      "8.95분\n",
      "epoch:7, trainloss is 1.6308511528053485e-08\n",
      "epoch:7, validloss is 5.912790930267739e-08\n",
      "10.23분\n",
      "epoch:8, trainloss is 1.6307387696156824e-08\n",
      "epoch:8, validloss is 5.9128012530758854e-08\n",
      "11.51분\n",
      "epoch:9, trainloss is 1.630765813318136e-08\n",
      "epoch:9, validloss is 5.912801026423421e-08\n",
      "12.79분\n",
      "epoch:10, trainloss is 1.630819998136669e-08\n",
      "epoch:10, validloss is 5.912794057930798e-08\n",
      "14.09분\n",
      "epoch:11, trainloss is 1.6307773321025944e-08\n",
      "epoch:11, validloss is 5.91278205056521e-08\n",
      "15.37분\n",
      "epoch:12, trainloss is 1.6307988544557517e-08\n",
      "epoch:12, validloss is 5.9127801918306896e-08\n",
      "16.65분\n",
      "epoch:13, trainloss is 1.6298849973809924e-08\n",
      "epoch:13, validloss is 5.912791135355422e-08\n",
      "17.93분\n",
      "epoch:14, trainloss is 1.630872275955799e-08\n",
      "epoch:14, validloss is 5.912785636238635e-08\n",
      "19.22분\n",
      "epoch:15, trainloss is 1.630677226497877e-08\n",
      "epoch:15, validloss is 5.912795610356521e-08\n",
      "20.55분\n",
      "epoch:16, trainloss is 1.6306272066130414e-08\n",
      "epoch:16, validloss is 5.9128112886788764e-08\n",
      "21.84분\n",
      "epoch:17, trainloss is 1.6307734871690732e-08\n",
      "epoch:17, validloss is 5.912791247787187e-08\n",
      "23.14분\n",
      "epoch:18, trainloss is 1.6307888688932815e-08\n",
      "epoch:18, validloss is 5.9127940836263895e-08\n",
      "24.44분\n",
      "epoch:19, trainloss is 1.6307284797764766e-08\n",
      "epoch:19, validloss is 5.9127874385512744e-08\n",
      "25.73분\n",
      "epoch:20, trainloss is 1.630813528427605e-08\n",
      "epoch:20, validloss is 5.9127877880330026e-08\n",
      "27.04분\n",
      "epoch:21, trainloss is 1.6301192607840223e-08\n",
      "epoch:21, validloss is 5.912775900731963e-08\n",
      "28.34분\n",
      "epoch:22, trainloss is 1.630754589540242e-08\n",
      "epoch:22, validloss is 5.9127906420217494e-08\n",
      "29.66분\n",
      "epoch:23, trainloss is 1.630856957396066e-08\n",
      "epoch:23, validloss is 5.912783822238296e-08\n",
      "30.99분\n",
      "epoch:24, trainloss is 1.6305046712538995e-08\n",
      "epoch:24, validloss is 5.9128019901490483e-08\n",
      "32.33분\n",
      "epoch:25, trainloss is 1.6307964528594062e-08\n",
      "epoch:25, validloss is 5.912791740622127e-08\n",
      "33.65분\n",
      "epoch:26, trainloss is 1.6308388748179852e-08\n",
      "epoch:26, validloss is 5.9127770276733854e-08\n",
      "34.96분\n",
      "epoch:27, trainloss is 1.6305847320003272e-08\n",
      "epoch:27, validloss is 5.912768486458775e-08\n",
      "36.29분\n",
      "epoch:28, trainloss is 1.6305975234359338e-08\n",
      "epoch:28, validloss is 5.912777048858696e-08\n",
      "37.62분\n",
      "epoch:29, trainloss is 1.6306752135243903e-08\n",
      "epoch:29, validloss is 5.912779633661727e-08\n",
      "38.95분\n",
      "epoch:30, trainloss is 1.630436423709506e-08\n",
      "epoch:30, validloss is 5.9127739913435173e-08\n",
      "40.30분\n",
      "epoch:31, trainloss is 1.6307685174644924e-08\n",
      "epoch:31, validloss is 5.9127751556682304e-08\n",
      "41.63분\n",
      "epoch:32, trainloss is 1.63065341294902e-08\n",
      "epoch:32, validloss is 5.9127843633636004e-08\n",
      "42.98분\n",
      "epoch:33, trainloss is 1.6306939178405122e-08\n",
      "epoch:33, validloss is 5.9127814603038634e-08\n",
      "44.33분\n",
      "epoch:34, trainloss is 1.6306066201740628e-08\n",
      "epoch:34, validloss is 5.912768686190499e-08\n",
      "45.64분\n",
      "epoch:35, trainloss is 1.6306728239565863e-08\n",
      "epoch:35, validloss is 5.912791278773685e-08\n",
      "46.93분\n",
      "epoch:36, trainloss is 1.630845640550625e-08\n",
      "epoch:36, validloss is 5.912786029912444e-08\n",
      "48.21분\n",
      "epoch:37, trainloss is 1.6302435404719084e-08\n",
      "epoch:37, validloss is 5.912782276643047e-08\n",
      "49.49분\n",
      "epoch:38, trainloss is 1.6298234092000563e-08\n",
      "epoch:38, validloss is 5.912785218636484e-08\n",
      "50.77분\n",
      "epoch:39, trainloss is 1.630564335782781e-08\n",
      "epoch:39, validloss is 5.9127938246321746e-08\n",
      "52.05분\n",
      "epoch:40, trainloss is 1.629947505057587e-08\n",
      "epoch:40, validloss is 5.912788147012342e-08\n",
      "53.32분\n",
      "epoch:41, trainloss is 1.630518801424466e-08\n",
      "epoch:41, validloss is 5.912779586780825e-08\n",
      "54.64분\n",
      "epoch:42, trainloss is 1.6308320143642394e-08\n",
      "epoch:42, validloss is 5.9127912953077684e-08\n",
      "55.93분\n",
      "epoch:43, trainloss is 1.630375193966667e-08\n",
      "epoch:43, validloss is 5.912787287608648e-08\n",
      "57.20분\n",
      "epoch:44, trainloss is 1.6307897074889505e-08\n",
      "epoch:44, validloss is 5.912775508922982e-08\n",
      "58.46분\n",
      "epoch:45, trainloss is 1.630856030203312e-08\n",
      "epoch:45, validloss is 5.912767362141122e-08\n",
      "59.75분\n",
      "epoch:46, trainloss is 1.6307999351587424e-08\n",
      "epoch:46, validloss is 5.912768670621356e-08\n",
      "61.02분\n",
      "epoch:47, trainloss is 1.6308195327623502e-08\n",
      "epoch:47, validloss is 5.912771657229712e-08\n",
      "62.30분\n",
      "epoch:48, trainloss is 1.630857756467294e-08\n",
      "epoch:48, validloss is 5.912781686078124e-08\n",
      "63.57분\n",
      "epoch:49, trainloss is 1.6307630234574466e-08\n",
      "epoch:49, validloss is 5.91277524935414e-08\n",
      "64.85분\n",
      "epoch:50, trainloss is 1.630648424887012e-08\n",
      "epoch:50, validloss is 5.912779439524486e-08\n",
      "66.13분\n",
      "epoch:51, trainloss is 1.6308448714556346e-08\n",
      "epoch:51, validloss is 5.912771239378195e-08\n",
      "67.40분\n",
      "epoch:52, trainloss is 1.6306580370744826e-08\n",
      "epoch:52, validloss is 5.9127748807796116e-08\n",
      "68.69분\n",
      "epoch:53, trainloss is 1.6307741227574965e-08\n",
      "epoch:53, validloss is 5.912778842020669e-08\n",
      "69.99분\n",
      "epoch:54, trainloss is 1.630558725807133e-08\n",
      "epoch:54, validloss is 5.9127690367564295e-08\n",
      "71.29분\n",
      "epoch:55, trainloss is 1.630900536882262e-08\n",
      "epoch:55, validloss is 5.9127733401716925e-08\n",
      "72.59분\n",
      "epoch:56, trainloss is 1.6308084182876074e-08\n",
      "epoch:56, validloss is 5.9127807542063565e-08\n",
      "73.89분\n",
      "epoch:57, trainloss is 1.6304283855854583e-08\n",
      "epoch:57, validloss is 5.9127809168800505e-08\n",
      "75.21분\n",
      "epoch:58, trainloss is 1.6307460228627665e-08\n",
      "epoch:58, validloss is 5.912785501081992e-08\n",
      "76.57분\n",
      "epoch:59, trainloss is 1.6308661610960248e-08\n",
      "epoch:59, validloss is 5.912774840729183e-08\n",
      "77.94분\n"
     ]
    }
   ],
   "source": [
    "start = time.time()\n",
    "for epoch in range(60):\n",
    "    epoch_loss = fit(epoch,model,train_dloader, phase = 'train')\n",
    "    losses.append(epoch_loss)\n",
    "    val_epoch_loss = fit(epoch, model, test_dloader, phase ='valid')\n",
    "    val_losses.append(val_epoch_loss)\n",
    "    print(\"{:0,.2f}분\".format((time.time()-start)/60))\n",
    "torch.save(model, path)"
   ]
  },
  {
   "cell_type": "code",
   "execution_count": 21,
   "id": "3daae36f",
   "metadata": {},
   "outputs": [
    {
     "data": {
      "image/png": "[encoded data removed]",
      "text/plain": [
       "<Figure size 1080x360 with 2 Axes>"
      ]
     },
     "metadata": {
      "needs_background": "light"
     },
     "output_type": "display_data"
    }
   ],
   "source": [
    "import matplotlib.pyplot as plt\n",
    "f,ax = plt.subplots(1,2, figsize=(15,5))\n",
    "ax[0].plot(losses[3:])\n",
    "ax[0].set_title('train losses')\n",
    "\n",
    "ax[1].plot(val_losses[3:])\n",
    "ax[1].set_title('test losses')\n",
    "plt.show()"
   ]
  }
 ],
 "metadata": {
  "kernelspec": {
   "display_name": "Python 3 (ipykernel)",
   "language": "python",
   "name": "python3"
  },
  "language_info": {
   "codemirror_mode": {
    "name": "ipython",
    "version": 3
   },
   "file_extension": ".py",
   "mimetype": "text/x-python",
   "name": "python",
   "nbconvert_exporter": "python",
   "pygments_lexer": "ipython3",
   "version": "3.9.7"
  }
 },
 "nbformat": 4,
 "nbformat_minor": 5
}
