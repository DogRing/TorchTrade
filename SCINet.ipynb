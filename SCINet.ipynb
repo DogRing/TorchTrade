{
 "cells": [
  {
   "cell_type": "markdown",
   "id": "9c2a3f77",
   "metadata": {},
   "source": [
    "# SCINet\n",
    "\n",
    "코인의 변화량은 계절, 날짜, 시간대 등에서 큰 영향력을 가지고 있지 않다.  \n",
    "미래에 대한 알고있는 정보들 중에 쓰일만한 정보는 없다고 본다.  \n",
    "  \n",
    "다변량 시계열 데이터의 SOTA인 TFT 보다 단변량 시계열에서 우수한 SCINet을 적용한다. "
   ]
  },
  {
   "cell_type": "markdown",
   "id": "dde26509",
   "metadata": {},
   "source": [
    "![SCINet_ARC](SCINet_arc.png)"
   ]
  },
  {
   "cell_type": "markdown",
   "id": "21145a16",
   "metadata": {},
   "source": [
    "⊙ : hadamard product (아다마르 곱 : 두 행렬의 각 원소의 곱).mul  \n",
    "ψ,ϕ,η,ρ : 각각의 1d cnn  "
   ]
  },
  {
   "cell_type": "code",
   "execution_count": 1,
   "id": "eca34ef5",
   "metadata": {},
   "outputs": [],
   "source": [
    "import numpy as np\n",
    "import pandas as pd\n",
    "import time\n",
    "\n",
    "import warnings\n",
    "warnings.filterwarnings('ignore')"
   ]
  },
  {
   "cell_type": "code",
   "execution_count": 2,
   "id": "9e1c8540",
   "metadata": {},
   "outputs": [
    {
     "data": {
      "text/html": [
       "<div>\n",
       "<style scoped>\n",
       "    .dataframe tbody tr th:only-of-type {\n",
       "        vertical-align: middle;\n",
       "    }\n",
       "\n",
       "    .dataframe tbody tr th {\n",
       "        vertical-align: top;\n",
       "    }\n",
       "\n",
       "    .dataframe thead th {\n",
       "        text-align: right;\n",
       "    }\n",
       "</style>\n",
       "<table border=\"1\" class=\"dataframe\">\n",
       "  <thead>\n",
       "    <tr style=\"text-align: right;\">\n",
       "      <th></th>\n",
       "      <th>open</th>\n",
       "      <th>high</th>\n",
       "      <th>low</th>\n",
       "      <th>close</th>\n",
       "      <th>volume</th>\n",
       "    </tr>\n",
       "  </thead>\n",
       "  <tbody>\n",
       "    <tr>\n",
       "      <th>2018-09-19 23:50:00</th>\n",
       "      <td>7180000.0</td>\n",
       "      <td>7187000.0</td>\n",
       "      <td>7180000.0</td>\n",
       "      <td>7187000.0</td>\n",
       "      <td>0.504830</td>\n",
       "    </tr>\n",
       "    <tr>\n",
       "      <th>2018-09-19 23:51:00</th>\n",
       "      <td>7186000.0</td>\n",
       "      <td>7188000.0</td>\n",
       "      <td>7181000.0</td>\n",
       "      <td>7181000.0</td>\n",
       "      <td>0.882076</td>\n",
       "    </tr>\n",
       "    <tr>\n",
       "      <th>2018-09-19 23:52:00</th>\n",
       "      <td>7184000.0</td>\n",
       "      <td>7188000.0</td>\n",
       "      <td>7183000.0</td>\n",
       "      <td>7188000.0</td>\n",
       "      <td>0.486359</td>\n",
       "    </tr>\n",
       "  </tbody>\n",
       "</table>\n",
       "</div>"
      ],
      "text/plain": [
       "                          open       high        low      close    volume\n",
       "2018-09-19 23:50:00  7180000.0  7187000.0  7180000.0  7187000.0  0.504830\n",
       "2018-09-19 23:51:00  7186000.0  7188000.0  7181000.0  7181000.0  0.882076\n",
       "2018-09-19 23:52:00  7184000.0  7188000.0  7183000.0  7188000.0  0.486359"
      ]
     },
     "execution_count": 2,
     "metadata": {},
     "output_type": "execute_result"
    }
   ],
   "source": [
    "df = pd.read_csv('./data/BTC-M.csv',parse_dates=[0], index_col=[0])\n",
    "df.drop('value',axis=1, inplace=True)\n",
    "df.head(3)"
   ]
  },
  {
   "cell_type": "code",
   "execution_count": 3,
   "id": "2181c3a6",
   "metadata": {},
   "outputs": [
    {
     "data": {
      "text/plain": [
       "1887902"
      ]
     },
     "execution_count": 3,
     "metadata": {},
     "output_type": "execute_result"
    }
   ],
   "source": [
    "from pymodule.dataMod import S2SDataset\n",
    "\n",
    "input_length = 64\n",
    "out_length = 5\n",
    "dataset = S2SDataset(df, input_length, out_length)\n",
    "len(dataset)"
   ]
  },
  {
   "cell_type": "code",
   "execution_count": 4,
   "id": "b2b32fe5",
   "metadata": {},
   "outputs": [
    {
     "name": "stdout",
     "output_type": "stream",
     "text": [
      "train dataset length : 1625758\n",
      "test dataset length : 262144\n"
     ]
    }
   ],
   "source": [
    "from torchvision import transforms\n",
    "from torch.utils.data import Subset, DataLoader\n",
    "\n",
    "test_size = 262144\n",
    "train_set= Subset(dataset, range(len(dataset)-test_size))\n",
    "test_set = Subset(dataset, range(len(dataset)-test_size, len(dataset)))\n",
    "print(f'train dataset length : {len(train_set)}')\n",
    "print(f'test dataset length : {len(test_set)}')\n",
    "\n",
    "\n",
    "train_dloader = DataLoader(train_set, batch_size=512, shuffle=False, drop_last=True)\n",
    "test_dloader = DataLoader(test_set, batch_size=128, shuffle=False)"
   ]
  },
  {
   "cell_type": "code",
   "execution_count": 5,
   "id": "8c6657dc",
   "metadata": {},
   "outputs": [
    {
     "data": {
      "text/plain": [
       "torch.Size([512, 1, 64])"
      ]
     },
     "execution_count": 5,
     "metadata": {},
     "output_type": "execute_result"
    }
   ],
   "source": [
    "train_features, train_labels = next(iter(train_dloader))\n",
    "train_features.size()"
   ]
  },
  {
   "cell_type": "code",
   "execution_count": 6,
   "id": "9eff30fb",
   "metadata": {},
   "outputs": [
    {
     "name": "stdout",
     "output_type": "stream",
     "text": [
      "cuda:0 is available\n"
     ]
    }
   ],
   "source": [
    "import torch\n",
    "device = torch.device('cuda:0' if torch.cuda.is_available() else 'cpu')\n",
    "print(f'{device} is available')"
   ]
  },
  {
   "cell_type": "code",
   "execution_count": 11,
   "id": "d9a629d6",
   "metadata": {},
   "outputs": [
    {
     "name": "stdout",
     "output_type": "stream",
     "text": [
      "torch.Size([512, 1, 5]) torch.Size([512, 1, 5])\n"
     ]
    }
   ],
   "source": [
    "import torch\n",
    "import torch.nn as nn\n",
    "import torch.optim as optim\n",
    "\n",
    "class SCI_Block(nn.Module):\n",
    "    def __init__(self, dropout=0.5):\n",
    "        super(SCI_Block,self).__init__()\n",
    "        self.dropout = dropout\n",
    "        self.pad = nn.ReplicationPad1d((1,0))\n",
    "        self.phi = nn.Sequential(\n",
    "            nn.ReplicationPad1d(3),\n",
    "            nn.Conv1d(1, 2, kernel_size=3,dilation=2, stride=1),\n",
    "            nn.BatchNorm1d(2),\n",
    "            nn.LeakyReLU(negative_slope=0.01, inplace=True),\n",
    "            nn.Dropout(self.dropout),\n",
    "            nn.Conv1d(2, 1, kernel_size=3),\n",
    "            nn.Tanh()\n",
    "        )\n",
    "        self.psi = nn.Sequential(\n",
    "            nn.ReplicationPad1d(3),\n",
    "            nn.Conv1d(1, 2, kernel_size=3,dilation=2, stride=1),\n",
    "            nn.BatchNorm1d(2),\n",
    "            nn.LeakyReLU(negative_slope=0.01, inplace=True),\n",
    "            nn.Dropout(self.dropout),\n",
    "            nn.Conv1d(2, 1, kernel_size=3),\n",
    "            nn.Tanh()\n",
    "        )\n",
    "        self.U   = nn.Sequential(\n",
    "            nn.ReplicationPad1d(3),\n",
    "            nn.Conv1d(1, 2, kernel_size=3,dilation=2, stride=1),\n",
    "            nn.BatchNorm1d(2),\n",
    "            nn.LeakyReLU(negative_slope=0.01, inplace=True),\n",
    "            nn.Dropout(self.dropout),\n",
    "            nn.Conv1d(2, 1, kernel_size=3),\n",
    "            nn.Tanh()\n",
    "        )\n",
    "        self.P   = nn.Sequential(\n",
    "            nn.ReplicationPad1d(3),\n",
    "            nn.Conv1d(1, 2, kernel_size=3,dilation=2, stride=1),\n",
    "            nn.BatchNorm1d(2),\n",
    "            nn.LeakyReLU(negative_slope=0.01, inplace=True),\n",
    "            nn.Dropout(self.dropout),\n",
    "            nn.Conv1d(2, 1, kernel_size=3),\n",
    "            nn.Tanh()\n",
    "        )\n",
    "    \n",
    "    def forward(self, F):\n",
    "        if F.size()[2] %2 == 1:\n",
    "            F = self.pad(F)\n",
    "        Fe = F[:, :,  ::2]\n",
    "        Fo = F[:, :, 1::2]\n",
    "        d = Fo.mul(torch.exp(self.phi(Fe)))\n",
    "        c = Fe.mul(torch.exp(self.psi(Fo)))\n",
    "        \n",
    "        Fe = c + self.U(d)\n",
    "        Fo = d - self.P(c)\n",
    "        \n",
    "        return Fo, Fe\n",
    "    \n",
    "\n",
    "class SCINet(nn.Module):\n",
    "    def __init__(self, L, seq_length):\n",
    "        super(SCINet, self).__init__()\n",
    "        self.num_layer = 2**L-1\n",
    "        self.L = L\n",
    "        self.layers = nn.ModuleList(\n",
    "            [SCI_Block() for i in range(self.num_layer)])\n",
    "        self.conv1 = nn.Conv1d(1,3,5, dilation=4)\n",
    "        self.conv2 = nn.Conv1d(3,1,5)\n",
    "        self.fc = nn.Linear(64,5)\n",
    "        \n",
    "        \n",
    "    def forward(self, x):\n",
    "        results = [x]\n",
    "        mod_index = 0\n",
    "        for i in range(self.num_layer):\n",
    "            seq = results.pop(0)\n",
    "            Fo, Fe = self.layers[i](seq)\n",
    "            results.append(Fo)\n",
    "            results.append(Fe)\n",
    "        \n",
    "        interval = 2**(self.L-1)\n",
    "        while True:\n",
    "            res = []\n",
    "            for i in range(interval):\n",
    "                res.append(torch.cat((results[i], results[i+interval]),2))\n",
    "            \n",
    "            results = res\n",
    "            if interval == 1:\n",
    "                break\n",
    "            else:\n",
    "                interval = interval//2\n",
    "        x = x + results[0]\n",
    "        x = self.fc(x)\n",
    "        return x\n",
    "\n",
    "\n",
    "model = SCINet(4,64).to(device)\n",
    "l = model(train_features)\n",
    "print(l.size(), train_labels.size())\n",
    "optimizer = optim.AdamW(model.parameters(), lr = 1e-3)\n",
    "criterion = nn.MSELoss()"
   ]
  },
  {
   "cell_type": "code",
   "execution_count": 8,
   "id": "db1f0a03",
   "metadata": {},
   "outputs": [],
   "source": [
    "import pickle\n",
    "\n",
    "losses =[]\n",
    "val_losses=[]\n",
    "path = \"./SCIN.pt\"\n",
    "# with open(\"scin_train.pkl\", \"rb\") as fp:\n",
    "#     losses = pickle.load(fp)\n",
    "# with open(\"scin_test.pkl\", \"rb\") as fp:\n",
    "#     val_losses = pickle.load(fp)\n",
    "# model = torch.load(path).to(device)"
   ]
  },
  {
   "cell_type": "code",
   "execution_count": 9,
   "id": "240a3601",
   "metadata": {
    "scrolled": true
   },
   "outputs": [
    {
     "name": "stdout",
     "output_type": "stream",
     "text": [
      "epoch:0, trainloss is 4.286879978348437e-06\n",
      "epoch:0, validloss is 7.228663627320813e-07\n",
      "7.54분\n",
      "epoch:1, trainloss is 2.904047620402318e-07\n",
      "epoch:1, validloss is 7.225553975112771e-07\n",
      "15.13분\n",
      "epoch:2, trainloss is 2.900499072380358e-07\n",
      "epoch:2, validloss is 7.233170106098197e-07\n",
      "22.60분\n",
      "epoch:3, trainloss is 2.8941502601012704e-07\n",
      "epoch:3, validloss is 7.232622797909843e-07\n",
      "30.05분\n",
      "epoch:4, trainloss is 2.8925186280227615e-07\n",
      "epoch:4, validloss is 7.261391922648575e-07\n",
      "37.57분\n",
      "epoch:5, trainloss is 2.8898599145196186e-07\n",
      "epoch:5, validloss is 7.280462144352434e-07\n",
      "45.03분\n",
      "epoch:6, trainloss is 2.8883566406554545e-07\n",
      "epoch:6, validloss is 7.273492241095456e-07\n",
      "52.49분\n",
      "epoch:7, trainloss is 2.886792602550693e-07\n",
      "epoch:7, validloss is 7.275062896766951e-07\n",
      "59.95분\n",
      "epoch:8, trainloss is 2.8849622378425434e-07\n",
      "epoch:8, validloss is 7.289836486349538e-07\n",
      "67.41분\n",
      "epoch:9, trainloss is 2.88345644942741e-07\n",
      "epoch:9, validloss is 7.241413652516598e-07\n",
      "74.86분\n",
      "epoch:10, trainloss is 2.8819940920670227e-07\n",
      "epoch:10, validloss is 7.221516122694893e-07\n",
      "82.31분\n",
      "epoch:11, trainloss is 2.88102368886493e-07\n",
      "epoch:11, validloss is 7.210424423911496e-07\n",
      "89.77분\n",
      "epoch:12, trainloss is 2.879877660786894e-07\n",
      "epoch:12, validloss is 7.206826272158819e-07\n",
      "97.23분\n",
      "epoch:13, trainloss is 2.87907635746486e-07\n",
      "epoch:13, validloss is 7.20781259888224e-07\n",
      "104.69분\n",
      "epoch:14, trainloss is 2.878590999959595e-07\n",
      "epoch:14, validloss is 7.213065887598817e-07\n",
      "112.15분\n",
      "epoch:15, trainloss is 2.8780137254812325e-07\n",
      "epoch:15, validloss is 7.217416947242691e-07\n",
      "119.61분\n",
      "epoch:16, trainloss is 2.8782060534032187e-07\n",
      "epoch:16, validloss is 7.210775282589545e-07\n",
      "127.06분\n",
      "epoch:17, trainloss is 2.87822591407961e-07\n",
      "epoch:17, validloss is 7.211830765801227e-07\n",
      "134.50분\n",
      "epoch:18, trainloss is 2.877776248802909e-07\n",
      "epoch:18, validloss is 7.208843330764464e-07\n",
      "141.95분\n",
      "epoch:19, trainloss is 2.8775676625186784e-07\n",
      "epoch:19, validloss is 7.208963184839046e-07\n",
      "149.40분\n",
      "epoch:20, trainloss is 2.877001463832712e-07\n",
      "epoch:20, validloss is 7.213206710803693e-07\n",
      "156.85분\n",
      "epoch:21, trainloss is 2.8762824759858054e-07\n",
      "epoch:21, validloss is 7.214860625014141e-07\n",
      "164.29분\n",
      "epoch:22, trainloss is 2.8754232185647614e-07\n",
      "epoch:22, validloss is 7.219111799665161e-07\n",
      "171.74분\n",
      "epoch:23, trainloss is 2.874374014052603e-07\n",
      "epoch:23, validloss is 7.231927672897605e-07\n",
      "179.19분\n",
      "epoch:24, trainloss is 2.8738487004864977e-07\n",
      "epoch:24, validloss is 7.23337831901559e-07\n",
      "186.64분\n",
      "epoch:25, trainloss is 2.8736129547682104e-07\n",
      "epoch:25, validloss is 7.228975566417328e-07\n",
      "194.10분\n",
      "epoch:26, trainloss is 2.8726359055827194e-07\n",
      "epoch:26, validloss is 7.234541025457134e-07\n",
      "201.54분\n",
      "epoch:27, trainloss is 2.871611948211559e-07\n",
      "epoch:27, validloss is 7.247527090137318e-07\n",
      "208.99분\n",
      "epoch:28, trainloss is 2.870165718760379e-07\n",
      "epoch:28, validloss is 7.233913895156319e-07\n",
      "216.44분\n",
      "epoch:29, trainloss is 2.870129318486051e-07\n",
      "epoch:29, validloss is 7.267267864196139e-07\n",
      "223.88분\n",
      "epoch:30, trainloss is 2.869275054973325e-07\n",
      "epoch:30, validloss is 7.238002665359809e-07\n",
      "231.33분\n",
      "epoch:31, trainloss is 2.868569919416395e-07\n",
      "epoch:31, validloss is 7.259315021011792e-07\n",
      "238.79분\n",
      "epoch:32, trainloss is 2.8680988978938265e-07\n",
      "epoch:32, validloss is 7.29308754272677e-07\n",
      "246.24분\n",
      "epoch:33, trainloss is 2.8681162805499027e-07\n",
      "epoch:33, validloss is 7.296705151040375e-07\n",
      "253.70분\n",
      "epoch:34, trainloss is 2.867031793366489e-07\n",
      "epoch:34, validloss is 7.310829129711024e-07\n",
      "261.15분\n",
      "epoch:35, trainloss is 2.8665926499420776e-07\n",
      "epoch:35, validloss is 7.326993458241227e-07\n",
      "268.62분\n",
      "epoch:36, trainloss is 2.8660455175837663e-07\n",
      "epoch:36, validloss is 7.382837875404696e-07\n",
      "276.08분\n",
      "epoch:37, trainloss is 2.864855748102653e-07\n",
      "epoch:37, validloss is 7.37009053076651e-07\n",
      "283.54분\n",
      "epoch:38, trainloss is 2.86405471766405e-07\n",
      "epoch:38, validloss is 7.35162969264791e-07\n",
      "291.00분\n",
      "epoch:39, trainloss is 2.864140152269684e-07\n",
      "epoch:39, validloss is 7.3168928592382e-07\n",
      "298.45분\n",
      "epoch:40, trainloss is 2.86341571047436e-07\n",
      "epoch:40, validloss is 7.362593594673755e-07\n",
      "305.91분\n",
      "epoch:41, trainloss is 2.8634329938319496e-07\n",
      "epoch:41, validloss is 7.323951975507156e-07\n",
      "313.36분\n",
      "epoch:42, trainloss is 2.862717995820626e-07\n",
      "epoch:42, validloss is 7.344721825019301e-07\n",
      "320.82분\n",
      "epoch:43, trainloss is 2.8623489426164446e-07\n",
      "epoch:43, validloss is 7.276892907285074e-07\n",
      "328.28분\n",
      "epoch:44, trainloss is 2.8619237715017136e-07\n",
      "epoch:44, validloss is 7.246540307684693e-07\n",
      "335.73분\n",
      "epoch:45, trainloss is 2.8611948040449824e-07\n",
      "epoch:45, validloss is 7.264724566054606e-07\n",
      "343.18분\n",
      "epoch:46, trainloss is 2.8602631149565746e-07\n",
      "epoch:46, validloss is 7.254889579861104e-07\n",
      "350.65분\n",
      "epoch:47, trainloss is 2.859398144583093e-07\n",
      "epoch:47, validloss is 7.249010496547179e-07\n",
      "358.10분\n",
      "epoch:48, trainloss is 2.858792829890297e-07\n",
      "epoch:48, validloss is 7.223080269900747e-07\n",
      "365.65분\n",
      "epoch:49, trainloss is 2.858379343992146e-07\n",
      "epoch:49, validloss is 7.225296729492566e-07\n",
      "373.12분\n",
      "epoch:50, trainloss is 2.8570389318868846e-07\n",
      "epoch:50, validloss is 7.239527254983193e-07\n",
      "380.60분\n",
      "epoch:51, trainloss is 2.8567560374847896e-07\n",
      "epoch:51, validloss is 7.223894178077714e-07\n",
      "388.07분\n",
      "epoch:52, trainloss is 2.8567976858547786e-07\n",
      "epoch:52, validloss is 7.220143885848171e-07\n",
      "395.57분\n",
      "epoch:53, trainloss is 2.8567643029509873e-07\n",
      "epoch:53, validloss is 7.262622640454887e-07\n",
      "403.04분\n",
      "epoch:54, trainloss is 2.8561229257777364e-07\n",
      "epoch:54, validloss is 7.246374916687354e-07\n",
      "410.60분\n",
      "epoch:55, trainloss is 2.8562652855262844e-07\n",
      "epoch:55, validloss is 7.243284089913146e-07\n",
      "418.20분\n",
      "epoch:56, trainloss is 2.8562368697286103e-07\n",
      "epoch:56, validloss is 7.239669194041357e-07\n",
      "425.89분\n",
      "epoch:57, trainloss is 2.855694255462645e-07\n",
      "epoch:57, validloss is 7.255916923201711e-07\n",
      "433.61분\n",
      "epoch:58, trainloss is 2.855807116036258e-07\n",
      "epoch:58, validloss is 7.23379953794772e-07\n",
      "441.47분\n",
      "epoch:59, trainloss is 2.85562562371062e-07\n",
      "epoch:59, validloss is 7.223046391486351e-07\n",
      "449.19분\n",
      "epoch:60, trainloss is 2.8552577872457636e-07\n",
      "epoch:60, validloss is 7.243628029011268e-07\n",
      "456.79분\n",
      "epoch:61, trainloss is 2.854872644000063e-07\n",
      "epoch:61, validloss is 7.2278293611794e-07\n",
      "464.31분\n",
      "epoch:62, trainloss is 2.854878050939738e-07\n",
      "epoch:62, validloss is 7.230558537890414e-07\n",
      "471.82분\n",
      "epoch:63, trainloss is 2.8544174815870955e-07\n",
      "epoch:63, validloss is 7.245578424268893e-07\n",
      "479.29분\n",
      "epoch:64, trainloss is 2.8544798406117415e-07\n",
      "epoch:64, validloss is 7.229702073906479e-07\n",
      "486.79분\n",
      "epoch:65, trainloss is 2.8545215376687576e-07\n",
      "epoch:65, validloss is 7.236077091104642e-07\n",
      "494.48분\n",
      "epoch:66, trainloss is 2.854159132786384e-07\n",
      "epoch:66, validloss is 7.260814155183627e-07\n",
      "502.12분\n",
      "epoch:67, trainloss is 2.854288337247608e-07\n",
      "epoch:67, validloss is 7.23400274661723e-07\n",
      "509.80분\n",
      "epoch:68, trainloss is 2.8542741341962157e-07\n",
      "epoch:68, validloss is 7.23976296500891e-07\n",
      "517.42분\n",
      "epoch:69, trainloss is 2.854375111029e-07\n",
      "epoch:69, validloss is 7.233138336474373e-07\n",
      "525.01분\n"
     ]
    }
   ],
   "source": [
    "from pymodule.models import fit\n",
    "\n",
    "start = time.time()\n",
    "for epoch in range(70):\n",
    "    epoch_loss = fit(epoch,model,train_dloader, criterion, optimizer, phase = 'train')\n",
    "    losses.append(epoch_loss)\n",
    "    val_epoch_loss = fit(epoch, model, test_dloader, criterion, optimizer, phase ='valid')\n",
    "    val_losses.append(val_epoch_loss)\n",
    "    print(\"{:0,.2f}분\".format((time.time()-start)/60))\n",
    "torch.save(model, path)"
   ]
  },
  {
   "cell_type": "code",
   "execution_count": 10,
   "id": "5894b06e",
   "metadata": {},
   "outputs": [],
   "source": [
    "torch.save(model, path)"
   ]
  },
  {
   "cell_type": "code",
   "execution_count": 14,
   "id": "2737709f",
   "metadata": {},
   "outputs": [
    {
     "data": {
      "image/png": "[encoded data removed]",
      "text/plain": [
       "<Figure size 1080x360 with 2 Axes>"
      ]
     },
     "metadata": {
      "needs_background": "light"
     },
     "output_type": "display_data"
    }
   ],
   "source": [
    "import matplotlib.pyplot as plt\n",
    "f,ax = plt.subplots(1,2, figsize=(15,5))\n",
    "ax[0].plot(losses[1:])\n",
    "ax[0].set_title('train losses')\n",
    "\n",
    "ax[1].plot(val_losses[1:])\n",
    "ax[1].set_title('test losses')\n",
    "plt.show()"
   ]
  },
  {
   "cell_type": "code",
   "execution_count": 12,
   "id": "3024882f",
   "metadata": {},
   "outputs": [],
   "source": [
    "with open(\"scin_train.pkl\", \"wb\") as fp:\n",
    "    pickle.dump(losses,fp)\n",
    "with open(\"scin_test.pkl\", \"wb\") as fp:\n",
    "    pickle.dump(val_losses, fp)"
   ]
  },
  {
   "cell_type": "code",
   "execution_count": 15,
   "id": "270ed538",
   "metadata": {},
   "outputs": [
    {
     "ename": "RuntimeError",
     "evalue": "step!=1 is currently not supported",
     "output_type": "error",
     "traceback": [
      "\u001b[1;31m---------------------------------------------------------------------------\u001b[0m",
      "\u001b[1;31mRuntimeError\u001b[0m                              Traceback (most recent call last)",
      "\u001b[1;32m~\\AppData\\Local\\Temp/ipykernel_16956/195370155.py\u001b[0m in \u001b[0;36m<module>\u001b[1;34m\u001b[0m\n\u001b[0;32m      4\u001b[0m \u001b[0mtorch_out\u001b[0m \u001b[1;33m=\u001b[0m \u001b[0mmodel\u001b[0m\u001b[1;33m(\u001b[0m\u001b[0mdummy_input\u001b[0m\u001b[1;33m)\u001b[0m\u001b[1;33m\u001b[0m\u001b[1;33m\u001b[0m\u001b[0m\n\u001b[0;32m      5\u001b[0m \u001b[1;33m\u001b[0m\u001b[0m\n\u001b[1;32m----> 6\u001b[1;33m torch.onnx.export(model, dummy_input, \"SCIn.onnx\", export_params=True,\n\u001b[0m\u001b[0;32m      7\u001b[0m                  \u001b[0mdo_constant_folding\u001b[0m\u001b[1;33m=\u001b[0m\u001b[1;32mTrue\u001b[0m\u001b[1;33m,\u001b[0m \u001b[0minput_names\u001b[0m\u001b[1;33m=\u001b[0m\u001b[1;33m[\u001b[0m\u001b[1;34m'input'\u001b[0m\u001b[1;33m]\u001b[0m\u001b[1;33m,\u001b[0m \u001b[0moutput_names\u001b[0m\u001b[1;33m=\u001b[0m\u001b[1;33m[\u001b[0m\u001b[1;34m'output'\u001b[0m\u001b[1;33m]\u001b[0m\u001b[1;33m,\u001b[0m\u001b[1;33m\u001b[0m\u001b[1;33m\u001b[0m\u001b[0m\n\u001b[0;32m      8\u001b[0m                  opset_version=9)\n",
      "\u001b[1;32mD:\\Anaconda\\envs\\gaza\\lib\\site-packages\\torch\\onnx\\__init__.py\u001b[0m in \u001b[0;36mexport\u001b[1;34m(model, args, f, export_params, verbose, training, input_names, output_names, operator_export_type, opset_version, _retain_param_name, do_constant_folding, example_outputs, strip_doc_string, dynamic_axes, keep_initializers_as_inputs, custom_opsets, enable_onnx_checker, use_external_data_format)\u001b[0m\n\u001b[0;32m    314\u001b[0m \u001b[1;33m\u001b[0m\u001b[0m\n\u001b[0;32m    315\u001b[0m     \u001b[1;32mfrom\u001b[0m \u001b[0mtorch\u001b[0m\u001b[1;33m.\u001b[0m\u001b[0monnx\u001b[0m \u001b[1;32mimport\u001b[0m \u001b[0mutils\u001b[0m\u001b[1;33m\u001b[0m\u001b[1;33m\u001b[0m\u001b[0m\n\u001b[1;32m--> 316\u001b[1;33m     return utils.export(model, args, f, export_params, verbose, training,\n\u001b[0m\u001b[0;32m    317\u001b[0m                         \u001b[0minput_names\u001b[0m\u001b[1;33m,\u001b[0m \u001b[0moutput_names\u001b[0m\u001b[1;33m,\u001b[0m \u001b[0moperator_export_type\u001b[0m\u001b[1;33m,\u001b[0m \u001b[0mopset_version\u001b[0m\u001b[1;33m,\u001b[0m\u001b[1;33m\u001b[0m\u001b[1;33m\u001b[0m\u001b[0m\n\u001b[0;32m    318\u001b[0m                         \u001b[0m_retain_param_name\u001b[0m\u001b[1;33m,\u001b[0m \u001b[0mdo_constant_folding\u001b[0m\u001b[1;33m,\u001b[0m \u001b[0mexample_outputs\u001b[0m\u001b[1;33m,\u001b[0m\u001b[1;33m\u001b[0m\u001b[1;33m\u001b[0m\u001b[0m\n",
      "\u001b[1;32mD:\\Anaconda\\envs\\gaza\\lib\\site-packages\\torch\\onnx\\utils.py\u001b[0m in \u001b[0;36mexport\u001b[1;34m(model, args, f, export_params, verbose, training, input_names, output_names, operator_export_type, opset_version, _retain_param_name, do_constant_folding, example_outputs, strip_doc_string, dynamic_axes, keep_initializers_as_inputs, custom_opsets, enable_onnx_checker, use_external_data_format)\u001b[0m\n\u001b[0;32m    105\u001b[0m                       \"Otherwise set to False because of size limits imposed by Protocol Buffers.\")\n\u001b[0;32m    106\u001b[0m \u001b[1;33m\u001b[0m\u001b[0m\n\u001b[1;32m--> 107\u001b[1;33m     _export(model, args, f, export_params, verbose, training, input_names, output_names,\n\u001b[0m\u001b[0;32m    108\u001b[0m             \u001b[0moperator_export_type\u001b[0m\u001b[1;33m=\u001b[0m\u001b[0moperator_export_type\u001b[0m\u001b[1;33m,\u001b[0m \u001b[0mopset_version\u001b[0m\u001b[1;33m=\u001b[0m\u001b[0mopset_version\u001b[0m\u001b[1;33m,\u001b[0m\u001b[1;33m\u001b[0m\u001b[1;33m\u001b[0m\u001b[0m\n\u001b[0;32m    109\u001b[0m             \u001b[0mdo_constant_folding\u001b[0m\u001b[1;33m=\u001b[0m\u001b[0mdo_constant_folding\u001b[0m\u001b[1;33m,\u001b[0m \u001b[0mexample_outputs\u001b[0m\u001b[1;33m=\u001b[0m\u001b[0mexample_outputs\u001b[0m\u001b[1;33m,\u001b[0m\u001b[1;33m\u001b[0m\u001b[1;33m\u001b[0m\u001b[0m\n",
      "\u001b[1;32mD:\\Anaconda\\envs\\gaza\\lib\\site-packages\\torch\\onnx\\utils.py\u001b[0m in \u001b[0;36m_export\u001b[1;34m(model, args, f, export_params, verbose, training, input_names, output_names, operator_export_type, export_type, example_outputs, opset_version, do_constant_folding, dynamic_axes, keep_initializers_as_inputs, fixed_batch_size, custom_opsets, add_node_names, use_external_data_format, onnx_shape_inference)\u001b[0m\n\u001b[0;32m    722\u001b[0m \u001b[1;33m\u001b[0m\u001b[0m\n\u001b[0;32m    723\u001b[0m             \u001b[0mgraph\u001b[0m\u001b[1;33m,\u001b[0m \u001b[0mparams_dict\u001b[0m\u001b[1;33m,\u001b[0m \u001b[0mtorch_out\u001b[0m \u001b[1;33m=\u001b[0m\u001b[0;31m \u001b[0m\u001b[0;31m\\\u001b[0m\u001b[1;33m\u001b[0m\u001b[1;33m\u001b[0m\u001b[0m\n\u001b[1;32m--> 724\u001b[1;33m                 _model_to_graph(model, args, verbose, input_names,\n\u001b[0m\u001b[0;32m    725\u001b[0m                                 \u001b[0moutput_names\u001b[0m\u001b[1;33m,\u001b[0m \u001b[0moperator_export_type\u001b[0m\u001b[1;33m,\u001b[0m\u001b[1;33m\u001b[0m\u001b[1;33m\u001b[0m\u001b[0m\n\u001b[0;32m    726\u001b[0m                                 \u001b[0mexample_outputs\u001b[0m\u001b[1;33m,\u001b[0m \u001b[0mval_do_constant_folding\u001b[0m\u001b[1;33m,\u001b[0m\u001b[1;33m\u001b[0m\u001b[1;33m\u001b[0m\u001b[0m\n",
      "\u001b[1;32mD:\\Anaconda\\envs\\gaza\\lib\\site-packages\\torch\\onnx\\utils.py\u001b[0m in \u001b[0;36m_model_to_graph\u001b[1;34m(model, args, verbose, input_names, output_names, operator_export_type, example_outputs, do_constant_folding, _disable_torch_constant_prop, fixed_batch_size, training, dynamic_axes)\u001b[0m\n\u001b[0;32m    495\u001b[0m     \u001b[0mparams_dict\u001b[0m \u001b[1;33m=\u001b[0m \u001b[0m_get_named_param_dict\u001b[0m\u001b[1;33m(\u001b[0m\u001b[0mgraph\u001b[0m\u001b[1;33m,\u001b[0m \u001b[0mparams\u001b[0m\u001b[1;33m)\u001b[0m\u001b[1;33m\u001b[0m\u001b[1;33m\u001b[0m\u001b[0m\n\u001b[0;32m    496\u001b[0m \u001b[1;33m\u001b[0m\u001b[0m\n\u001b[1;32m--> 497\u001b[1;33m     graph = _optimize_graph(graph, operator_export_type,\n\u001b[0m\u001b[0;32m    498\u001b[0m                             \u001b[0m_disable_torch_constant_prop\u001b[0m\u001b[1;33m=\u001b[0m\u001b[0m_disable_torch_constant_prop\u001b[0m\u001b[1;33m,\u001b[0m\u001b[1;33m\u001b[0m\u001b[1;33m\u001b[0m\u001b[0m\n\u001b[0;32m    499\u001b[0m                             \u001b[0mfixed_batch_size\u001b[0m\u001b[1;33m=\u001b[0m\u001b[0mfixed_batch_size\u001b[0m\u001b[1;33m,\u001b[0m \u001b[0mparams_dict\u001b[0m\u001b[1;33m=\u001b[0m\u001b[0mparams_dict\u001b[0m\u001b[1;33m,\u001b[0m\u001b[1;33m\u001b[0m\u001b[1;33m\u001b[0m\u001b[0m\n",
      "\u001b[1;32mD:\\Anaconda\\envs\\gaza\\lib\\site-packages\\torch\\onnx\\utils.py\u001b[0m in \u001b[0;36m_optimize_graph\u001b[1;34m(graph, operator_export_type, _disable_torch_constant_prop, fixed_batch_size, params_dict, dynamic_axes, input_names, module)\u001b[0m\n\u001b[0;32m    214\u001b[0m         \u001b[0mdynamic_axes\u001b[0m \u001b[1;33m=\u001b[0m \u001b[1;33m{\u001b[0m\u001b[1;33m}\u001b[0m \u001b[1;32mif\u001b[0m \u001b[0mdynamic_axes\u001b[0m \u001b[1;32mis\u001b[0m \u001b[1;32mNone\u001b[0m \u001b[1;32melse\u001b[0m \u001b[0mdynamic_axes\u001b[0m\u001b[1;33m\u001b[0m\u001b[1;33m\u001b[0m\u001b[0m\n\u001b[0;32m    215\u001b[0m         \u001b[0mtorch\u001b[0m\u001b[1;33m.\u001b[0m\u001b[0m_C\u001b[0m\u001b[1;33m.\u001b[0m\u001b[0m_jit_pass_onnx_set_dynamic_input_shape\u001b[0m\u001b[1;33m(\u001b[0m\u001b[0mgraph\u001b[0m\u001b[1;33m,\u001b[0m \u001b[0mdynamic_axes\u001b[0m\u001b[1;33m,\u001b[0m \u001b[0minput_names\u001b[0m\u001b[1;33m)\u001b[0m\u001b[1;33m\u001b[0m\u001b[1;33m\u001b[0m\u001b[0m\n\u001b[1;32m--> 216\u001b[1;33m     \u001b[0mgraph\u001b[0m \u001b[1;33m=\u001b[0m \u001b[0mtorch\u001b[0m\u001b[1;33m.\u001b[0m\u001b[0m_C\u001b[0m\u001b[1;33m.\u001b[0m\u001b[0m_jit_pass_onnx\u001b[0m\u001b[1;33m(\u001b[0m\u001b[0mgraph\u001b[0m\u001b[1;33m,\u001b[0m \u001b[0moperator_export_type\u001b[0m\u001b[1;33m)\u001b[0m\u001b[1;33m\u001b[0m\u001b[1;33m\u001b[0m\u001b[0m\n\u001b[0m\u001b[0;32m    217\u001b[0m     \u001b[0mtorch\u001b[0m\u001b[1;33m.\u001b[0m\u001b[0m_C\u001b[0m\u001b[1;33m.\u001b[0m\u001b[0m_jit_pass_lint\u001b[0m\u001b[1;33m(\u001b[0m\u001b[0mgraph\u001b[0m\u001b[1;33m)\u001b[0m\u001b[1;33m\u001b[0m\u001b[1;33m\u001b[0m\u001b[0m\n\u001b[0;32m    218\u001b[0m \u001b[1;33m\u001b[0m\u001b[0m\n",
      "\u001b[1;32mD:\\Anaconda\\envs\\gaza\\lib\\site-packages\\torch\\onnx\\__init__.py\u001b[0m in \u001b[0;36m_run_symbolic_function\u001b[1;34m(*args, **kwargs)\u001b[0m\n\u001b[0;32m    371\u001b[0m \u001b[1;32mdef\u001b[0m \u001b[0m_run_symbolic_function\u001b[0m\u001b[1;33m(\u001b[0m\u001b[1;33m*\u001b[0m\u001b[0margs\u001b[0m\u001b[1;33m,\u001b[0m \u001b[1;33m**\u001b[0m\u001b[0mkwargs\u001b[0m\u001b[1;33m)\u001b[0m\u001b[1;33m:\u001b[0m\u001b[1;33m\u001b[0m\u001b[1;33m\u001b[0m\u001b[0m\n\u001b[0;32m    372\u001b[0m     \u001b[1;32mfrom\u001b[0m \u001b[0mtorch\u001b[0m\u001b[1;33m.\u001b[0m\u001b[0monnx\u001b[0m \u001b[1;32mimport\u001b[0m \u001b[0mutils\u001b[0m\u001b[1;33m\u001b[0m\u001b[1;33m\u001b[0m\u001b[0m\n\u001b[1;32m--> 373\u001b[1;33m     \u001b[1;32mreturn\u001b[0m \u001b[0mutils\u001b[0m\u001b[1;33m.\u001b[0m\u001b[0m_run_symbolic_function\u001b[0m\u001b[1;33m(\u001b[0m\u001b[1;33m*\u001b[0m\u001b[0margs\u001b[0m\u001b[1;33m,\u001b[0m \u001b[1;33m**\u001b[0m\u001b[0mkwargs\u001b[0m\u001b[1;33m)\u001b[0m\u001b[1;33m\u001b[0m\u001b[1;33m\u001b[0m\u001b[0m\n\u001b[0m\u001b[0;32m    374\u001b[0m \u001b[1;33m\u001b[0m\u001b[0m\n\u001b[0;32m    375\u001b[0m \u001b[1;33m\u001b[0m\u001b[0m\n",
      "\u001b[1;32mD:\\Anaconda\\envs\\gaza\\lib\\site-packages\\torch\\onnx\\utils.py\u001b[0m in \u001b[0;36m_run_symbolic_function\u001b[1;34m(g, block, n, inputs, env, operator_export_type)\u001b[0m\n\u001b[0;32m   1030\u001b[0m                     \u001b[1;32mreturn\u001b[0m \u001b[1;32mNone\u001b[0m\u001b[1;33m\u001b[0m\u001b[1;33m\u001b[0m\u001b[0m\n\u001b[0;32m   1031\u001b[0m                 \u001b[0mattrs\u001b[0m \u001b[1;33m=\u001b[0m \u001b[1;33m{\u001b[0m\u001b[0mk\u001b[0m\u001b[1;33m:\u001b[0m \u001b[0mn\u001b[0m\u001b[1;33m[\u001b[0m\u001b[0mk\u001b[0m\u001b[1;33m]\u001b[0m \u001b[1;32mfor\u001b[0m \u001b[0mk\u001b[0m \u001b[1;32min\u001b[0m \u001b[0mn\u001b[0m\u001b[1;33m.\u001b[0m\u001b[0mattributeNames\u001b[0m\u001b[1;33m(\u001b[0m\u001b[1;33m)\u001b[0m\u001b[1;33m}\u001b[0m\u001b[1;33m\u001b[0m\u001b[1;33m\u001b[0m\u001b[0m\n\u001b[1;32m-> 1032\u001b[1;33m                 \u001b[1;32mreturn\u001b[0m \u001b[0msymbolic_fn\u001b[0m\u001b[1;33m(\u001b[0m\u001b[0mg\u001b[0m\u001b[1;33m,\u001b[0m \u001b[1;33m*\u001b[0m\u001b[0minputs\u001b[0m\u001b[1;33m,\u001b[0m \u001b[1;33m**\u001b[0m\u001b[0mattrs\u001b[0m\u001b[1;33m)\u001b[0m\u001b[1;33m\u001b[0m\u001b[1;33m\u001b[0m\u001b[0m\n\u001b[0m\u001b[0;32m   1033\u001b[0m \u001b[1;33m\u001b[0m\u001b[0m\n\u001b[0;32m   1034\u001b[0m         \u001b[1;32melif\u001b[0m \u001b[0mns\u001b[0m \u001b[1;33m==\u001b[0m \u001b[1;34m\"prim\"\u001b[0m\u001b[1;33m:\u001b[0m\u001b[1;33m\u001b[0m\u001b[1;33m\u001b[0m\u001b[0m\n",
      "\u001b[1;32mD:\\Anaconda\\envs\\gaza\\lib\\site-packages\\torch\\onnx\\symbolic_opset9.py\u001b[0m in \u001b[0;36mslice\u001b[1;34m(g, self, *args)\u001b[0m\n\u001b[0;32m   1864\u001b[0m         \u001b[0mstep\u001b[0m \u001b[1;33m=\u001b[0m \u001b[0m_parse_arg\u001b[0m\u001b[1;33m(\u001b[0m\u001b[0mstep\u001b[0m\u001b[1;33m,\u001b[0m \u001b[1;34m\"i\"\u001b[0m\u001b[1;33m)\u001b[0m\u001b[1;33m\u001b[0m\u001b[1;33m\u001b[0m\u001b[0m\n\u001b[0;32m   1865\u001b[0m         \u001b[1;32mif\u001b[0m \u001b[0mstep\u001b[0m \u001b[1;33m!=\u001b[0m \u001b[1;36m1\u001b[0m\u001b[1;33m:\u001b[0m\u001b[1;33m\u001b[0m\u001b[1;33m\u001b[0m\u001b[0m\n\u001b[1;32m-> 1866\u001b[1;33m             \u001b[1;32mraise\u001b[0m \u001b[0mRuntimeError\u001b[0m\u001b[1;33m(\u001b[0m\u001b[1;34m\"step!=1 is currently not supported\"\u001b[0m\u001b[1;33m)\u001b[0m\u001b[1;33m\u001b[0m\u001b[1;33m\u001b[0m\u001b[0m\n\u001b[0m\u001b[0;32m   1867\u001b[0m         \u001b[0mis_start_none\u001b[0m \u001b[1;33m=\u001b[0m \u001b[0mstart\u001b[0m\u001b[1;33m.\u001b[0m\u001b[0mnode\u001b[0m\u001b[1;33m(\u001b[0m\u001b[1;33m)\u001b[0m\u001b[1;33m.\u001b[0m\u001b[0mkind\u001b[0m\u001b[1;33m(\u001b[0m\u001b[1;33m)\u001b[0m \u001b[1;33m==\u001b[0m \u001b[1;34m\"prim::Constant\"\u001b[0m \u001b[1;32mand\u001b[0m \u001b[0mstart\u001b[0m\u001b[1;33m.\u001b[0m\u001b[0mtype\u001b[0m\u001b[1;33m(\u001b[0m\u001b[1;33m)\u001b[0m\u001b[1;33m.\u001b[0m\u001b[0mkind\u001b[0m\u001b[1;33m(\u001b[0m\u001b[1;33m)\u001b[0m \u001b[1;33m==\u001b[0m \u001b[1;34m'NoneType'\u001b[0m\u001b[1;33m\u001b[0m\u001b[1;33m\u001b[0m\u001b[0m\n\u001b[0;32m   1868\u001b[0m         \u001b[0mis_end_none\u001b[0m \u001b[1;33m=\u001b[0m \u001b[0mend\u001b[0m\u001b[1;33m.\u001b[0m\u001b[0mnode\u001b[0m\u001b[1;33m(\u001b[0m\u001b[1;33m)\u001b[0m\u001b[1;33m.\u001b[0m\u001b[0mkind\u001b[0m\u001b[1;33m(\u001b[0m\u001b[1;33m)\u001b[0m \u001b[1;33m==\u001b[0m \u001b[1;34m\"prim::Constant\"\u001b[0m \u001b[1;32mand\u001b[0m \u001b[0mend\u001b[0m\u001b[1;33m.\u001b[0m\u001b[0mtype\u001b[0m\u001b[1;33m(\u001b[0m\u001b[1;33m)\u001b[0m\u001b[1;33m.\u001b[0m\u001b[0mkind\u001b[0m\u001b[1;33m(\u001b[0m\u001b[1;33m)\u001b[0m \u001b[1;33m==\u001b[0m \u001b[1;34m'NoneType'\u001b[0m\u001b[1;33m\u001b[0m\u001b[1;33m\u001b[0m\u001b[0m\n",
      "\u001b[1;31mRuntimeError\u001b[0m: step!=1 is currently not supported"
     ]
    }
   ],
   "source": [
    "import torch.onnx\n",
    "model.eval()\n",
    "dummy_input = torch.randn(1,1,64).to(device)\n",
    "torch_out = model(dummy_input)\n",
    "\n",
    "torch.onnx.export(model, dummy_input, \"SCIn.onnx\", export_params=True,\n",
    "                 do_constant_folding=True, input_names=['input'], output_names=['output'],\n",
    "                 opset_version=9)"
   ]
  }
 ],
 "metadata": {
  "kernelspec": {
   "display_name": "Python 3 (ipykernel)",
   "language": "python",
   "name": "python3"
  },
  "language_info": {
   "codemirror_mode": {
    "name": "ipython",
    "version": 3
   },
   "file_extension": ".py",
   "mimetype": "text/x-python",
   "name": "python",
   "nbconvert_exporter": "python",
   "pygments_lexer": "ipython3",
   "version": "3.9.7"
  }
 },
 "nbformat": 4,
 "nbformat_minor": 5
}
