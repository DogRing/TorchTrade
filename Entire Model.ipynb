{
 "cells": [
  {
   "cell_type": "code",
   "execution_count": 1,
   "id": "070a75a2",
   "metadata": {},
   "outputs": [],
   "source": [
    "import numpy as np\n",
    "import pandas as pd\n",
    "import matplotlib.pyplot as plt\n",
    "import datetime\n",
    "from IPython.display import clear_output\n",
    "import time\n",
    "\n",
    "from numpy.ctypeslib import ndpointer\n",
    "import ctypes\n",
    "\n",
    "%matplotlib inline\n",
    "\n",
    "import warnings\n",
    "warnings.filterwarnings('ignore')\n",
    "\n",
    "import glob"
   ]
  },
  {
   "cell_type": "markdown",
   "id": "e3d7fcce",
   "metadata": {},
   "source": [
    "# 입력 데이터\n",
    "각 데이터는 분단위의 시계열 데이터로 나타난다.  \n",
    "결측값은 interpolate로 채워 넣었으며, 총 1815958개의 행을 가지고 있다.  "
   ]
  },
  {
   "cell_type": "code",
   "execution_count": 2,
   "id": "b1262bf4",
   "metadata": {
    "scrolled": true
   },
   "outputs": [
    {
     "data": {
      "text/html": [
       "<div>\n",
       "<style scoped>\n",
       "    .dataframe tbody tr th:only-of-type {\n",
       "        vertical-align: middle;\n",
       "    }\n",
       "\n",
       "    .dataframe tbody tr th {\n",
       "        vertical-align: top;\n",
       "    }\n",
       "\n",
       "    .dataframe thead th {\n",
       "        text-align: right;\n",
       "    }\n",
       "</style>\n",
       "<table border=\"1\" class=\"dataframe\">\n",
       "  <thead>\n",
       "    <tr style=\"text-align: right;\">\n",
       "      <th></th>\n",
       "      <th>open</th>\n",
       "      <th>high</th>\n",
       "      <th>low</th>\n",
       "      <th>close</th>\n",
       "      <th>volume</th>\n",
       "    </tr>\n",
       "  </thead>\n",
       "  <tbody>\n",
       "    <tr>\n",
       "      <th>2018-09-19 23:50:00</th>\n",
       "      <td>7180000.0</td>\n",
       "      <td>7187000.0</td>\n",
       "      <td>7180000.0</td>\n",
       "      <td>7187000.0</td>\n",
       "      <td>0.504830</td>\n",
       "    </tr>\n",
       "    <tr>\n",
       "      <th>2018-09-19 23:51:00</th>\n",
       "      <td>7186000.0</td>\n",
       "      <td>7188000.0</td>\n",
       "      <td>7181000.0</td>\n",
       "      <td>7181000.0</td>\n",
       "      <td>0.882076</td>\n",
       "    </tr>\n",
       "    <tr>\n",
       "      <th>2018-09-19 23:52:00</th>\n",
       "      <td>7184000.0</td>\n",
       "      <td>7188000.0</td>\n",
       "      <td>7183000.0</td>\n",
       "      <td>7188000.0</td>\n",
       "      <td>0.486359</td>\n",
       "    </tr>\n",
       "    <tr>\n",
       "      <th>2018-09-19 23:53:00</th>\n",
       "      <td>7188000.0</td>\n",
       "      <td>7188000.0</td>\n",
       "      <td>7188000.0</td>\n",
       "      <td>7188000.0</td>\n",
       "      <td>0.002734</td>\n",
       "    </tr>\n",
       "    <tr>\n",
       "      <th>2018-09-19 23:54:00</th>\n",
       "      <td>7188000.0</td>\n",
       "      <td>7188000.0</td>\n",
       "      <td>7187000.0</td>\n",
       "      <td>7187000.0</td>\n",
       "      <td>0.006945</td>\n",
       "    </tr>\n",
       "  </tbody>\n",
       "</table>\n",
       "</div>"
      ],
      "text/plain": [
       "                          open       high        low      close    volume\n",
       "2018-09-19 23:50:00  7180000.0  7187000.0  7180000.0  7187000.0  0.504830\n",
       "2018-09-19 23:51:00  7186000.0  7188000.0  7181000.0  7181000.0  0.882076\n",
       "2018-09-19 23:52:00  7184000.0  7188000.0  7183000.0  7188000.0  0.486359\n",
       "2018-09-19 23:53:00  7188000.0  7188000.0  7188000.0  7188000.0  0.002734\n",
       "2018-09-19 23:54:00  7188000.0  7188000.0  7187000.0  7187000.0  0.006945"
      ]
     },
     "execution_count": 2,
     "metadata": {},
     "output_type": "execute_result"
    }
   ],
   "source": [
    "tickers = ['BTC', 'ETH', 'XRP', 'DOGE','ETC']\n",
    "path = './data/'+tickers[0]+'-M.csv'\n",
    "df = pd.read_csv(path,parse_dates=[0], index_col=[0])\n",
    "df.drop('value',axis=1, inplace=True)\n",
    "df.head()"
   ]
  },
  {
   "cell_type": "markdown",
   "id": "7ecdcbc5",
   "metadata": {},
   "source": [
    "### pred 열\n",
    "원하는 변동률에 도달하는 기간을 나타낸다.  \n",
    "상승의 경우 양수로, 하강의 경우 음수로 나타내며, 각 절대값은 도달하는 기간이다.  \n",
    "예) per(df, 0.05) 에서 2490의 경우 2490분 후에 5%만큼 상승한다는 것을 나타낸다.  "
   ]
  },
  {
   "cell_type": "markdown",
   "id": "4028d9ed",
   "metadata": {},
   "source": [
    "Python의 경우 속도가 느려 C언어를 이용한 동적 라이브러리를 사용하였다. "
   ]
  },
  {
   "cell_type": "code",
   "execution_count": 3,
   "id": "2b1c1ead",
   "metadata": {},
   "outputs": [],
   "source": [
    "_dll = ctypes.CDLL('setPred.dll')\n",
    "_doublepp = ndpointer(dtype=np.uintp, ndim=1, flags='C')\n",
    "\n",
    "_pred = _dll.pred_period\n",
    "_pred.argtypes = [ctypes.c_float, ctypes.c_int, _doublepp, _doublepp]\n",
    "_pred.restype = None\n",
    "\n",
    "def per(x, per):\n",
    "    y =  np.zeros_like(x[['close']], dtype = int)\n",
    "    x_np = x[['open','high','low','close']].to_numpy(dtype =int)\n",
    "    xpp = (x_np.__array_interface__['data'][0]\n",
    "          + np.arange(x_np.shape[0])*x_np.strides[0]).astype(np.uintp)\n",
    "    ypp = (y.__array_interface__['data'][0]\n",
    "          + np.arange(y.shape[0])*y.strides[0]).astype(np.uintp)\n",
    "    d_m = ctypes.c_int(x.shape[0])\n",
    "    \n",
    "    _pred(per, d_m, xpp, ypp)\n",
    "    return y"
   ]
  },
  {
   "cell_type": "code",
   "execution_count": 125,
   "id": "e9b092d6",
   "metadata": {},
   "outputs": [],
   "source": [
    "pred = per(df,0.05)"
   ]
  },
  {
   "cell_type": "markdown",
   "id": "cf743d45",
   "metadata": {},
   "source": [
    "# Custom DataSet 생성  \n",
    "dataloader로 변환  "
   ]
  },
  {
   "cell_type": "markdown",
   "id": "82ebab9c",
   "metadata": {},
   "source": [
    "### 전처리\n",
    "각 항목들을 직전에 대한 변동률을 %로 나타내었으며  \n",
    "예측값을 포함한 전부 절대값 최대의 나눗셈으로 정규화를 하였다. \n",
    "\n",
    "해당 정규화를 통해 예측값이 -1에 가까울수록 하향추세, 1에 가까울수록 상승추세를 나타낸다. "
   ]
  },
  {
   "cell_type": "code",
   "execution_count": 168,
   "id": "9da1eb79",
   "metadata": {
    "scrolled": true
   },
   "outputs": [
    {
     "name": "stdout",
     "output_type": "stream",
     "text": [
      "cuda:0 is available\n"
     ]
    }
   ],
   "source": [
    "import torch\n",
    "device = torch.device('cuda:0' if torch.cuda.is_available() else 'cpu')\n",
    "print(f'{device} is available')"
   ]
  },
  {
   "cell_type": "markdown",
   "id": "ddfe6a43",
   "metadata": {},
   "source": [
    "해당 데이터를 분 데이터, 10분 데이터, 1시간 데이터, 일 데이터로 정규화하였으며,  \n",
    "모델의 입력 데이터는 4차원으로 쌓아서 나타낸다. "
   ]
  },
  {
   "cell_type": "code",
   "execution_count": 174,
   "id": "c5a91f9f",
   "metadata": {},
   "outputs": [],
   "source": [
    "from torch.utils.data import Dataset\n",
    "\n",
    "seq_length = 50\n",
    "\n",
    "class BasicDataset(Dataset):\n",
    "    def sampling_range(self, df, T_range):\n",
    "        df_sample = pd.DataFrame(df['open'].resample(T_range).first())\n",
    "        df_sample['high'] = df['high'].resample(T_range).max()\n",
    "        df_sample['volume'] = df['volume'].resample(T_range).sum()\n",
    "        df_sample['low'] = df['low'].resample(T_range).min()\n",
    "        df_sample['close'] = df['close'].resample(T_range).last()\n",
    "        for i in ['open','high','low','close']:\n",
    "            df_sample[i] = df_sample[i] * 100 / df.close\n",
    "        \n",
    "        for i in df_sample:\n",
    "            df_sample[i] = df_sample[i] / df_sample[i].abs().max()\n",
    "        \n",
    "        return df_sample\n",
    "    \n",
    "    def __init__(self, t_df ,pred ,seq_length):\n",
    "        super(BasicDataset, self).__init__()\n",
    "        self.seq_length = seq_length\n",
    "        \n",
    "        self.df_T = torch.FloatTensor(self.sampling_range(t_df, 'T').values).to(device)\n",
    "        self.df_10T = torch.FloatTensor(self.sampling_range(t_df, '10T').values).to(device)\n",
    "        self.df_H = torch.FloatTensor(self.sampling_range(t_df, '60T').values).to(device)\n",
    "        self.df_D = torch.FloatTensor(self.sampling_range(t_df, '1440T').values).to(device)\n",
    "        \n",
    "        y = np.array(pred, dtype=np.float32)\n",
    "        y = np.reciprocal(y)\n",
    "        y[y == np.inf] = 0\n",
    "        self.y = torch.FloatTensor(y).to(device)\n",
    "        \n",
    "    def __getitem__(self,index):\n",
    "        index = index + 72000        \n",
    "        \n",
    "        self.x_data = torch.stack((self.df_T[index - self.seq_length : index],\n",
    "                                self.df_10T[index//10 - self.seq_length : index//10],\n",
    "                                self.df_H[index//60 - self.seq_length : index//60],\n",
    "                                self.df_D[index//1440 - self.seq_length : index//1440]))\n",
    "\n",
    "        self.y_data = self.y[index]\n",
    "        \n",
    "        return self.x_data, self.y_data\n",
    "        \n",
    "    def __len__(self):\n",
    "        return len(self.df_T) - 72000\n",
    "        \n",
    "dataset = BasicDataset(df[10:-4], pred[10:-4], seq_length)"
   ]
  },
  {
   "cell_type": "code",
   "execution_count": 175,
   "id": "1da53c18",
   "metadata": {},
   "outputs": [
    {
     "name": "stdout",
     "output_type": "stream",
     "text": [
      "train dataset length : 1715958\n",
      "test dataset length : 100000\n"
     ]
    }
   ],
   "source": [
    "from torch.utils.data import DataLoader, random_split\n",
    "\n",
    "test_size = 100000\n",
    "train_set, test_set = torch.utils.data.random_split(dataset,[len(dataset)-test_size, test_size])\n",
    "print(f'train dataset length : {len(train_set)}')\n",
    "print(f'test dataset length : {len(test_set)}')\n",
    "\n",
    "train_dataloader = DataLoader(train_set, batch_size=256, shuffle=True, drop_last=True)\n",
    "test_dataloader = DataLoader(test_set, batch_size=128, shuffle=True, drop_last=True)"
   ]
  },
  {
   "cell_type": "code",
   "execution_count": 176,
   "id": "20d32e55",
   "metadata": {
    "scrolled": false
   },
   "outputs": [
    {
     "name": "stdout",
     "output_type": "stream",
     "text": [
      "Feature batch shape: torch.Size([256, 4, 50, 5])\n",
      "Labels batch shape: torch.Size([256, 1])\n"
     ]
    }
   ],
   "source": [
    "train_features, train_labels = next(iter(train_dataloader))\n",
    "print(f\"Feature batch shape: {train_features.size()}\")\n",
    "print(f\"Labels batch shape: {train_labels.size()}\")"
   ]
  },
  {
   "cell_type": "markdown",
   "id": "62b0c00c",
   "metadata": {},
   "source": [
    "# 모델 설계"
   ]
  },
  {
   "cell_type": "markdown",
   "id": "9ef0b670",
   "metadata": {},
   "source": [
    "각각의 범위를 가진 시계열 데이터를 LSTM을 이용하여 추세를 확인한다.  \n",
    "각 시계열 데이터의 추세들을 모아 하나의 결과를 나타낸다. "
   ]
  },
  {
   "cell_type": "code",
   "execution_count": 178,
   "id": "1cc0e35f",
   "metadata": {},
   "outputs": [],
   "source": [
    "import torch.nn as nn\n",
    "import torch.nn.functional as F\n",
    "\n",
    "class sCNN(nn.Module):\n",
    "    def __init__(self, hidden_size, num_layers,seq_length):\n",
    "        super(sCNN, self).__init__()\n",
    "        self.num_layers = num_layers\n",
    "        self.hidden_size = hidden_size\n",
    "        \n",
    "        self.lstm1 = nn.LSTM(input_size = 5,hidden_size=hidden_size, num_layers=num_layers, batch_first=True, dropout=0.5)\n",
    "        self.lstm2 = nn.LSTM(input_size = 5,hidden_size=hidden_size, num_layers=num_layers, batch_first=True, dropout=0.5)\n",
    "        self.lstm3 = nn.LSTM(input_size = 5,hidden_size=hidden_size, num_layers=num_layers, batch_first=True, dropout=0.5)\n",
    "        self.lstm4 = nn.LSTM(input_size = 5,hidden_size=hidden_size, num_layers=num_layers, batch_first=True, dropout=0.5)\n",
    "        \n",
    "        self.conv1 = nn.Conv1d(in_channels=hidden_size*4, out_channels=4, kernel_size=10, stride=2)\n",
    "        self.conv2 = nn.Conv1d(in_channels=4, out_channels=1,kernel_size=3, stride=2)\n",
    "\n",
    "        self.fc1 = nn.Linear(10,1)\n",
    "                \n",
    "    def forward(self, x):\n",
    "        x = x.permute((1,0,2,3))\n",
    "        \n",
    "        x1, h1 = self.lstm1(x[3])\n",
    "        x2, h2 = self.lstm2(x[2], h1)\n",
    "        x3, h3 = self.lstm3(x[1], h2)\n",
    "        x4, _ = self.lstm4(x[0], h3)\n",
    "\n",
    "        x = torch.cat((x1,x2,x3,x4),2).permute((0,2,1))\n",
    "        x = self.conv1(x)\n",
    "        x = self.conv2(x)\n",
    "        x = self.fc1(x.flatten(1))\n",
    "        return x\n",
    "    \n",
    "model = sCNN(hidden_size = 10, num_layers = 3, seq_length = seq_length).to(device)"
   ]
  },
  {
   "cell_type": "markdown",
   "id": "931d01d7",
   "metadata": {},
   "source": [
    "# 모델 최적화"
   ]
  },
  {
   "cell_type": "code",
   "execution_count": 182,
   "id": "bb27da56",
   "metadata": {},
   "outputs": [],
   "source": [
    "import torch.optim as optim\n",
    "import torch.nn.functional as F\n",
    "\n",
    "optimizer = optim.SGD(model.parameters(), lr = 0.001)\n",
    "criterion = nn.CrossEntropyLoss()\n",
    "\n",
    "def fit(epoch, model, data_loader, phase):\n",
    "    if phase == 'train':\n",
    "        model.train()\n",
    "    if phase == 'valid':\n",
    "        model.eval()\n",
    "    \n",
    "    running_loss = 0.0\n",
    "    for batch_idx, (data, target) in enumerate(data_loader):\n",
    "        data, target = data.to(device), target.to(device)\n",
    "        \n",
    "        if phase == 'train':\n",
    "            optimizer.zero_grad()\n",
    "        output = model(data)\n",
    "        loss = criterion(output.permute(1,0), target.permute(1,0))\n",
    "        running_loss += loss.item()\n",
    "        \n",
    "        if phase == 'train':\n",
    "            loss.backward()\n",
    "            optimizer.step()\n",
    "        \n",
    "    loss = running_loss / len(data_loader.dataset)\n",
    "    \n",
    "    print (f'epoch:{epoch}, {phase}loss is {loss}')\n",
    "    return loss"
   ]
  },
  {
   "cell_type": "code",
   "execution_count": 183,
   "id": "054d7b4f",
   "metadata": {
    "scrolled": true
   },
   "outputs": [
    {
     "name": "stdout",
     "output_type": "stream",
     "text": [
      "epoch:0, trainloss is 0.00011444218020224225\n",
      "epoch:0, validloss is 0.00010508575463201851\n",
      "365.6587743759155\n",
      "epoch:1, trainloss is 0.00011431822250042687\n",
      "epoch:1, validloss is 0.00010461843208875507\n",
      "738.6276791095734\n",
      "epoch:2, trainloss is 0.00011501094415170601\n",
      "epoch:2, validloss is 0.00010415915925987065\n",
      "1114.4794573783875\n",
      "epoch:3, trainloss is 0.00011447367816316355\n",
      "epoch:3, validloss is 0.00010433113118167967\n",
      "1479.9806869029999\n",
      "epoch:4, trainloss is 0.00011442620059494206\n",
      "epoch:4, validloss is 0.00010423585448414087\n",
      "1850.0997247695923\n",
      "epoch:5, trainloss is 0.00011427930844121111\n",
      "epoch:5, validloss is 0.0001041908704675734\n",
      "2222.2397520542145\n",
      "epoch:6, trainloss is 0.00011444579265755254\n",
      "epoch:6, validloss is 0.0001048802741151303\n",
      "2589.690343618393\n",
      "epoch:7, trainloss is 0.00011455365158897856\n",
      "epoch:7, validloss is 0.00010630548182874917\n",
      "2955.927245616913\n",
      "epoch:8, trainloss is 0.00011445080646525558\n",
      "epoch:8, validloss is 0.00010447355120675639\n",
      "3319.782113313675\n",
      "epoch:9, trainloss is 0.00011423936428796474\n",
      "epoch:9, validloss is 0.00010456766492687166\n",
      "3673.3203732967377\n",
      "epoch:10, trainloss is 0.00011454469271897866\n",
      "epoch:10, validloss is 0.00010441658424213529\n",
      "4024.2388367652893\n",
      "epoch:11, trainloss is 0.00011423927415153489\n",
      "epoch:11, validloss is 0.0001042389538884163\n",
      "4374.90907907486\n",
      "epoch:12, trainloss is 0.00011425886308550879\n",
      "epoch:12, validloss is 0.00010431883363518864\n",
      "4749.2426590919495\n",
      "epoch:13, trainloss is 0.00011449528739881351\n",
      "epoch:13, validloss is 0.00010390290372306482\n",
      "5118.919453382492\n",
      "epoch:14, trainloss is 0.00011452079017018629\n",
      "epoch:14, validloss is 0.00010409687181003391\n",
      "5489.812387466431\n",
      "epoch:15, trainloss is 0.00011445726375380393\n",
      "epoch:15, validloss is 0.00010434069619514048\n",
      "5858.545245885849\n",
      "epoch:16, trainloss is 0.00011439297569772366\n",
      "epoch:16, validloss is 0.00010405191946774722\n",
      "6227.620992422104\n",
      "epoch:17, trainloss is 0.00011442721374266603\n",
      "epoch:17, validloss is 0.00010440324621507897\n",
      "6594.081196308136\n",
      "epoch:18, trainloss is 0.00011442132677778325\n",
      "epoch:18, validloss is 0.00010387968392577022\n",
      "6964.198493242264\n",
      "epoch:19, trainloss is 0.00011451096603067697\n",
      "epoch:19, validloss is 0.00010542905570473521\n",
      "7342.248126983643\n"
     ]
    }
   ],
   "source": [
    "path = \"./sCNN.pt\"\n",
    "# model = torch.load(path).to(device)\n",
    "losses = []\n",
    "val_losses = []\n",
    "start = time.time()\n",
    "for epoch in range(20):\n",
    "    epoch_loss = fit(epoch,model,train_dataloader, phase = 'train')\n",
    "    losses.append(epoch_loss)\n",
    "    val_epoch_loss = fit(epoch, model, test_dataloader, phase ='valid')\n",
    "    val_losses.append(val_epoch_loss)\n",
    "    torch.save(model,path)\n",
    "    print((time.time()-start)/60)"
   ]
  },
  {
   "cell_type": "code",
   "execution_count": 191,
   "id": "628c1517",
   "metadata": {},
   "outputs": [
    {
     "data": {
      "image/png": "[encoded data removed]",
      "text/plain": [
       "<Figure size 1080x360 with 2 Axes>"
      ]
     },
     "metadata": {
      "needs_background": "light"
     },
     "output_type": "display_data"
    }
   ],
   "source": [
    "f,ax = plt.subplots(1,2, figsize=(15,5))\n",
    "ax[0].plot(losses)\n",
    "ax[0].set_title('train losses')\n",
    "\n",
    "ax[1].plot(val_losses)\n",
    "ax[1].set_title('test losses')\n",
    "plt.show()"
   ]
  }
 ],
 "metadata": {
  "kernelspec": {
   "display_name": "Python 3 (ipykernel)",
   "language": "python",
   "name": "python3"
  },
  "language_info": {
   "codemirror_mode": {
    "name": "ipython",
    "version": 3
   },
   "file_extension": ".py",
   "mimetype": "text/x-python",
   "name": "python",
   "nbconvert_exporter": "python",
   "pygments_lexer": "ipython3",
   "version": "3.9.7"
  }
 },
 "nbformat": 4,
 "nbformat_minor": 5
}
