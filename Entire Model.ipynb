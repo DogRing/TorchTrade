{
 "cells": [
  {
   "cell_type": "code",
   "execution_count": 1,
   "id": "070a75a2",
   "metadata": {},
   "outputs": [],
   "source": [
    "import numpy as np\n",
    "import pandas as pd\n",
    "import matplotlib.pyplot as plt\n",
    "import datetime\n",
    "from IPython.display import clear_output\n",
    "import time\n",
    "\n",
    "from numpy.ctypeslib import ndpointer\n",
    "import ctypes\n",
    "\n",
    "%matplotlib inline\n",
    "\n",
    "import warnings\n",
    "warnings.filterwarnings('ignore')\n",
    "\n",
    "import glob"
   ]
  },
  {
   "cell_type": "markdown",
   "id": "e3d7fcce",
   "metadata": {},
   "source": [
    "# 입력 데이터\n",
    "각 데이터는 분단위의 시계열 데이터로 나타난다.  \n",
    "결측값은 interpolate로 채워 넣었으며, 총 1815958개의 행을 가지고 있다.  "
   ]
  },
  {
   "cell_type": "code",
   "execution_count": 2,
   "id": "b1262bf4",
   "metadata": {
    "scrolled": true
   },
   "outputs": [
    {
     "data": {
      "text/html": [
       "<div>\n",
       "<style scoped>\n",
       "    .dataframe tbody tr th:only-of-type {\n",
       "        vertical-align: middle;\n",
       "    }\n",
       "\n",
       "    .dataframe tbody tr th {\n",
       "        vertical-align: top;\n",
       "    }\n",
       "\n",
       "    .dataframe thead th {\n",
       "        text-align: right;\n",
       "    }\n",
       "</style>\n",
       "<table border=\"1\" class=\"dataframe\">\n",
       "  <thead>\n",
       "    <tr style=\"text-align: right;\">\n",
       "      <th></th>\n",
       "      <th>open</th>\n",
       "      <th>high</th>\n",
       "      <th>low</th>\n",
       "      <th>close</th>\n",
       "      <th>volume</th>\n",
       "    </tr>\n",
       "  </thead>\n",
       "  <tbody>\n",
       "    <tr>\n",
       "      <th>2018-09-19 23:50:00</th>\n",
       "      <td>7180000.0</td>\n",
       "      <td>7187000.0</td>\n",
       "      <td>7180000.0</td>\n",
       "      <td>7187000.0</td>\n",
       "      <td>0.504830</td>\n",
       "    </tr>\n",
       "    <tr>\n",
       "      <th>2018-09-19 23:51:00</th>\n",
       "      <td>7186000.0</td>\n",
       "      <td>7188000.0</td>\n",
       "      <td>7181000.0</td>\n",
       "      <td>7181000.0</td>\n",
       "      <td>0.882076</td>\n",
       "    </tr>\n",
       "    <tr>\n",
       "      <th>2018-09-19 23:52:00</th>\n",
       "      <td>7184000.0</td>\n",
       "      <td>7188000.0</td>\n",
       "      <td>7183000.0</td>\n",
       "      <td>7188000.0</td>\n",
       "      <td>0.486359</td>\n",
       "    </tr>\n",
       "    <tr>\n",
       "      <th>2018-09-19 23:53:00</th>\n",
       "      <td>7188000.0</td>\n",
       "      <td>7188000.0</td>\n",
       "      <td>7188000.0</td>\n",
       "      <td>7188000.0</td>\n",
       "      <td>0.002734</td>\n",
       "    </tr>\n",
       "    <tr>\n",
       "      <th>2018-09-19 23:54:00</th>\n",
       "      <td>7188000.0</td>\n",
       "      <td>7188000.0</td>\n",
       "      <td>7187000.0</td>\n",
       "      <td>7187000.0</td>\n",
       "      <td>0.006945</td>\n",
       "    </tr>\n",
       "  </tbody>\n",
       "</table>\n",
       "</div>"
      ],
      "text/plain": [
       "                          open       high        low      close    volume\n",
       "2018-09-19 23:50:00  7180000.0  7187000.0  7180000.0  7187000.0  0.504830\n",
       "2018-09-19 23:51:00  7186000.0  7188000.0  7181000.0  7181000.0  0.882076\n",
       "2018-09-19 23:52:00  7184000.0  7188000.0  7183000.0  7188000.0  0.486359\n",
       "2018-09-19 23:53:00  7188000.0  7188000.0  7188000.0  7188000.0  0.002734\n",
       "2018-09-19 23:54:00  7188000.0  7188000.0  7187000.0  7187000.0  0.006945"
      ]
     },
     "execution_count": 2,
     "metadata": {},
     "output_type": "execute_result"
    }
   ],
   "source": [
    "tickers = ['BTC', 'ETH', 'XRP', 'DOGE','ETC']\n",
    "path = './data/'+tickers[0]+'-M.csv'\n",
    "df = pd.read_csv(path,parse_dates=[0], index_col=[0])\n",
    "df.drop('value',axis=1, inplace=True)\n",
    "df.head(3)"
   ]
  },
  {
   "cell_type": "markdown",
   "id": "7ecdcbc5",
   "metadata": {},
   "source": [
    "### pred 열\n",
    "원하는 변동률에 도달하는 기간을 나타낸다.  \n",
    "상승의 경우 양수로, 하강의 경우 음수로 나타내며, 각 절대값은 도달하는 기간이다.  \n",
    "예) per(df, 0.05) 에서 2490의 경우 2490분 후에 5%만큼 상승한다는 것을 나타낸다.  "
   ]
  },
  {
   "cell_type": "markdown",
   "id": "4028d9ed",
   "metadata": {},
   "source": [
    "Python의 경우 속도가 느려 C언어를 이용한 동적 라이브러리를 사용하였다. "
   ]
  },
  {
   "cell_type": "code",
   "execution_count": 3,
   "id": "54550c1d",
   "metadata": {},
   "outputs": [],
   "source": [
    "from pymodule.dllMod import pred_per\n",
    "pred = pred_per(df, 0.05)"
   ]
  },
  {
   "cell_type": "markdown",
   "id": "cf743d45",
   "metadata": {},
   "source": [
    "# Custom DataSet 생성  \n",
    "dataloader로 변환  "
   ]
  },
  {
   "cell_type": "markdown",
   "id": "82ebab9c",
   "metadata": {},
   "source": [
    "### 전처리\n",
    "각 항목들을 직전에 대한 변동률을 %로 나타내었으며  \n",
    "예측값을 포함한 전부 절대값 최대의 나눗셈으로 정규화를 하였다. \n",
    "\n",
    "해당 정규화를 통해 예측값이 -1에 가까울수록 하향추세, 1에 가까울수록 상승추세를 나타낸다. "
   ]
  },
  {
   "cell_type": "code",
   "execution_count": 4,
   "id": "4306a71f",
   "metadata": {},
   "outputs": [],
   "source": [
    "from pymodule.dataMod import OHLCDataset\n",
    "dataset = OHLCDataset(df[10:-4], pred[10:-4], 50)"
   ]
  },
  {
   "cell_type": "markdown",
   "id": "ddfe6a43",
   "metadata": {},
   "source": [
    "해당 데이터를 분 데이터, 10분 데이터, 1시간 데이터, 일 데이터로 정규화하였으며,  \n",
    "모델의 입력 데이터는 4차원으로 쌓아서 나타낸다. "
   ]
  },
  {
   "cell_type": "code",
   "execution_count": 5,
   "id": "1da53c18",
   "metadata": {},
   "outputs": [
    {
     "name": "stdout",
     "output_type": "stream",
     "text": [
      "train dataset length : 1552374\n",
      "test dataset length : 262144\n"
     ]
    }
   ],
   "source": [
    "from torch.utils.data import DataLoader, random_split\n",
    "\n",
    "test_size = 262144\n",
    "train_set, test_set = random_split(dataset,[len(dataset)-test_size, test_size])\n",
    "print(f'train dataset length : {len(train_set)}')\n",
    "print(f'test dataset length : {len(test_set)}')\n",
    "\n",
    "train_dataloader = DataLoader(train_set, batch_size=256, shuffle=True, drop_last=True)\n",
    "test_dataloader = DataLoader(test_set, batch_size=128, shuffle=True, drop_last=True)"
   ]
  },
  {
   "cell_type": "code",
   "execution_count": 6,
   "id": "20d32e55",
   "metadata": {
    "scrolled": false
   },
   "outputs": [
    {
     "name": "stdout",
     "output_type": "stream",
     "text": [
      "Feature batch shape: torch.Size([256, 4, 50, 5])\n",
      "Labels batch shape: torch.Size([256, 1])\n"
     ]
    }
   ],
   "source": [
    "train_features, train_labels = next(iter(train_dataloader))\n",
    "print(f\"Feature batch shape: {train_features.size()}\")\n",
    "print(f\"Labels batch shape: {train_labels.size()}\")"
   ]
  },
  {
   "cell_type": "markdown",
   "id": "62b0c00c",
   "metadata": {},
   "source": [
    "# 모델 설계"
   ]
  },
  {
   "cell_type": "markdown",
   "id": "9ef0b670",
   "metadata": {},
   "source": [
    "각각의 범위를 가진 시계열 데이터를 LSTM을 이용하여 추세를 확인한다.  \n",
    "각 시계열 데이터의 추세들을 모아 하나의 결과를 나타낸다. "
   ]
  },
  {
   "cell_type": "code",
   "execution_count": 7,
   "id": "4ec9d6ae",
   "metadata": {},
   "outputs": [
    {
     "name": "stdout",
     "output_type": "stream",
     "text": [
      "cuda:0 is available\n"
     ]
    }
   ],
   "source": [
    "import torch\n",
    "device = torch.device('cuda:0' if torch.cuda.is_available() else 'cpu')\n",
    "print(f'{device} is available')"
   ]
  },
  {
   "cell_type": "code",
   "execution_count": 17,
   "id": "1cc0e35f",
   "metadata": {},
   "outputs": [],
   "source": [
    "import pymodule.models import sCNN\n",
    "\n",
    "seq_length = 50\n",
    "model = sCNN(hidden_size = 10, num_layers = 3, seq_length = seq_length).to(device)"
   ]
  },
  {
   "cell_type": "markdown",
   "id": "931d01d7",
   "metadata": {},
   "source": [
    "# 모델 최적화"
   ]
  },
  {
   "cell_type": "code",
   "execution_count": 11,
   "id": "bb27da56",
   "metadata": {},
   "outputs": [],
   "source": [
    "optimizer = optim.SGD(model.parameters(), lr = 0.001)\n",
    "criterion = nn.CrossEntropyLoss()"
   ]
  },
  {
   "cell_type": "code",
   "execution_count": 12,
   "id": "054d7b4f",
   "metadata": {
    "scrolled": true
   },
   "outputs": [
    {
     "name": "stdout",
     "output_type": "stream",
     "text": [
      "epoch:0, trainloss is 0.00012006025723943182\n",
      "epoch:0, validloss is 7.703703824635255e-05\n",
      "5.948517902692159\n",
      "epoch:1, trainloss is 0.00011997558805806684\n",
      "epoch:1, validloss is 7.703707806605564e-05\n",
      "11.952514938513438\n",
      "epoch:2, trainloss is 0.00011999635770293487\n",
      "epoch:2, validloss is 7.703688516791374e-05\n",
      "17.84411722024282\n",
      "epoch:3, trainloss is 0.00011986127009102735\n",
      "epoch:3, validloss is 7.703705541395323e-05\n",
      "23.794461898008983\n",
      "epoch:4, trainloss is 0.00011996444624214808\n",
      "epoch:4, validloss is 7.703687224847044e-05\n",
      "29.79577539364497\n",
      "epoch:5, trainloss is 0.00011991306676138117\n",
      "epoch:5, validloss is 7.703679787685047e-05\n",
      "35.750282442569734\n",
      "epoch:6, trainloss is 0.00012003200584137509\n",
      "epoch:6, validloss is 7.703668710679068e-05\n",
      "41.52036516269048\n",
      "epoch:7, trainloss is 0.00011995856967015822\n",
      "epoch:7, validloss is 7.703674379211378e-05\n",
      "47.24270743926366\n",
      "epoch:8, trainloss is 0.00012003159726174682\n",
      "epoch:8, validloss is 7.70366324456262e-05\n",
      "53.362304985523224\n",
      "epoch:9, trainloss is 0.00011993866040892086\n",
      "epoch:9, validloss is 7.703661515279236e-05\n",
      "59.28586364189784\n",
      "epoch:10, trainloss is 0.00012001121123833584\n",
      "epoch:10, validloss is 7.703665180613939e-05\n",
      "65.22631498177846\n",
      "epoch:11, trainloss is 0.00011983706453332202\n",
      "epoch:11, validloss is 7.703655818414035e-05\n",
      "71.27732963164648\n",
      "epoch:12, trainloss is 0.00011983863651205102\n",
      "epoch:12, validloss is 7.703653620616535e-05\n",
      "77.3058144569397\n",
      "epoch:13, trainloss is 0.00011999708565974431\n",
      "epoch:13, validloss is 7.703650943291507e-05\n",
      "83.33230236371358\n",
      "epoch:14, trainloss is 0.00012004179332846828\n",
      "epoch:14, validloss is 7.70365219229241e-05\n",
      "89.4141191482544\n",
      "epoch:15, trainloss is 0.00011996353506777057\n",
      "epoch:15, validloss is 7.703649030510462e-05\n",
      "95.44850888252259\n",
      "epoch:16, trainloss is 0.00012015389440738939\n",
      "epoch:16, validloss is 7.703630363309344e-05\n",
      "101.29863791465759\n",
      "epoch:17, trainloss is 0.00011989265487359807\n",
      "epoch:17, validloss is 7.703636856959406e-05\n",
      "107.16024576425552\n",
      "epoch:18, trainloss is 0.00012009171861622817\n",
      "epoch:18, validloss is 7.703633939826204e-05\n",
      "113.01190443833669\n",
      "epoch:19, trainloss is 0.00011997929176902466\n",
      "epoch:19, validloss is 7.703627470689867e-05\n",
      "119.08959934314092\n"
     ]
    }
   ],
   "source": [
    "from pymodule.models import fit\n",
    "\n",
    "path = \"./sCNN.pt\"\n",
    "# model = torch.load(path).to(device)\n",
    "losses = []\n",
    "val_losses = []\n",
    "start = time.time()\n",
    "for epoch in range(20):\n",
    "    epoch_loss = fit(epoch,model,train_dataloader, criterion, optimizer, phase = 'train')\n",
    "    losses.append(epoch_loss)\n",
    "    val_epoch_loss = fit(epoch, model, test_dataloader, criterion, optimizer, phase ='valid')\n",
    "    val_losses.append(val_epoch_loss)\n",
    "    torch.save(model,path)\n",
    "    print((time.time()-start)/60)"
   ]
  },
  {
   "cell_type": "code",
   "execution_count": 13,
   "id": "628c1517",
   "metadata": {},
   "outputs": [
    {
     "data": {
      "image/png": "[encoded data removed]",
      "text/plain": [
       "<Figure size 1080x360 with 2 Axes>"
      ]
     },
     "metadata": {
      "needs_background": "light"
     },
     "output_type": "display_data"
    }
   ],
   "source": [
    "f,ax = plt.subplots(1,2, figsize=(15,5))\n",
    "ax[0].plot(losses)\n",
    "ax[0].set_title('train losses')\n",
    "\n",
    "ax[1].plot(val_losses)\n",
    "ax[1].set_title('test losses')\n",
    "plt.show()"
   ]
  }
 ],
 "metadata": {
  "kernelspec": {
   "display_name": "Python 3 (ipykernel)",
   "language": "python",
   "name": "python3"
  },
  "language_info": {
   "codemirror_mode": {
    "name": "ipython",
    "version": 3
   },
   "file_extension": ".py",
   "mimetype": "text/x-python",
   "name": "python",
   "nbconvert_exporter": "python",
   "pygments_lexer": "ipython3",
   "version": "3.9.7"
  }
 },
 "nbformat": 4,
 "nbformat_minor": 5
}
